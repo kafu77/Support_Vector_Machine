{
  "nbformat": 4,
  "nbformat_minor": 0,
  "metadata": {
    "colab": {
      "provenance": []
    },
    "kernelspec": {
      "name": "python3",
      "display_name": "Python 3"
    },
    "language_info": {
      "name": "python"
    }
  },
  "cells": [
    {
      "cell_type": "markdown",
      "source": [
        "### Comparing Models\n",
        "\n",
        "Now that you have seen a variety of models for regression and classification problems, it is good to step back and weigh the pros and cons of these options.  In the case of classification models, there are at least three things to consider:\n",
        "\n",
        "1. Is the model good at handling imbalanced classes?\n",
        "2. Does the model train quickly?\n",
        "3. Does the model yield interpretable results?\n",
        "\n",
        "Depending on your dataset and goals, the importance of these considerations will vary from project to project.  Your goal is to review our models to this point and discuss the pros and cons of each.  Two example datasets are offered as a way to offer two very different tasks where interpretability of the model may be of differing importance."
      ],
      "metadata": {
        "id": "0fjbNjEau3uw"
      }
    },
    {
      "cell_type": "markdown",
      "source": [
        "### Data and Task\n",
        "\n",
        "Your goal is to discuss the pros and cons of Logistic Regression, Decision Trees, KNN, and SVM for the tasks below.  Consider at least the three questions above and list any additional considerations you believe are important to determining the \"best\" model for the task.  Share your response with your peers on the class discussion board.  \n",
        "\n",
        "**TASK 1**: Predicting Customer Churn\n",
        "\n",
        "Suppose you are tasked with producing a model to predict customer churn.  Which of your classification models would you use and what are the pros and cons of this model for this task?  Be sure to consider interpretability, imbalnced classes, and the speed of training."
      ],
      "metadata": {
        "id": "F-yPaeXdvJJJ"
      }
    },
    {
      "cell_type": "code",
      "source": [
        "#Data reading and visaulizing tools\n",
        "import numpy as np\n",
        "import math\n",
        "import time\n",
        "import pandas as pd\n",
        "import matplotlib.pyplot as plt\n",
        "import seaborn as sns\n",
        "import graphviz\n",
        "%matplotlib inline\n",
        "\n",
        "#preprocessing tools\n",
        "from sklearn.preprocessing import StandardScaler,OneHotEncoder, OrdinalEncoder, LabelEncoder, PolynomialFeatures\n",
        "from sklearn.impute import SimpleImputer,KNNImputer\n",
        "from sklearn.model_selection import train_test_split, GridSearchCV, RandomizedSearchCV\n",
        "from sklearn.pipeline import Pipeline, make_pipeline\n",
        "from sklearn.compose import ColumnTransformer, make_column_transformer, make_column_selector\n",
        "from sklearn.feature_selection import SelectFromModel, SequentialFeatureSelector\n",
        "from sklearn.tree import export_text, plot_tree,export_graphviz\n",
        "\n",
        "#models\n",
        "from sklearn.neighbors import KNeighborsClassifier\n",
        "from sklearn.tree import DecisionTreeClassifier\n",
        "from sklearn.linear_model import LogisticRegression\n",
        "from sklearn.svm import SVC\n",
        "\n",
        "#models performance evaulation tools\n",
        "from sklearn.metrics import accuracy_score, precision_score, recall_score\n",
        "from sklearn.metrics import confusion_matrix, classification_report\n",
        "from sklearn.metrics import precision_recall_curve, roc_curve\n",
        "from sklearn.metrics import ConfusionMatrixDisplay, RocCurveDisplay\n",
        "\n",
        "#additional tools\n",
        "from sklearn.metrics.pairwise import polynomial_kernel, rbf_kernel\n",
        "\n",
        "from sklearn import set_config\n",
        "set_config(display='diagram')"
      ],
      "metadata": {
        "id": "fJ3T3imOvESW"
      },
      "execution_count": null,
      "outputs": []
    },
    {
      "cell_type": "code",
      "source": [
        "churn=pd.read_csv('/content/drive/MyDrive/SVM/telecom_churn.csv')"
      ],
      "metadata": {
        "id": "ZwR8kAwv-CNK"
      },
      "execution_count": null,
      "outputs": []
    },
    {
      "cell_type": "code",
      "source": [
        "#churn data\n",
        "churn.head()"
      ],
      "metadata": {
        "colab": {
          "base_uri": "https://localhost:8080/",
          "height": 285
        },
        "id": "7UayoEzj-fha",
        "outputId": "22268590-e653-4676-abcb-6aab66137a39"
      },
      "execution_count": null,
      "outputs": [
        {
          "output_type": "execute_result",
          "data": {
            "text/plain": [
              "  State  Account length  Area code International plan Voice mail plan  \\\n",
              "0    KS             128        415                 No             Yes   \n",
              "1    OH             107        415                 No             Yes   \n",
              "2    NJ             137        415                 No              No   \n",
              "3    OH              84        408                Yes              No   \n",
              "4    OK              75        415                Yes              No   \n",
              "\n",
              "   Number vmail messages  Total day minutes  Total day calls  \\\n",
              "0                     25              265.1              110   \n",
              "1                     26              161.6              123   \n",
              "2                      0              243.4              114   \n",
              "3                      0              299.4               71   \n",
              "4                      0              166.7              113   \n",
              "\n",
              "   Total day charge  Total eve minutes  Total eve calls  Total eve charge  \\\n",
              "0             45.07              197.4               99             16.78   \n",
              "1             27.47              195.5              103             16.62   \n",
              "2             41.38              121.2              110             10.30   \n",
              "3             50.90               61.9               88              5.26   \n",
              "4             28.34              148.3              122             12.61   \n",
              "\n",
              "   Total night minutes  Total night calls  Total night charge  \\\n",
              "0                244.7                 91               11.01   \n",
              "1                254.4                103               11.45   \n",
              "2                162.6                104                7.32   \n",
              "3                196.9                 89                8.86   \n",
              "4                186.9                121                8.41   \n",
              "\n",
              "   Total intl minutes  Total intl calls  Total intl charge  \\\n",
              "0                10.0                 3               2.70   \n",
              "1                13.7                 3               3.70   \n",
              "2                12.2                 5               3.29   \n",
              "3                 6.6                 7               1.78   \n",
              "4                10.1                 3               2.73   \n",
              "\n",
              "   Customer service calls  Churn  \n",
              "0                       1  False  \n",
              "1                       1  False  \n",
              "2                       0  False  \n",
              "3                       2  False  \n",
              "4                       3  False  "
            ],
            "text/html": [
              "\n",
              "  <div id=\"df-8e55ed00-b716-4a8c-a22e-61f9eeeaa5a7\">\n",
              "    <div class=\"colab-df-container\">\n",
              "      <div>\n",
              "<style scoped>\n",
              "    .dataframe tbody tr th:only-of-type {\n",
              "        vertical-align: middle;\n",
              "    }\n",
              "\n",
              "    .dataframe tbody tr th {\n",
              "        vertical-align: top;\n",
              "    }\n",
              "\n",
              "    .dataframe thead th {\n",
              "        text-align: right;\n",
              "    }\n",
              "</style>\n",
              "<table border=\"1\" class=\"dataframe\">\n",
              "  <thead>\n",
              "    <tr style=\"text-align: right;\">\n",
              "      <th></th>\n",
              "      <th>State</th>\n",
              "      <th>Account length</th>\n",
              "      <th>Area code</th>\n",
              "      <th>International plan</th>\n",
              "      <th>Voice mail plan</th>\n",
              "      <th>Number vmail messages</th>\n",
              "      <th>Total day minutes</th>\n",
              "      <th>Total day calls</th>\n",
              "      <th>Total day charge</th>\n",
              "      <th>Total eve minutes</th>\n",
              "      <th>Total eve calls</th>\n",
              "      <th>Total eve charge</th>\n",
              "      <th>Total night minutes</th>\n",
              "      <th>Total night calls</th>\n",
              "      <th>Total night charge</th>\n",
              "      <th>Total intl minutes</th>\n",
              "      <th>Total intl calls</th>\n",
              "      <th>Total intl charge</th>\n",
              "      <th>Customer service calls</th>\n",
              "      <th>Churn</th>\n",
              "    </tr>\n",
              "  </thead>\n",
              "  <tbody>\n",
              "    <tr>\n",
              "      <th>0</th>\n",
              "      <td>KS</td>\n",
              "      <td>128</td>\n",
              "      <td>415</td>\n",
              "      <td>No</td>\n",
              "      <td>Yes</td>\n",
              "      <td>25</td>\n",
              "      <td>265.1</td>\n",
              "      <td>110</td>\n",
              "      <td>45.07</td>\n",
              "      <td>197.4</td>\n",
              "      <td>99</td>\n",
              "      <td>16.78</td>\n",
              "      <td>244.7</td>\n",
              "      <td>91</td>\n",
              "      <td>11.01</td>\n",
              "      <td>10.0</td>\n",
              "      <td>3</td>\n",
              "      <td>2.70</td>\n",
              "      <td>1</td>\n",
              "      <td>False</td>\n",
              "    </tr>\n",
              "    <tr>\n",
              "      <th>1</th>\n",
              "      <td>OH</td>\n",
              "      <td>107</td>\n",
              "      <td>415</td>\n",
              "      <td>No</td>\n",
              "      <td>Yes</td>\n",
              "      <td>26</td>\n",
              "      <td>161.6</td>\n",
              "      <td>123</td>\n",
              "      <td>27.47</td>\n",
              "      <td>195.5</td>\n",
              "      <td>103</td>\n",
              "      <td>16.62</td>\n",
              "      <td>254.4</td>\n",
              "      <td>103</td>\n",
              "      <td>11.45</td>\n",
              "      <td>13.7</td>\n",
              "      <td>3</td>\n",
              "      <td>3.70</td>\n",
              "      <td>1</td>\n",
              "      <td>False</td>\n",
              "    </tr>\n",
              "    <tr>\n",
              "      <th>2</th>\n",
              "      <td>NJ</td>\n",
              "      <td>137</td>\n",
              "      <td>415</td>\n",
              "      <td>No</td>\n",
              "      <td>No</td>\n",
              "      <td>0</td>\n",
              "      <td>243.4</td>\n",
              "      <td>114</td>\n",
              "      <td>41.38</td>\n",
              "      <td>121.2</td>\n",
              "      <td>110</td>\n",
              "      <td>10.30</td>\n",
              "      <td>162.6</td>\n",
              "      <td>104</td>\n",
              "      <td>7.32</td>\n",
              "      <td>12.2</td>\n",
              "      <td>5</td>\n",
              "      <td>3.29</td>\n",
              "      <td>0</td>\n",
              "      <td>False</td>\n",
              "    </tr>\n",
              "    <tr>\n",
              "      <th>3</th>\n",
              "      <td>OH</td>\n",
              "      <td>84</td>\n",
              "      <td>408</td>\n",
              "      <td>Yes</td>\n",
              "      <td>No</td>\n",
              "      <td>0</td>\n",
              "      <td>299.4</td>\n",
              "      <td>71</td>\n",
              "      <td>50.90</td>\n",
              "      <td>61.9</td>\n",
              "      <td>88</td>\n",
              "      <td>5.26</td>\n",
              "      <td>196.9</td>\n",
              "      <td>89</td>\n",
              "      <td>8.86</td>\n",
              "      <td>6.6</td>\n",
              "      <td>7</td>\n",
              "      <td>1.78</td>\n",
              "      <td>2</td>\n",
              "      <td>False</td>\n",
              "    </tr>\n",
              "    <tr>\n",
              "      <th>4</th>\n",
              "      <td>OK</td>\n",
              "      <td>75</td>\n",
              "      <td>415</td>\n",
              "      <td>Yes</td>\n",
              "      <td>No</td>\n",
              "      <td>0</td>\n",
              "      <td>166.7</td>\n",
              "      <td>113</td>\n",
              "      <td>28.34</td>\n",
              "      <td>148.3</td>\n",
              "      <td>122</td>\n",
              "      <td>12.61</td>\n",
              "      <td>186.9</td>\n",
              "      <td>121</td>\n",
              "      <td>8.41</td>\n",
              "      <td>10.1</td>\n",
              "      <td>3</td>\n",
              "      <td>2.73</td>\n",
              "      <td>3</td>\n",
              "      <td>False</td>\n",
              "    </tr>\n",
              "  </tbody>\n",
              "</table>\n",
              "</div>\n",
              "      <button class=\"colab-df-convert\" onclick=\"convertToInteractive('df-8e55ed00-b716-4a8c-a22e-61f9eeeaa5a7')\"\n",
              "              title=\"Convert this dataframe to an interactive table.\"\n",
              "              style=\"display:none;\">\n",
              "        \n",
              "  <svg xmlns=\"http://www.w3.org/2000/svg\" height=\"24px\"viewBox=\"0 0 24 24\"\n",
              "       width=\"24px\">\n",
              "    <path d=\"M0 0h24v24H0V0z\" fill=\"none\"/>\n",
              "    <path d=\"M18.56 5.44l.94 2.06.94-2.06 2.06-.94-2.06-.94-.94-2.06-.94 2.06-2.06.94zm-11 1L8.5 8.5l.94-2.06 2.06-.94-2.06-.94L8.5 2.5l-.94 2.06-2.06.94zm10 10l.94 2.06.94-2.06 2.06-.94-2.06-.94-.94-2.06-.94 2.06-2.06.94z\"/><path d=\"M17.41 7.96l-1.37-1.37c-.4-.4-.92-.59-1.43-.59-.52 0-1.04.2-1.43.59L10.3 9.45l-7.72 7.72c-.78.78-.78 2.05 0 2.83L4 21.41c.39.39.9.59 1.41.59.51 0 1.02-.2 1.41-.59l7.78-7.78 2.81-2.81c.8-.78.8-2.07 0-2.86zM5.41 20L4 18.59l7.72-7.72 1.47 1.35L5.41 20z\"/>\n",
              "  </svg>\n",
              "      </button>\n",
              "      \n",
              "  <style>\n",
              "    .colab-df-container {\n",
              "      display:flex;\n",
              "      flex-wrap:wrap;\n",
              "      gap: 12px;\n",
              "    }\n",
              "\n",
              "    .colab-df-convert {\n",
              "      background-color: #E8F0FE;\n",
              "      border: none;\n",
              "      border-radius: 50%;\n",
              "      cursor: pointer;\n",
              "      display: none;\n",
              "      fill: #1967D2;\n",
              "      height: 32px;\n",
              "      padding: 0 0 0 0;\n",
              "      width: 32px;\n",
              "    }\n",
              "\n",
              "    .colab-df-convert:hover {\n",
              "      background-color: #E2EBFA;\n",
              "      box-shadow: 0px 1px 2px rgba(60, 64, 67, 0.3), 0px 1px 3px 1px rgba(60, 64, 67, 0.15);\n",
              "      fill: #174EA6;\n",
              "    }\n",
              "\n",
              "    [theme=dark] .colab-df-convert {\n",
              "      background-color: #3B4455;\n",
              "      fill: #D2E3FC;\n",
              "    }\n",
              "\n",
              "    [theme=dark] .colab-df-convert:hover {\n",
              "      background-color: #434B5C;\n",
              "      box-shadow: 0px 1px 3px 1px rgba(0, 0, 0, 0.15);\n",
              "      filter: drop-shadow(0px 1px 2px rgba(0, 0, 0, 0.3));\n",
              "      fill: #FFFFFF;\n",
              "    }\n",
              "  </style>\n",
              "\n",
              "      <script>\n",
              "        const buttonEl =\n",
              "          document.querySelector('#df-8e55ed00-b716-4a8c-a22e-61f9eeeaa5a7 button.colab-df-convert');\n",
              "        buttonEl.style.display =\n",
              "          google.colab.kernel.accessAllowed ? 'block' : 'none';\n",
              "\n",
              "        async function convertToInteractive(key) {\n",
              "          const element = document.querySelector('#df-8e55ed00-b716-4a8c-a22e-61f9eeeaa5a7');\n",
              "          const dataTable =\n",
              "            await google.colab.kernel.invokeFunction('convertToInteractive',\n",
              "                                                     [key], {});\n",
              "          if (!dataTable) return;\n",
              "\n",
              "          const docLinkHtml = 'Like what you see? Visit the ' +\n",
              "            '<a target=\"_blank\" href=https://colab.research.google.com/notebooks/data_table.ipynb>data table notebook</a>'\n",
              "            + ' to learn more about interactive tables.';\n",
              "          element.innerHTML = '';\n",
              "          dataTable['output_type'] = 'display_data';\n",
              "          await google.colab.output.renderOutput(dataTable, element);\n",
              "          const docLink = document.createElement('div');\n",
              "          docLink.innerHTML = docLinkHtml;\n",
              "          element.appendChild(docLink);\n",
              "        }\n",
              "      </script>\n",
              "    </div>\n",
              "  </div>\n",
              "  "
            ]
          },
          "metadata": {},
          "execution_count": 35
        }
      ]
    },
    {
      "cell_type": "code",
      "source": [
        "churn.shape"
      ],
      "metadata": {
        "colab": {
          "base_uri": "https://localhost:8080/"
        },
        "id": "07AYH3z9-kJg",
        "outputId": "db3b3fa4-5a35-4bf4-b5b6-05a1d26543b6"
      },
      "execution_count": null,
      "outputs": [
        {
          "output_type": "execute_result",
          "data": {
            "text/plain": [
              "(3333, 20)"
            ]
          },
          "metadata": {},
          "execution_count": 4
        }
      ]
    },
    {
      "cell_type": "code",
      "source": [],
      "metadata": {
        "id": "MrwHD1e_-m1z"
      },
      "execution_count": null,
      "outputs": []
    },
    {
      "cell_type": "markdown",
      "source": [
        "### EDA"
      ],
      "metadata": {
        "id": "1opYvPaP-n3N"
      }
    },
    {
      "cell_type": "code",
      "source": [
        "churn.info()"
      ],
      "metadata": {
        "colab": {
          "base_uri": "https://localhost:8080/"
        },
        "id": "6Oh-re-e-pnN",
        "outputId": "a45850be-abdd-4bba-e045-225272dfd23f"
      },
      "execution_count": null,
      "outputs": [
        {
          "output_type": "stream",
          "name": "stdout",
          "text": [
            "<class 'pandas.core.frame.DataFrame'>\n",
            "RangeIndex: 3333 entries, 0 to 3332\n",
            "Data columns (total 20 columns):\n",
            " #   Column                  Non-Null Count  Dtype  \n",
            "---  ------                  --------------  -----  \n",
            " 0   State                   3333 non-null   object \n",
            " 1   Account length          3333 non-null   int64  \n",
            " 2   Area code               3333 non-null   int64  \n",
            " 3   International plan      3333 non-null   object \n",
            " 4   Voice mail plan         3333 non-null   object \n",
            " 5   Number vmail messages   3333 non-null   int64  \n",
            " 6   Total day minutes       3333 non-null   float64\n",
            " 7   Total day calls         3333 non-null   int64  \n",
            " 8   Total day charge        3333 non-null   float64\n",
            " 9   Total eve minutes       3333 non-null   float64\n",
            " 10  Total eve calls         3333 non-null   int64  \n",
            " 11  Total eve charge        3333 non-null   float64\n",
            " 12  Total night minutes     3333 non-null   float64\n",
            " 13  Total night calls       3333 non-null   int64  \n",
            " 14  Total night charge      3333 non-null   float64\n",
            " 15  Total intl minutes      3333 non-null   float64\n",
            " 16  Total intl calls        3333 non-null   int64  \n",
            " 17  Total intl charge       3333 non-null   float64\n",
            " 18  Customer service calls  3333 non-null   int64  \n",
            " 19  Churn                   3333 non-null   bool   \n",
            "dtypes: bool(1), float64(8), int64(8), object(3)\n",
            "memory usage: 498.1+ KB\n"
          ]
        }
      ]
    },
    {
      "cell_type": "code",
      "source": [
        "churn.describe()"
      ],
      "metadata": {
        "colab": {
          "base_uri": "https://localhost:8080/",
          "height": 399
        },
        "id": "eTcvWH6a-rrJ",
        "outputId": "33ea61cb-f46f-44f5-c2c7-1e803ddb4256"
      },
      "execution_count": null,
      "outputs": [
        {
          "output_type": "execute_result",
          "data": {
            "text/plain": [
              "       Account length    Area code  Number vmail messages  Total day minutes  \\\n",
              "count     3333.000000  3333.000000            3333.000000        3333.000000   \n",
              "mean       101.064806   437.182418               8.099010         179.775098   \n",
              "std         39.822106    42.371290              13.688365          54.467389   \n",
              "min          1.000000   408.000000               0.000000           0.000000   \n",
              "25%         74.000000   408.000000               0.000000         143.700000   \n",
              "50%        101.000000   415.000000               0.000000         179.400000   \n",
              "75%        127.000000   510.000000              20.000000         216.400000   \n",
              "max        243.000000   510.000000              51.000000         350.800000   \n",
              "\n",
              "       Total day calls  Total day charge  Total eve minutes  Total eve calls  \\\n",
              "count      3333.000000       3333.000000        3333.000000      3333.000000   \n",
              "mean        100.435644         30.562307         200.980348       100.114311   \n",
              "std          20.069084          9.259435          50.713844        19.922625   \n",
              "min           0.000000          0.000000           0.000000         0.000000   \n",
              "25%          87.000000         24.430000         166.600000        87.000000   \n",
              "50%         101.000000         30.500000         201.400000       100.000000   \n",
              "75%         114.000000         36.790000         235.300000       114.000000   \n",
              "max         165.000000         59.640000         363.700000       170.000000   \n",
              "\n",
              "       Total eve charge  Total night minutes  Total night calls  \\\n",
              "count       3333.000000          3333.000000        3333.000000   \n",
              "mean          17.083540           200.872037         100.107711   \n",
              "std            4.310668            50.573847          19.568609   \n",
              "min            0.000000            23.200000          33.000000   \n",
              "25%           14.160000           167.000000          87.000000   \n",
              "50%           17.120000           201.200000         100.000000   \n",
              "75%           20.000000           235.300000         113.000000   \n",
              "max           30.910000           395.000000         175.000000   \n",
              "\n",
              "       Total night charge  Total intl minutes  Total intl calls  \\\n",
              "count         3333.000000         3333.000000       3333.000000   \n",
              "mean             9.039325           10.237294          4.479448   \n",
              "std              2.275873            2.791840          2.461214   \n",
              "min              1.040000            0.000000          0.000000   \n",
              "25%              7.520000            8.500000          3.000000   \n",
              "50%              9.050000           10.300000          4.000000   \n",
              "75%             10.590000           12.100000          6.000000   \n",
              "max             17.770000           20.000000         20.000000   \n",
              "\n",
              "       Total intl charge  Customer service calls  \n",
              "count        3333.000000             3333.000000  \n",
              "mean            2.764581                1.562856  \n",
              "std             0.753773                1.315491  \n",
              "min             0.000000                0.000000  \n",
              "25%             2.300000                1.000000  \n",
              "50%             2.780000                1.000000  \n",
              "75%             3.270000                2.000000  \n",
              "max             5.400000                9.000000  "
            ],
            "text/html": [
              "\n",
              "  <div id=\"df-77af80a0-3e53-418f-a0e5-11aa74fa8c9e\">\n",
              "    <div class=\"colab-df-container\">\n",
              "      <div>\n",
              "<style scoped>\n",
              "    .dataframe tbody tr th:only-of-type {\n",
              "        vertical-align: middle;\n",
              "    }\n",
              "\n",
              "    .dataframe tbody tr th {\n",
              "        vertical-align: top;\n",
              "    }\n",
              "\n",
              "    .dataframe thead th {\n",
              "        text-align: right;\n",
              "    }\n",
              "</style>\n",
              "<table border=\"1\" class=\"dataframe\">\n",
              "  <thead>\n",
              "    <tr style=\"text-align: right;\">\n",
              "      <th></th>\n",
              "      <th>Account length</th>\n",
              "      <th>Area code</th>\n",
              "      <th>Number vmail messages</th>\n",
              "      <th>Total day minutes</th>\n",
              "      <th>Total day calls</th>\n",
              "      <th>Total day charge</th>\n",
              "      <th>Total eve minutes</th>\n",
              "      <th>Total eve calls</th>\n",
              "      <th>Total eve charge</th>\n",
              "      <th>Total night minutes</th>\n",
              "      <th>Total night calls</th>\n",
              "      <th>Total night charge</th>\n",
              "      <th>Total intl minutes</th>\n",
              "      <th>Total intl calls</th>\n",
              "      <th>Total intl charge</th>\n",
              "      <th>Customer service calls</th>\n",
              "    </tr>\n",
              "  </thead>\n",
              "  <tbody>\n",
              "    <tr>\n",
              "      <th>count</th>\n",
              "      <td>3333.000000</td>\n",
              "      <td>3333.000000</td>\n",
              "      <td>3333.000000</td>\n",
              "      <td>3333.000000</td>\n",
              "      <td>3333.000000</td>\n",
              "      <td>3333.000000</td>\n",
              "      <td>3333.000000</td>\n",
              "      <td>3333.000000</td>\n",
              "      <td>3333.000000</td>\n",
              "      <td>3333.000000</td>\n",
              "      <td>3333.000000</td>\n",
              "      <td>3333.000000</td>\n",
              "      <td>3333.000000</td>\n",
              "      <td>3333.000000</td>\n",
              "      <td>3333.000000</td>\n",
              "      <td>3333.000000</td>\n",
              "    </tr>\n",
              "    <tr>\n",
              "      <th>mean</th>\n",
              "      <td>101.064806</td>\n",
              "      <td>437.182418</td>\n",
              "      <td>8.099010</td>\n",
              "      <td>179.775098</td>\n",
              "      <td>100.435644</td>\n",
              "      <td>30.562307</td>\n",
              "      <td>200.980348</td>\n",
              "      <td>100.114311</td>\n",
              "      <td>17.083540</td>\n",
              "      <td>200.872037</td>\n",
              "      <td>100.107711</td>\n",
              "      <td>9.039325</td>\n",
              "      <td>10.237294</td>\n",
              "      <td>4.479448</td>\n",
              "      <td>2.764581</td>\n",
              "      <td>1.562856</td>\n",
              "    </tr>\n",
              "    <tr>\n",
              "      <th>std</th>\n",
              "      <td>39.822106</td>\n",
              "      <td>42.371290</td>\n",
              "      <td>13.688365</td>\n",
              "      <td>54.467389</td>\n",
              "      <td>20.069084</td>\n",
              "      <td>9.259435</td>\n",
              "      <td>50.713844</td>\n",
              "      <td>19.922625</td>\n",
              "      <td>4.310668</td>\n",
              "      <td>50.573847</td>\n",
              "      <td>19.568609</td>\n",
              "      <td>2.275873</td>\n",
              "      <td>2.791840</td>\n",
              "      <td>2.461214</td>\n",
              "      <td>0.753773</td>\n",
              "      <td>1.315491</td>\n",
              "    </tr>\n",
              "    <tr>\n",
              "      <th>min</th>\n",
              "      <td>1.000000</td>\n",
              "      <td>408.000000</td>\n",
              "      <td>0.000000</td>\n",
              "      <td>0.000000</td>\n",
              "      <td>0.000000</td>\n",
              "      <td>0.000000</td>\n",
              "      <td>0.000000</td>\n",
              "      <td>0.000000</td>\n",
              "      <td>0.000000</td>\n",
              "      <td>23.200000</td>\n",
              "      <td>33.000000</td>\n",
              "      <td>1.040000</td>\n",
              "      <td>0.000000</td>\n",
              "      <td>0.000000</td>\n",
              "      <td>0.000000</td>\n",
              "      <td>0.000000</td>\n",
              "    </tr>\n",
              "    <tr>\n",
              "      <th>25%</th>\n",
              "      <td>74.000000</td>\n",
              "      <td>408.000000</td>\n",
              "      <td>0.000000</td>\n",
              "      <td>143.700000</td>\n",
              "      <td>87.000000</td>\n",
              "      <td>24.430000</td>\n",
              "      <td>166.600000</td>\n",
              "      <td>87.000000</td>\n",
              "      <td>14.160000</td>\n",
              "      <td>167.000000</td>\n",
              "      <td>87.000000</td>\n",
              "      <td>7.520000</td>\n",
              "      <td>8.500000</td>\n",
              "      <td>3.000000</td>\n",
              "      <td>2.300000</td>\n",
              "      <td>1.000000</td>\n",
              "    </tr>\n",
              "    <tr>\n",
              "      <th>50%</th>\n",
              "      <td>101.000000</td>\n",
              "      <td>415.000000</td>\n",
              "      <td>0.000000</td>\n",
              "      <td>179.400000</td>\n",
              "      <td>101.000000</td>\n",
              "      <td>30.500000</td>\n",
              "      <td>201.400000</td>\n",
              "      <td>100.000000</td>\n",
              "      <td>17.120000</td>\n",
              "      <td>201.200000</td>\n",
              "      <td>100.000000</td>\n",
              "      <td>9.050000</td>\n",
              "      <td>10.300000</td>\n",
              "      <td>4.000000</td>\n",
              "      <td>2.780000</td>\n",
              "      <td>1.000000</td>\n",
              "    </tr>\n",
              "    <tr>\n",
              "      <th>75%</th>\n",
              "      <td>127.000000</td>\n",
              "      <td>510.000000</td>\n",
              "      <td>20.000000</td>\n",
              "      <td>216.400000</td>\n",
              "      <td>114.000000</td>\n",
              "      <td>36.790000</td>\n",
              "      <td>235.300000</td>\n",
              "      <td>114.000000</td>\n",
              "      <td>20.000000</td>\n",
              "      <td>235.300000</td>\n",
              "      <td>113.000000</td>\n",
              "      <td>10.590000</td>\n",
              "      <td>12.100000</td>\n",
              "      <td>6.000000</td>\n",
              "      <td>3.270000</td>\n",
              "      <td>2.000000</td>\n",
              "    </tr>\n",
              "    <tr>\n",
              "      <th>max</th>\n",
              "      <td>243.000000</td>\n",
              "      <td>510.000000</td>\n",
              "      <td>51.000000</td>\n",
              "      <td>350.800000</td>\n",
              "      <td>165.000000</td>\n",
              "      <td>59.640000</td>\n",
              "      <td>363.700000</td>\n",
              "      <td>170.000000</td>\n",
              "      <td>30.910000</td>\n",
              "      <td>395.000000</td>\n",
              "      <td>175.000000</td>\n",
              "      <td>17.770000</td>\n",
              "      <td>20.000000</td>\n",
              "      <td>20.000000</td>\n",
              "      <td>5.400000</td>\n",
              "      <td>9.000000</td>\n",
              "    </tr>\n",
              "  </tbody>\n",
              "</table>\n",
              "</div>\n",
              "      <button class=\"colab-df-convert\" onclick=\"convertToInteractive('df-77af80a0-3e53-418f-a0e5-11aa74fa8c9e')\"\n",
              "              title=\"Convert this dataframe to an interactive table.\"\n",
              "              style=\"display:none;\">\n",
              "        \n",
              "  <svg xmlns=\"http://www.w3.org/2000/svg\" height=\"24px\"viewBox=\"0 0 24 24\"\n",
              "       width=\"24px\">\n",
              "    <path d=\"M0 0h24v24H0V0z\" fill=\"none\"/>\n",
              "    <path d=\"M18.56 5.44l.94 2.06.94-2.06 2.06-.94-2.06-.94-.94-2.06-.94 2.06-2.06.94zm-11 1L8.5 8.5l.94-2.06 2.06-.94-2.06-.94L8.5 2.5l-.94 2.06-2.06.94zm10 10l.94 2.06.94-2.06 2.06-.94-2.06-.94-.94-2.06-.94 2.06-2.06.94z\"/><path d=\"M17.41 7.96l-1.37-1.37c-.4-.4-.92-.59-1.43-.59-.52 0-1.04.2-1.43.59L10.3 9.45l-7.72 7.72c-.78.78-.78 2.05 0 2.83L4 21.41c.39.39.9.59 1.41.59.51 0 1.02-.2 1.41-.59l7.78-7.78 2.81-2.81c.8-.78.8-2.07 0-2.86zM5.41 20L4 18.59l7.72-7.72 1.47 1.35L5.41 20z\"/>\n",
              "  </svg>\n",
              "      </button>\n",
              "      \n",
              "  <style>\n",
              "    .colab-df-container {\n",
              "      display:flex;\n",
              "      flex-wrap:wrap;\n",
              "      gap: 12px;\n",
              "    }\n",
              "\n",
              "    .colab-df-convert {\n",
              "      background-color: #E8F0FE;\n",
              "      border: none;\n",
              "      border-radius: 50%;\n",
              "      cursor: pointer;\n",
              "      display: none;\n",
              "      fill: #1967D2;\n",
              "      height: 32px;\n",
              "      padding: 0 0 0 0;\n",
              "      width: 32px;\n",
              "    }\n",
              "\n",
              "    .colab-df-convert:hover {\n",
              "      background-color: #E2EBFA;\n",
              "      box-shadow: 0px 1px 2px rgba(60, 64, 67, 0.3), 0px 1px 3px 1px rgba(60, 64, 67, 0.15);\n",
              "      fill: #174EA6;\n",
              "    }\n",
              "\n",
              "    [theme=dark] .colab-df-convert {\n",
              "      background-color: #3B4455;\n",
              "      fill: #D2E3FC;\n",
              "    }\n",
              "\n",
              "    [theme=dark] .colab-df-convert:hover {\n",
              "      background-color: #434B5C;\n",
              "      box-shadow: 0px 1px 3px 1px rgba(0, 0, 0, 0.15);\n",
              "      filter: drop-shadow(0px 1px 2px rgba(0, 0, 0, 0.3));\n",
              "      fill: #FFFFFF;\n",
              "    }\n",
              "  </style>\n",
              "\n",
              "      <script>\n",
              "        const buttonEl =\n",
              "          document.querySelector('#df-77af80a0-3e53-418f-a0e5-11aa74fa8c9e button.colab-df-convert');\n",
              "        buttonEl.style.display =\n",
              "          google.colab.kernel.accessAllowed ? 'block' : 'none';\n",
              "\n",
              "        async function convertToInteractive(key) {\n",
              "          const element = document.querySelector('#df-77af80a0-3e53-418f-a0e5-11aa74fa8c9e');\n",
              "          const dataTable =\n",
              "            await google.colab.kernel.invokeFunction('convertToInteractive',\n",
              "                                                     [key], {});\n",
              "          if (!dataTable) return;\n",
              "\n",
              "          const docLinkHtml = 'Like what you see? Visit the ' +\n",
              "            '<a target=\"_blank\" href=https://colab.research.google.com/notebooks/data_table.ipynb>data table notebook</a>'\n",
              "            + ' to learn more about interactive tables.';\n",
              "          element.innerHTML = '';\n",
              "          dataTable['output_type'] = 'display_data';\n",
              "          await google.colab.output.renderOutput(dataTable, element);\n",
              "          const docLink = document.createElement('div');\n",
              "          docLink.innerHTML = docLinkHtml;\n",
              "          element.appendChild(docLink);\n",
              "        }\n",
              "      </script>\n",
              "    </div>\n",
              "  </div>\n",
              "  "
            ]
          },
          "metadata": {},
          "execution_count": 6
        }
      ]
    },
    {
      "cell_type": "code",
      "source": [
        "# checking missing values\n",
        "churn.isnull().sum()"
      ],
      "metadata": {
        "colab": {
          "base_uri": "https://localhost:8080/"
        },
        "id": "5dOIai28-vek",
        "outputId": "2a72cb53-c475-4ccf-8df0-61f68a6202fd"
      },
      "execution_count": null,
      "outputs": [
        {
          "output_type": "execute_result",
          "data": {
            "text/plain": [
              "State                     0\n",
              "Account length            0\n",
              "Area code                 0\n",
              "International plan        0\n",
              "Voice mail plan           0\n",
              "Number vmail messages     0\n",
              "Total day minutes         0\n",
              "Total day calls           0\n",
              "Total day charge          0\n",
              "Total eve minutes         0\n",
              "Total eve calls           0\n",
              "Total eve charge          0\n",
              "Total night minutes       0\n",
              "Total night calls         0\n",
              "Total night charge        0\n",
              "Total intl minutes        0\n",
              "Total intl calls          0\n",
              "Total intl charge         0\n",
              "Customer service calls    0\n",
              "Churn                     0\n",
              "dtype: int64"
            ]
          },
          "metadata": {},
          "execution_count": 7
        }
      ]
    },
    {
      "cell_type": "markdown",
      "source": [
        "No missing values"
      ],
      "metadata": {
        "id": "vjrXWsmt-1WS"
      }
    },
    {
      "cell_type": "code",
      "source": [
        "churn['State'].nunique()"
      ],
      "metadata": {
        "colab": {
          "base_uri": "https://localhost:8080/"
        },
        "id": "qKUE9Avl-yFA",
        "outputId": "82fa5577-ab3c-4730-927b-b5dcf918bbfe"
      },
      "execution_count": null,
      "outputs": [
        {
          "output_type": "execute_result",
          "data": {
            "text/plain": [
              "51"
            ]
          },
          "metadata": {},
          "execution_count": 8
        }
      ]
    },
    {
      "cell_type": "code",
      "source": [
        "churn['State'].unique()"
      ],
      "metadata": {
        "colab": {
          "base_uri": "https://localhost:8080/"
        },
        "id": "7AuPvllr-5CK",
        "outputId": "4eba8063-3c28-44ec-acec-cf6af96b78eb"
      },
      "execution_count": null,
      "outputs": [
        {
          "output_type": "execute_result",
          "data": {
            "text/plain": [
              "array(['KS', 'OH', 'NJ', 'OK', 'AL', 'MA', 'MO', 'LA', 'WV', 'IN', 'RI',\n",
              "       'IA', 'MT', 'NY', 'ID', 'VT', 'VA', 'TX', 'FL', 'CO', 'AZ', 'SC',\n",
              "       'NE', 'WY', 'HI', 'IL', 'NH', 'GA', 'AK', 'MD', 'AR', 'WI', 'OR',\n",
              "       'MI', 'DE', 'UT', 'CA', 'MN', 'SD', 'NC', 'WA', 'NM', 'NV', 'DC',\n",
              "       'KY', 'ME', 'MS', 'TN', 'PA', 'CT', 'ND'], dtype=object)"
            ]
          },
          "metadata": {},
          "execution_count": 9
        }
      ]
    },
    {
      "cell_type": "code",
      "source": [
        "churn['Churn'].unique()"
      ],
      "metadata": {
        "colab": {
          "base_uri": "https://localhost:8080/"
        },
        "id": "g8MYOdpQ-7Gn",
        "outputId": "31f6f9e7-6bb7-478c-c096-a4d3e68aa959"
      },
      "execution_count": null,
      "outputs": [
        {
          "output_type": "execute_result",
          "data": {
            "text/plain": [
              "array([False,  True])"
            ]
          },
          "metadata": {},
          "execution_count": 10
        }
      ]
    },
    {
      "cell_type": "code",
      "source": [
        "#checking balanced or imbalnced classes \n",
        "sum(churn['Churn']==False),sum(churn['Churn']==True)"
      ],
      "metadata": {
        "colab": {
          "base_uri": "https://localhost:8080/"
        },
        "id": "lFfoRuEZ--hy",
        "outputId": "0660b842-532f-46b6-8e3f-ee8cefe4cbb4"
      },
      "execution_count": null,
      "outputs": [
        {
          "output_type": "execute_result",
          "data": {
            "text/plain": [
              "(2850, 483)"
            ]
          },
          "metadata": {},
          "execution_count": 11
        }
      ]
    },
    {
      "cell_type": "markdown",
      "source": [
        "The dataset is imbalanced"
      ],
      "metadata": {
        "id": "5lkarhoG_IY2"
      }
    },
    {
      "cell_type": "markdown",
      "source": [
        "### Data Visualization"
      ],
      "metadata": {
        "id": "ttDcOZWj_NjS"
      }
    },
    {
      "cell_type": "code",
      "source": [
        "sns.barplot(data=churn,x ='State',y='Total intl calls', hue='Churn')"
      ],
      "metadata": {
        "colab": {
          "base_uri": "https://localhost:8080/",
          "height": 296
        },
        "id": "zBsgOpNW_A27",
        "outputId": "babe3906-aae4-4719-8494-b746fb54b1a8"
      },
      "execution_count": null,
      "outputs": [
        {
          "output_type": "execute_result",
          "data": {
            "text/plain": [
              "<matplotlib.axes._subplots.AxesSubplot at 0x7fe19d5c9040>"
            ]
          },
          "metadata": {},
          "execution_count": 12
        },
        {
          "output_type": "display_data",
          "data": {
            "text/plain": [
              "<Figure size 432x288 with 1 Axes>"
            ],
            "image/png": "[encoded data removed]"
          },
          "metadata": {
            "needs_background": "light"
          }
        }
      ]
    },
    {
      "cell_type": "markdown",
      "source": [
        "### Prepare the data"
      ],
      "metadata": {
        "id": "zKeQv6X5_Vya"
      }
    },
    {
      "cell_type": "code",
      "source": [
        "X= churn.drop(['State','Churn'], axis=1)\n",
        "y=churn['Churn']"
      ],
      "metadata": {
        "id": "qXC43SJK_SDz"
      },
      "execution_count": null,
      "outputs": []
    },
    {
      "cell_type": "markdown",
      "source": [
        "### Split the data"
      ],
      "metadata": {
        "id": "gWT2kjtJ_bgK"
      }
    },
    {
      "cell_type": "code",
      "source": [
        "X_train, X_test, y_train, y_test = train_test_split(X, y, test_size=0.3, random_state=42)"
      ],
      "metadata": {
        "id": "9KAi5BQP_Yd6"
      },
      "execution_count": null,
      "outputs": []
    },
    {
      "cell_type": "markdown",
      "source": [
        "### Transformers"
      ],
      "metadata": {
        "id": "UyCqyMHe_hBX"
      }
    },
    {
      "cell_type": "code",
      "source": [
        "transformer=make_column_transformer((OneHotEncoder(),make_column_selector(dtype_include='object')),\n",
        "                                   remainder=StandardScaler())\n",
        "extractor = SelectFromModel(LogisticRegression(penalty='l2', solver ='lbfgs' ,random_state = 42,))"
      ],
      "metadata": {
        "id": "_RWWiGnM_eG0"
      },
      "execution_count": null,
      "outputs": []
    },
    {
      "cell_type": "markdown",
      "source": [
        "### Pipelines for each models"
      ],
      "metadata": {
        "id": "Hk7vkyVZ_pIr"
      }
    },
    {
      "cell_type": "code",
      "source": [
        "#K nearst neighbor pipelines\n",
        "knn_pipe=Pipeline(\n",
        "    steps=[('transformer',transformer),\n",
        "          ('knn', KNeighborsClassifier())]\n",
        ")\n",
        "\n",
        "#Decision tree pipelines\n",
        "dtree_pipe=Pipeline(\n",
        "    steps=[('transformer',transformer),\n",
        "           ('dtree',DecisionTreeClassifier())]\n",
        ")\n",
        "\n",
        "#logestic regression pipelines \n",
        "lgr_pipe=Pipeline(\n",
        "    steps=[('transformer',transformer),\n",
        "           ('selector',extractor),\n",
        "           ('lrg',LogisticRegression())]\n",
        ")\n",
        "\n",
        "#Support Vector Machine pipelines\n",
        "svc_pipe=Pipeline(\n",
        "    steps=[('transformer',transformer),\n",
        "          ('svc',SVC())]\n",
        ")"
      ],
      "metadata": {
        "id": "rZhU1w-l_j8s"
      },
      "execution_count": null,
      "outputs": []
    },
    {
      "cell_type": "markdown",
      "source": [
        "### Tunning Hyperparameters for KNN,DecisionTree,and SVM"
      ],
      "metadata": {
        "id": "q57K6s2o_xr3"
      }
    },
    {
      "cell_type": "code",
      "source": [
        "math.sqrt(3333)"
      ],
      "metadata": {
        "colab": {
          "base_uri": "https://localhost:8080/"
        },
        "id": "I96QedGd_tPe",
        "outputId": "6bce41b5-d8ae-4739-8f01-6a0e6af9060d"
      },
      "execution_count": null,
      "outputs": [
        {
          "output_type": "execute_result",
          "data": {
            "text/plain": [
              "57.73214009544424"
            ]
          },
          "metadata": {},
          "execution_count": 7
        }
      ]
    },
    {
      "cell_type": "code",
      "source": [
        "#K nearst neibour hyperparamers dictionary\n",
        "knn_params={'knn__n_neighbors':range(1,99,2),\n",
        "        'knn__weights':['uniform','distance'],\n",
        "        'knn__p':[1,2]}\n",
        "\n",
        "#Decision tree hyperparamers dictionary\n",
        "dtree_params = {'dtree__max_depth':[2,4,6],\n",
        "                'dtree__min_samples_split':[0.1, 0.2, 0.05],\n",
        "                'dtree__criterion': ['gini','entropy'],\n",
        "                'dtree__min_samples_leaf':[1,2,3]\n",
        "         }\n",
        "\n",
        "\n",
        "#Support vector machine hyperparamers dictionary\n",
        "#svc_params= {'svc__kernel': ['rbf', 'poly', 'linear','Sigmoid'],\n",
        "              #'svc__gamma': [0.1, 1.0,10.0],\n",
        "              #'svc__coef0':[0,1,2],\n",
        "              #'svc__degree':[2,3,4]}\n",
        "#Support vector machine hyperparamers dictionary\n",
        "svc_params= {'svc__kernel': ['rbf','linear','sigmoid'],\n",
        "              'svc__gamma': [0.1, 1.0,10.0],\n",
        "              'svc__coef0':[0,1,2]}\n",
        "\n",
        "svc_poly_params= {'svc__kernel': ['poly','linear'],\n",
        "              'svc__gamma': [0.1, 1.0,10.0],\n",
        "              'svc__coef0':[0,1,2],\n",
        "              'svv__degree':[2,3,4]}\n",
        "              "
      ],
      "metadata": {
        "id": "AM0iGvuI_74B"
      },
      "execution_count": null,
      "outputs": []
    },
    {
      "cell_type": "markdown",
      "source": [
        "### GridSearchCV for each models"
      ],
      "metadata": {
        "id": "bXAkES-xABbV"
      }
    },
    {
      "cell_type": "markdown",
      "source": [
        "### K nearest Neighbor model"
      ],
      "metadata": {
        "id": "4kgzKBoGABm7"
      }
    },
    {
      "cell_type": "code",
      "source": [
        "# K Nearst neighbor gridsearch\n",
        "#The time.time() is a method of Time module that is used to get the time in seconds since the epoch.\n",
        "start_time=time.time()\n",
        "knn_grid=GridSearchCV(estimator=knn_pipe,\n",
        "                      param_grid=knn_params,\n",
        "                     cv=5)\n",
        "knn=knn_grid.fit(X_train,y_train)\n",
        "end_time=time.time()\n",
        "print(end_time - start_time)"
      ],
      "metadata": {
        "colab": {
          "base_uri": "https://localhost:8080/"
        },
        "id": "NM1m5TKT_9dT",
        "outputId": "cee756d3-d10a-47e5-a568-eccf2d6419cd"
      },
      "execution_count": null,
      "outputs": [
        {
          "output_type": "stream",
          "name": "stdout",
          "text": [
            "58.1618390083313\n"
          ]
        }
      ]
    },
    {
      "cell_type": "code",
      "source": [
        "knn.best_estimator_"
      ],
      "metadata": {
        "colab": {
          "base_uri": "https://localhost:8080/",
          "height": 192
        },
        "id": "4ghdUPFRAOdR",
        "outputId": "2183f532-d8c8-4983-c8c4-472bcd6cde73"
      },
      "execution_count": null,
      "outputs": [
        {
          "output_type": "execute_result",
          "data": {
            "text/plain": [
              "Pipeline(steps=[('transformer',\n",
              "                 ColumnTransformer(remainder=StandardScaler(),\n",
              "                                   transformers=[('onehotencoder',\n",
              "                                                  OneHotEncoder(),\n",
              "                                                  <sklearn.compose._column_transformer.make_column_selector object at 0x7f9b16fd8370>)])),\n",
              "                ('knn', KNeighborsClassifier(n_neighbors=3))])"
            ],
            "text/html": [
              "<style>#sk-cd75fdb6-267d-4099-9fe6-342bc953f31b {color: black;background-color: white;}#sk-cd75fdb6-267d-4099-9fe6-342bc953f31b pre{padding: 0;}#sk-cd75fdb6-267d-4099-9fe6-342bc953f31b div.sk-toggleable {background-color: white;}#sk-cd75fdb6-267d-4099-9fe6-342bc953f31b label.sk-toggleable__label {cursor: pointer;display: block;width: 100%;margin-bottom: 0;padding: 0.3em;box-sizing: border-box;text-align: center;}#sk-cd75fdb6-267d-4099-9fe6-342bc953f31b label.sk-toggleable__label-arrow:before {content: \"▸\";float: left;margin-right: 0.25em;color: #696969;}#sk-cd75fdb6-267d-4099-9fe6-342bc953f31b label.sk-toggleable__label-arrow:hover:before {color: black;}#sk-cd75fdb6-267d-4099-9fe6-342bc953f31b div.sk-estimator:hover label.sk-toggleable__label-arrow:before {color: black;}#sk-cd75fdb6-267d-4099-9fe6-342bc953f31b div.sk-toggleable__content {max-height: 0;max-width: 0;overflow: hidden;text-align: left;background-color: #f0f8ff;}#sk-cd75fdb6-267d-4099-9fe6-342bc953f31b div.sk-toggleable__content pre {margin: 0.2em;color: black;border-radius: 0.25em;background-color: #f0f8ff;}#sk-cd75fdb6-267d-4099-9fe6-342bc953f31b input.sk-toggleable__control:checked~div.sk-toggleable__content {max-height: 200px;max-width: 100%;overflow: auto;}#sk-cd75fdb6-267d-4099-9fe6-342bc953f31b input.sk-toggleable__control:checked~label.sk-toggleable__label-arrow:before {content: \"▾\";}#sk-cd75fdb6-267d-4099-9fe6-342bc953f31b div.sk-estimator input.sk-toggleable__control:checked~label.sk-toggleable__label {background-color: #d4ebff;}#sk-cd75fdb6-267d-4099-9fe6-342bc953f31b div.sk-label input.sk-toggleable__control:checked~label.sk-toggleable__label {background-color: #d4ebff;}#sk-cd75fdb6-267d-4099-9fe6-342bc953f31b input.sk-hidden--visually {border: 0;clip: rect(1px 1px 1px 1px);clip: rect(1px, 1px, 1px, 1px);height: 1px;margin: -1px;overflow: hidden;padding: 0;position: absolute;width: 1px;}#sk-cd75fdb6-267d-4099-9fe6-342bc953f31b div.sk-estimator {font-family: monospace;background-color: #f0f8ff;border: 1px dotted black;border-radius: 0.25em;box-sizing: border-box;margin-bottom: 0.5em;}#sk-cd75fdb6-267d-4099-9fe6-342bc953f31b div.sk-estimator:hover {background-color: #d4ebff;}#sk-cd75fdb6-267d-4099-9fe6-342bc953f31b div.sk-parallel-item::after {content: \"\";width: 100%;border-bottom: 1px solid gray;flex-grow: 1;}#sk-cd75fdb6-267d-4099-9fe6-342bc953f31b div.sk-label:hover label.sk-toggleable__label {background-color: #d4ebff;}#sk-cd75fdb6-267d-4099-9fe6-342bc953f31b div.sk-serial::before {content: \"\";position: absolute;border-left: 1px solid gray;box-sizing: border-box;top: 2em;bottom: 0;left: 50%;}#sk-cd75fdb6-267d-4099-9fe6-342bc953f31b div.sk-serial {display: flex;flex-direction: column;align-items: center;background-color: white;padding-right: 0.2em;padding-left: 0.2em;}#sk-cd75fdb6-267d-4099-9fe6-342bc953f31b div.sk-item {z-index: 1;}#sk-cd75fdb6-267d-4099-9fe6-342bc953f31b div.sk-parallel {display: flex;align-items: stretch;justify-content: center;background-color: white;}#sk-cd75fdb6-267d-4099-9fe6-342bc953f31b div.sk-parallel::before {content: \"\";position: absolute;border-left: 1px solid gray;box-sizing: border-box;top: 2em;bottom: 0;left: 50%;}#sk-cd75fdb6-267d-4099-9fe6-342bc953f31b div.sk-parallel-item {display: flex;flex-direction: column;position: relative;background-color: white;}#sk-cd75fdb6-267d-4099-9fe6-342bc953f31b div.sk-parallel-item:first-child::after {align-self: flex-end;width: 50%;}#sk-cd75fdb6-267d-4099-9fe6-342bc953f31b div.sk-parallel-item:last-child::after {align-self: flex-start;width: 50%;}#sk-cd75fdb6-267d-4099-9fe6-342bc953f31b div.sk-parallel-item:only-child::after {width: 0;}#sk-cd75fdb6-267d-4099-9fe6-342bc953f31b div.sk-dashed-wrapped {border: 1px dashed gray;margin: 0 0.4em 0.5em 0.4em;box-sizing: border-box;padding-bottom: 0.4em;background-color: white;position: relative;}#sk-cd75fdb6-267d-4099-9fe6-342bc953f31b div.sk-label label {font-family: monospace;font-weight: bold;background-color: white;display: inline-block;line-height: 1.2em;}#sk-cd75fdb6-267d-4099-9fe6-342bc953f31b div.sk-label-container {position: relative;z-index: 2;text-align: center;}#sk-cd75fdb6-267d-4099-9fe6-342bc953f31b div.sk-container {/* jupyter's `normalize.less` sets `[hidden] { display: none; }` but bootstrap.min.css set `[hidden] { display: none !important; }` so we also need the `!important` here to be able to override the default hidden behavior on the sphinx rendered scikit-learn.org. See: https://github.com/scikit-learn/scikit-learn/issues/21755 */display: inline-block !important;position: relative;}#sk-cd75fdb6-267d-4099-9fe6-342bc953f31b div.sk-text-repr-fallback {display: none;}</style><div id=\"sk-cd75fdb6-267d-4099-9fe6-342bc953f31b\" class=\"sk-top-container\"><div class=\"sk-text-repr-fallback\"><pre>Pipeline(steps=[(&#x27;transformer&#x27;,\n",
              "                 ColumnTransformer(remainder=StandardScaler(),\n",
              "                                   transformers=[(&#x27;onehotencoder&#x27;,\n",
              "                                                  OneHotEncoder(),\n",
              "                                                  &lt;sklearn.compose._column_transformer.make_column_selector object at 0x7f9b16fd8370&gt;)])),\n",
              "                (&#x27;knn&#x27;, KNeighborsClassifier(n_neighbors=3))])</pre><b>Please rerun this cell to show the HTML repr or trust the notebook.</b></div><div class=\"sk-container\" hidden><div class=\"sk-item sk-dashed-wrapped\"><div class=\"sk-label-container\"><div class=\"sk-label sk-toggleable\"><input class=\"sk-toggleable__control sk-hidden--visually\" id=\"3519b065-e002-4881-bdc7-39a548e22876\" type=\"checkbox\" ><label for=\"3519b065-e002-4881-bdc7-39a548e22876\" class=\"sk-toggleable__label sk-toggleable__label-arrow\">Pipeline</label><div class=\"sk-toggleable__content\"><pre>Pipeline(steps=[(&#x27;transformer&#x27;,\n",
              "                 ColumnTransformer(remainder=StandardScaler(),\n",
              "                                   transformers=[(&#x27;onehotencoder&#x27;,\n",
              "                                                  OneHotEncoder(),\n",
              "                                                  &lt;sklearn.compose._column_transformer.make_column_selector object at 0x7f9b16fd8370&gt;)])),\n",
              "                (&#x27;knn&#x27;, KNeighborsClassifier(n_neighbors=3))])</pre></div></div></div><div class=\"sk-serial\"><div class=\"sk-item sk-dashed-wrapped\"><div class=\"sk-label-container\"><div class=\"sk-label sk-toggleable\"><input class=\"sk-toggleable__control sk-hidden--visually\" id=\"bac29339-a80e-490e-9e1f-5823fd309c9a\" type=\"checkbox\" ><label for=\"bac29339-a80e-490e-9e1f-5823fd309c9a\" class=\"sk-toggleable__label sk-toggleable__label-arrow\">transformer: ColumnTransformer</label><div class=\"sk-toggleable__content\"><pre>ColumnTransformer(remainder=StandardScaler(),\n",
              "                  transformers=[(&#x27;onehotencoder&#x27;, OneHotEncoder(),\n",
              "                                 &lt;sklearn.compose._column_transformer.make_column_selector object at 0x7f9b16fd8370&gt;)])</pre></div></div></div><div class=\"sk-parallel\"><div class=\"sk-parallel-item\"><div class=\"sk-item\"><div class=\"sk-label-container\"><div class=\"sk-label sk-toggleable\"><input class=\"sk-toggleable__control sk-hidden--visually\" id=\"ab0c82c2-52d4-4854-adbd-3c4473a9eb29\" type=\"checkbox\" ><label for=\"ab0c82c2-52d4-4854-adbd-3c4473a9eb29\" class=\"sk-toggleable__label sk-toggleable__label-arrow\">onehotencoder</label><div class=\"sk-toggleable__content\"><pre>&lt;sklearn.compose._column_transformer.make_column_selector object at 0x7f9b16fd8370&gt;</pre></div></div></div><div class=\"sk-serial\"><div class=\"sk-item\"><div class=\"sk-estimator sk-toggleable\"><input class=\"sk-toggleable__control sk-hidden--visually\" id=\"2420bbbc-6254-43ad-872e-be8246920c24\" type=\"checkbox\" ><label for=\"2420bbbc-6254-43ad-872e-be8246920c24\" class=\"sk-toggleable__label sk-toggleable__label-arrow\">OneHotEncoder</label><div class=\"sk-toggleable__content\"><pre>OneHotEncoder()</pre></div></div></div></div></div></div><div class=\"sk-parallel-item\"><div class=\"sk-item\"><div class=\"sk-label-container\"><div class=\"sk-label sk-toggleable\"><input class=\"sk-toggleable__control sk-hidden--visually\" id=\"db3994af-30c4-4c63-8514-9725a09f1208\" type=\"checkbox\" ><label for=\"db3994af-30c4-4c63-8514-9725a09f1208\" class=\"sk-toggleable__label sk-toggleable__label-arrow\">remainder</label><div class=\"sk-toggleable__content\"><pre>[&#x27;Account length&#x27;, &#x27;Area code&#x27;, &#x27;Number vmail messages&#x27;, &#x27;Total day minutes&#x27;, &#x27;Total day calls&#x27;, &#x27;Total day charge&#x27;, &#x27;Total eve minutes&#x27;, &#x27;Total eve calls&#x27;, &#x27;Total eve charge&#x27;, &#x27;Total night minutes&#x27;, &#x27;Total night calls&#x27;, &#x27;Total night charge&#x27;, &#x27;Total intl minutes&#x27;, &#x27;Total intl calls&#x27;, &#x27;Total intl charge&#x27;, &#x27;Customer service calls&#x27;]</pre></div></div></div><div class=\"sk-serial\"><div class=\"sk-item\"><div class=\"sk-estimator sk-toggleable\"><input class=\"sk-toggleable__control sk-hidden--visually\" id=\"02af20b5-f56e-4a4a-8628-403497cb73c5\" type=\"checkbox\" ><label for=\"02af20b5-f56e-4a4a-8628-403497cb73c5\" class=\"sk-toggleable__label sk-toggleable__label-arrow\">StandardScaler</label><div class=\"sk-toggleable__content\"><pre>StandardScaler()</pre></div></div></div></div></div></div></div></div><div class=\"sk-item\"><div class=\"sk-estimator sk-toggleable\"><input class=\"sk-toggleable__control sk-hidden--visually\" id=\"caba4564-51b6-4463-b39c-9508c5205a12\" type=\"checkbox\" ><label for=\"caba4564-51b6-4463-b39c-9508c5205a12\" class=\"sk-toggleable__label sk-toggleable__label-arrow\">KNeighborsClassifier</label><div class=\"sk-toggleable__content\"><pre>KNeighborsClassifier(n_neighbors=3)</pre></div></div></div></div></div></div></div>"
            ]
          },
          "metadata": {},
          "execution_count": 46
        }
      ]
    },
    {
      "cell_type": "code",
      "source": [
        "knn.best_params_"
      ],
      "metadata": {
        "colab": {
          "base_uri": "https://localhost:8080/"
        },
        "id": "ptQM24GXAfLD",
        "outputId": "7f486fe2-cc29-4737-febc-c6551d58fc82"
      },
      "execution_count": null,
      "outputs": [
        {
          "output_type": "execute_result",
          "data": {
            "text/plain": [
              "{'knn__n_neighbors': 3, 'knn__p': 2, 'knn__weights': 'uniform'}"
            ]
          },
          "metadata": {},
          "execution_count": 47
        }
      ]
    },
    {
      "cell_type": "code",
      "source": [
        "knn.best_score_"
      ],
      "metadata": {
        "colab": {
          "base_uri": "https://localhost:8080/"
        },
        "id": "h8GQqcdVAhKS",
        "outputId": "22cadcea-c7d8-4042-bc76-2da982223ddc"
      },
      "execution_count": null,
      "outputs": [
        {
          "output_type": "execute_result",
          "data": {
            "text/plain": [
              "0.8825431252355"
            ]
          },
          "metadata": {},
          "execution_count": 48
        }
      ]
    },
    {
      "cell_type": "code",
      "source": [
        "knn.classes_"
      ],
      "metadata": {
        "colab": {
          "base_uri": "https://localhost:8080/"
        },
        "id": "kgncxHalAjkx",
        "outputId": "b3cf0ed5-36aa-47da-9b55-be6d1a9c650c"
      },
      "execution_count": null,
      "outputs": [
        {
          "output_type": "execute_result",
          "data": {
            "text/plain": [
              "array([False,  True])"
            ]
          },
          "metadata": {},
          "execution_count": 49
        }
      ]
    },
    {
      "cell_type": "code",
      "source": [
        "#knn.cv_results_"
      ],
      "metadata": {
        "id": "gOZtQK4dAl62"
      },
      "execution_count": null,
      "outputs": []
    },
    {
      "cell_type": "markdown",
      "source": [
        "### DecisionTree Model"
      ],
      "metadata": {
        "id": "8jWfYQ9QAv0o"
      }
    },
    {
      "cell_type": "code",
      "source": [
        "#Decision Tree\n",
        "#%time\n",
        "start_time = time.time()\n",
        "dtree_grid=GridSearchCV(estimator=dtree_pipe,\n",
        "                      param_grid=dtree_params,\n",
        "                      cv=5)\n",
        "dtree=dtree_grid.fit(X_train,y_train)\n",
        "end_time = time.time()\n",
        "print(end_time - start_time)"
      ],
      "metadata": {
        "colab": {
          "base_uri": "https://localhost:8080/"
        },
        "id": "LRV1Csu3ApUf",
        "outputId": "fd7d450d-e8d5-425f-a4e6-834574af7601"
      },
      "execution_count": null,
      "outputs": [
        {
          "output_type": "stream",
          "name": "stdout",
          "text": [
            "7.561201572418213\n"
          ]
        }
      ]
    },
    {
      "cell_type": "code",
      "source": [
        "dtree.best_estimator_"
      ],
      "metadata": {
        "colab": {
          "base_uri": "https://localhost:8080/",
          "height": 192
        },
        "id": "K7fdZ2O_AzDa",
        "outputId": "8172b8c0-d173-4545-ce28-fee9a061f1a9"
      },
      "execution_count": null,
      "outputs": [
        {
          "output_type": "execute_result",
          "data": {
            "text/plain": [
              "Pipeline(steps=[('transformer',\n",
              "                 ColumnTransformer(remainder=StandardScaler(),\n",
              "                                   transformers=[('onehotencoder',\n",
              "                                                  OneHotEncoder(),\n",
              "                                                  <sklearn.compose._column_transformer.make_column_selector object at 0x7f9b1983d670>)])),\n",
              "                ('dtree',\n",
              "                 DecisionTreeClassifier(max_depth=6, min_samples_split=0.05))])"
            ],
            "text/html": [
              "<style>#sk-638f30f8-43ab-419f-96f8-a5ec7880de62 {color: black;background-color: white;}#sk-638f30f8-43ab-419f-96f8-a5ec7880de62 pre{padding: 0;}#sk-638f30f8-43ab-419f-96f8-a5ec7880de62 div.sk-toggleable {background-color: white;}#sk-638f30f8-43ab-419f-96f8-a5ec7880de62 label.sk-toggleable__label {cursor: pointer;display: block;width: 100%;margin-bottom: 0;padding: 0.3em;box-sizing: border-box;text-align: center;}#sk-638f30f8-43ab-419f-96f8-a5ec7880de62 label.sk-toggleable__label-arrow:before {content: \"▸\";float: left;margin-right: 0.25em;color: #696969;}#sk-638f30f8-43ab-419f-96f8-a5ec7880de62 label.sk-toggleable__label-arrow:hover:before {color: black;}#sk-638f30f8-43ab-419f-96f8-a5ec7880de62 div.sk-estimator:hover label.sk-toggleable__label-arrow:before {color: black;}#sk-638f30f8-43ab-419f-96f8-a5ec7880de62 div.sk-toggleable__content {max-height: 0;max-width: 0;overflow: hidden;text-align: left;background-color: #f0f8ff;}#sk-638f30f8-43ab-419f-96f8-a5ec7880de62 div.sk-toggleable__content pre {margin: 0.2em;color: black;border-radius: 0.25em;background-color: #f0f8ff;}#sk-638f30f8-43ab-419f-96f8-a5ec7880de62 input.sk-toggleable__control:checked~div.sk-toggleable__content {max-height: 200px;max-width: 100%;overflow: auto;}#sk-638f30f8-43ab-419f-96f8-a5ec7880de62 input.sk-toggleable__control:checked~label.sk-toggleable__label-arrow:before {content: \"▾\";}#sk-638f30f8-43ab-419f-96f8-a5ec7880de62 div.sk-estimator input.sk-toggleable__control:checked~label.sk-toggleable__label {background-color: #d4ebff;}#sk-638f30f8-43ab-419f-96f8-a5ec7880de62 div.sk-label input.sk-toggleable__control:checked~label.sk-toggleable__label {background-color: #d4ebff;}#sk-638f30f8-43ab-419f-96f8-a5ec7880de62 input.sk-hidden--visually {border: 0;clip: rect(1px 1px 1px 1px);clip: rect(1px, 1px, 1px, 1px);height: 1px;margin: -1px;overflow: hidden;padding: 0;position: absolute;width: 1px;}#sk-638f30f8-43ab-419f-96f8-a5ec7880de62 div.sk-estimator {font-family: monospace;background-color: #f0f8ff;border: 1px dotted black;border-radius: 0.25em;box-sizing: border-box;margin-bottom: 0.5em;}#sk-638f30f8-43ab-419f-96f8-a5ec7880de62 div.sk-estimator:hover {background-color: #d4ebff;}#sk-638f30f8-43ab-419f-96f8-a5ec7880de62 div.sk-parallel-item::after {content: \"\";width: 100%;border-bottom: 1px solid gray;flex-grow: 1;}#sk-638f30f8-43ab-419f-96f8-a5ec7880de62 div.sk-label:hover label.sk-toggleable__label {background-color: #d4ebff;}#sk-638f30f8-43ab-419f-96f8-a5ec7880de62 div.sk-serial::before {content: \"\";position: absolute;border-left: 1px solid gray;box-sizing: border-box;top: 2em;bottom: 0;left: 50%;}#sk-638f30f8-43ab-419f-96f8-a5ec7880de62 div.sk-serial {display: flex;flex-direction: column;align-items: center;background-color: white;padding-right: 0.2em;padding-left: 0.2em;}#sk-638f30f8-43ab-419f-96f8-a5ec7880de62 div.sk-item {z-index: 1;}#sk-638f30f8-43ab-419f-96f8-a5ec7880de62 div.sk-parallel {display: flex;align-items: stretch;justify-content: center;background-color: white;}#sk-638f30f8-43ab-419f-96f8-a5ec7880de62 div.sk-parallel::before {content: \"\";position: absolute;border-left: 1px solid gray;box-sizing: border-box;top: 2em;bottom: 0;left: 50%;}#sk-638f30f8-43ab-419f-96f8-a5ec7880de62 div.sk-parallel-item {display: flex;flex-direction: column;position: relative;background-color: white;}#sk-638f30f8-43ab-419f-96f8-a5ec7880de62 div.sk-parallel-item:first-child::after {align-self: flex-end;width: 50%;}#sk-638f30f8-43ab-419f-96f8-a5ec7880de62 div.sk-parallel-item:last-child::after {align-self: flex-start;width: 50%;}#sk-638f30f8-43ab-419f-96f8-a5ec7880de62 div.sk-parallel-item:only-child::after {width: 0;}#sk-638f30f8-43ab-419f-96f8-a5ec7880de62 div.sk-dashed-wrapped {border: 1px dashed gray;margin: 0 0.4em 0.5em 0.4em;box-sizing: border-box;padding-bottom: 0.4em;background-color: white;position: relative;}#sk-638f30f8-43ab-419f-96f8-a5ec7880de62 div.sk-label label {font-family: monospace;font-weight: bold;background-color: white;display: inline-block;line-height: 1.2em;}#sk-638f30f8-43ab-419f-96f8-a5ec7880de62 div.sk-label-container {position: relative;z-index: 2;text-align: center;}#sk-638f30f8-43ab-419f-96f8-a5ec7880de62 div.sk-container {/* jupyter's `normalize.less` sets `[hidden] { display: none; }` but bootstrap.min.css set `[hidden] { display: none !important; }` so we also need the `!important` here to be able to override the default hidden behavior on the sphinx rendered scikit-learn.org. See: https://github.com/scikit-learn/scikit-learn/issues/21755 */display: inline-block !important;position: relative;}#sk-638f30f8-43ab-419f-96f8-a5ec7880de62 div.sk-text-repr-fallback {display: none;}</style><div id=\"sk-638f30f8-43ab-419f-96f8-a5ec7880de62\" class=\"sk-top-container\"><div class=\"sk-text-repr-fallback\"><pre>Pipeline(steps=[(&#x27;transformer&#x27;,\n",
              "                 ColumnTransformer(remainder=StandardScaler(),\n",
              "                                   transformers=[(&#x27;onehotencoder&#x27;,\n",
              "                                                  OneHotEncoder(),\n",
              "                                                  &lt;sklearn.compose._column_transformer.make_column_selector object at 0x7f9b1983d670&gt;)])),\n",
              "                (&#x27;dtree&#x27;,\n",
              "                 DecisionTreeClassifier(max_depth=6, min_samples_split=0.05))])</pre><b>Please rerun this cell to show the HTML repr or trust the notebook.</b></div><div class=\"sk-container\" hidden><div class=\"sk-item sk-dashed-wrapped\"><div class=\"sk-label-container\"><div class=\"sk-label sk-toggleable\"><input class=\"sk-toggleable__control sk-hidden--visually\" id=\"bcc869fb-6a00-417a-9299-5c0847861543\" type=\"checkbox\" ><label for=\"bcc869fb-6a00-417a-9299-5c0847861543\" class=\"sk-toggleable__label sk-toggleable__label-arrow\">Pipeline</label><div class=\"sk-toggleable__content\"><pre>Pipeline(steps=[(&#x27;transformer&#x27;,\n",
              "                 ColumnTransformer(remainder=StandardScaler(),\n",
              "                                   transformers=[(&#x27;onehotencoder&#x27;,\n",
              "                                                  OneHotEncoder(),\n",
              "                                                  &lt;sklearn.compose._column_transformer.make_column_selector object at 0x7f9b1983d670&gt;)])),\n",
              "                (&#x27;dtree&#x27;,\n",
              "                 DecisionTreeClassifier(max_depth=6, min_samples_split=0.05))])</pre></div></div></div><div class=\"sk-serial\"><div class=\"sk-item sk-dashed-wrapped\"><div class=\"sk-label-container\"><div class=\"sk-label sk-toggleable\"><input class=\"sk-toggleable__control sk-hidden--visually\" id=\"2b724d57-717f-4300-8b53-7c9782c0c54b\" type=\"checkbox\" ><label for=\"2b724d57-717f-4300-8b53-7c9782c0c54b\" class=\"sk-toggleable__label sk-toggleable__label-arrow\">transformer: ColumnTransformer</label><div class=\"sk-toggleable__content\"><pre>ColumnTransformer(remainder=StandardScaler(),\n",
              "                  transformers=[(&#x27;onehotencoder&#x27;, OneHotEncoder(),\n",
              "                                 &lt;sklearn.compose._column_transformer.make_column_selector object at 0x7f9b1983d670&gt;)])</pre></div></div></div><div class=\"sk-parallel\"><div class=\"sk-parallel-item\"><div class=\"sk-item\"><div class=\"sk-label-container\"><div class=\"sk-label sk-toggleable\"><input class=\"sk-toggleable__control sk-hidden--visually\" id=\"0a0eddca-7e06-48df-879f-cec920551374\" type=\"checkbox\" ><label for=\"0a0eddca-7e06-48df-879f-cec920551374\" class=\"sk-toggleable__label sk-toggleable__label-arrow\">onehotencoder</label><div class=\"sk-toggleable__content\"><pre>&lt;sklearn.compose._column_transformer.make_column_selector object at 0x7f9b1983d670&gt;</pre></div></div></div><div class=\"sk-serial\"><div class=\"sk-item\"><div class=\"sk-estimator sk-toggleable\"><input class=\"sk-toggleable__control sk-hidden--visually\" id=\"793b35f8-27ff-4ea5-b960-d4be1383d05b\" type=\"checkbox\" ><label for=\"793b35f8-27ff-4ea5-b960-d4be1383d05b\" class=\"sk-toggleable__label sk-toggleable__label-arrow\">OneHotEncoder</label><div class=\"sk-toggleable__content\"><pre>OneHotEncoder()</pre></div></div></div></div></div></div><div class=\"sk-parallel-item\"><div class=\"sk-item\"><div class=\"sk-label-container\"><div class=\"sk-label sk-toggleable\"><input class=\"sk-toggleable__control sk-hidden--visually\" id=\"1ccb7e39-1d03-4851-9e69-5eef4438bcad\" type=\"checkbox\" ><label for=\"1ccb7e39-1d03-4851-9e69-5eef4438bcad\" class=\"sk-toggleable__label sk-toggleable__label-arrow\">remainder</label><div class=\"sk-toggleable__content\"><pre>[&#x27;Account length&#x27;, &#x27;Area code&#x27;, &#x27;Number vmail messages&#x27;, &#x27;Total day minutes&#x27;, &#x27;Total day calls&#x27;, &#x27;Total day charge&#x27;, &#x27;Total eve minutes&#x27;, &#x27;Total eve calls&#x27;, &#x27;Total eve charge&#x27;, &#x27;Total night minutes&#x27;, &#x27;Total night calls&#x27;, &#x27;Total night charge&#x27;, &#x27;Total intl minutes&#x27;, &#x27;Total intl calls&#x27;, &#x27;Total intl charge&#x27;, &#x27;Customer service calls&#x27;]</pre></div></div></div><div class=\"sk-serial\"><div class=\"sk-item\"><div class=\"sk-estimator sk-toggleable\"><input class=\"sk-toggleable__control sk-hidden--visually\" id=\"5121a9b0-375f-4e93-b075-3792e2057c92\" type=\"checkbox\" ><label for=\"5121a9b0-375f-4e93-b075-3792e2057c92\" class=\"sk-toggleable__label sk-toggleable__label-arrow\">StandardScaler</label><div class=\"sk-toggleable__content\"><pre>StandardScaler()</pre></div></div></div></div></div></div></div></div><div class=\"sk-item\"><div class=\"sk-estimator sk-toggleable\"><input class=\"sk-toggleable__control sk-hidden--visually\" id=\"6f46e50a-e70b-4d73-bedd-fdf0027fb360\" type=\"checkbox\" ><label for=\"6f46e50a-e70b-4d73-bedd-fdf0027fb360\" class=\"sk-toggleable__label sk-toggleable__label-arrow\">DecisionTreeClassifier</label><div class=\"sk-toggleable__content\"><pre>DecisionTreeClassifier(max_depth=6, min_samples_split=0.05)</pre></div></div></div></div></div></div></div>"
            ]
          },
          "metadata": {},
          "execution_count": 54
        }
      ]
    },
    {
      "cell_type": "code",
      "source": [
        "dtree.best_params_"
      ],
      "metadata": {
        "colab": {
          "base_uri": "https://localhost:8080/"
        },
        "id": "So5wxmNvA6ca",
        "outputId": "f40d2501-a8b5-40f6-bbfb-bc25ca5c0743"
      },
      "execution_count": null,
      "outputs": [
        {
          "output_type": "execute_result",
          "data": {
            "text/plain": [
              "{'dtree__criterion': 'gini',\n",
              " 'dtree__max_depth': 6,\n",
              " 'dtree__min_samples_leaf': 1,\n",
              " 'dtree__min_samples_split': 0.05}"
            ]
          },
          "metadata": {},
          "execution_count": 55
        }
      ]
    },
    {
      "cell_type": "code",
      "source": [
        "dtree.best_score_"
      ],
      "metadata": {
        "colab": {
          "base_uri": "https://localhost:8080/"
        },
        "id": "qxzDLbtIA8OK",
        "outputId": "539e9245-45a2-40dc-ba3c-162684bdc129"
      },
      "execution_count": null,
      "outputs": [
        {
          "output_type": "execute_result",
          "data": {
            "text/plain": [
              "0.9318543161996491"
            ]
          },
          "metadata": {},
          "execution_count": 56
        }
      ]
    },
    {
      "cell_type": "code",
      "source": [
        "dtree.classes_"
      ],
      "metadata": {
        "colab": {
          "base_uri": "https://localhost:8080/"
        },
        "id": "GEpvCY5EA-vt",
        "outputId": "50b4bb99-84e9-44c8-ab4b-fe4793e935ec"
      },
      "execution_count": null,
      "outputs": [
        {
          "output_type": "execute_result",
          "data": {
            "text/plain": [
              "array([False,  True])"
            ]
          },
          "metadata": {},
          "execution_count": 57
        }
      ]
    },
    {
      "cell_type": "code",
      "source": [
        "#dtree.cv_results_"
      ],
      "metadata": {
        "id": "9DRMIrI4BAlj"
      },
      "execution_count": null,
      "outputs": []
    },
    {
      "cell_type": "markdown",
      "source": [
        "### Logestic Regression"
      ],
      "metadata": {
        "id": "RKrvTTSABHUp"
      }
    },
    {
      "cell_type": "code",
      "source": [
        "start_time=time.time()\n",
        "lgr_model=lgr_pipe.fit(X_train,y_train)\n",
        "end_time=time.time()\n",
        "print(end_time-start_time)"
      ],
      "metadata": {
        "colab": {
          "base_uri": "https://localhost:8080/"
        },
        "id": "S2oIY3GpBEeb",
        "outputId": "c8274e8d-22bb-416b-9c9a-3fc18b909eab"
      },
      "execution_count": null,
      "outputs": [
        {
          "output_type": "stream",
          "name": "stdout",
          "text": [
            "0.07503080368041992\n"
          ]
        }
      ]
    },
    {
      "cell_type": "code",
      "source": [
        "lgr_model.classes_"
      ],
      "metadata": {
        "colab": {
          "base_uri": "https://localhost:8080/"
        },
        "id": "RE24r2CtBLq2",
        "outputId": "e392e1f2-aa83-419f-f310-4816d2e755a4"
      },
      "execution_count": null,
      "outputs": [
        {
          "output_type": "execute_result",
          "data": {
            "text/plain": [
              "array([False,  True])"
            ]
          },
          "metadata": {},
          "execution_count": 60
        }
      ]
    },
    {
      "cell_type": "code",
      "source": [
        "feature_names=lgr_model.named_steps['transformer'].get_feature_names_out()\n",
        "feature_names"
      ],
      "metadata": {
        "colab": {
          "base_uri": "https://localhost:8080/"
        },
        "id": "dpK3iEVzBQQr",
        "outputId": "1fbb3cc5-7ddb-4406-9e22-ee98c9b2cd81"
      },
      "execution_count": null,
      "outputs": [
        {
          "output_type": "execute_result",
          "data": {
            "text/plain": [
              "array(['onehotencoder__International plan_No',\n",
              "       'onehotencoder__International plan_Yes',\n",
              "       'onehotencoder__Voice mail plan_No',\n",
              "       'onehotencoder__Voice mail plan_Yes', 'remainder__Account length',\n",
              "       'remainder__Area code', 'remainder__Number vmail messages',\n",
              "       'remainder__Total day minutes', 'remainder__Total day calls',\n",
              "       'remainder__Total day charge', 'remainder__Total eve minutes',\n",
              "       'remainder__Total eve calls', 'remainder__Total eve charge',\n",
              "       'remainder__Total night minutes', 'remainder__Total night calls',\n",
              "       'remainder__Total night charge', 'remainder__Total intl minutes',\n",
              "       'remainder__Total intl calls', 'remainder__Total intl charge',\n",
              "       'remainder__Customer service calls'], dtype=object)"
            ]
          },
          "metadata": {},
          "execution_count": 61
        }
      ]
    },
    {
      "cell_type": "code",
      "source": [
        "selected_features=lgr_pipe.named_steps['selector'].get_feature_names_out()  # selected features\n",
        "selected_features"
      ],
      "metadata": {
        "colab": {
          "base_uri": "https://localhost:8080/"
        },
        "id": "hldA3mVGBegS",
        "outputId": "acda99c9-59e7-4a07-e5a5-3a7a6c03e064"
      },
      "execution_count": null,
      "outputs": [
        {
          "output_type": "execute_result",
          "data": {
            "text/plain": [
              "array(['x0', 'x1', 'x2', 'x3', 'x7', 'x9', 'x19'], dtype=object)"
            ]
          },
          "metadata": {},
          "execution_count": 62
        }
      ]
    },
    {
      "cell_type": "code",
      "source": [
        "selected_features =feature_names[[int(i[1:]) for i in selected_features]]\n",
        "selected_features"
      ],
      "metadata": {
        "colab": {
          "base_uri": "https://localhost:8080/"
        },
        "id": "s4kBZjhkBmon",
        "outputId": "591d9851-c45f-4bad-bd49-7074c0726cb8"
      },
      "execution_count": null,
      "outputs": [
        {
          "output_type": "execute_result",
          "data": {
            "text/plain": [
              "array(['onehotencoder__International plan_No',\n",
              "       'onehotencoder__International plan_Yes',\n",
              "       'onehotencoder__Voice mail plan_No',\n",
              "       'onehotencoder__Voice mail plan_Yes',\n",
              "       'remainder__Total day minutes', 'remainder__Total day charge',\n",
              "       'remainder__Customer service calls'], dtype=object)"
            ]
          },
          "metadata": {},
          "execution_count": 63
        }
      ]
    },
    {
      "cell_type": "code",
      "source": [
        "clean_names = [i.split('__')[-1] for i in selected_features]\n",
        "clean_names"
      ],
      "metadata": {
        "colab": {
          "base_uri": "https://localhost:8080/"
        },
        "id": "P12muuxTBuT4",
        "outputId": "200da66b-aea4-4e32-c0a6-8e4203d6fd1f"
      },
      "execution_count": null,
      "outputs": [
        {
          "output_type": "execute_result",
          "data": {
            "text/plain": [
              "['International plan_No',\n",
              " 'International plan_Yes',\n",
              " 'Voice mail plan_No',\n",
              " 'Voice mail plan_Yes',\n",
              " 'Total day minutes',\n",
              " 'Total day charge',\n",
              " 'Customer service calls']"
            ]
          },
          "metadata": {},
          "execution_count": 64
        }
      ]
    },
    {
      "cell_type": "code",
      "source": [
        "coefs=lgr_pipe.named_steps['lrg'].coef_[0]\n",
        "coefs"
      ],
      "metadata": {
        "colab": {
          "base_uri": "https://localhost:8080/"
        },
        "id": "lIL8rSMcBzO7",
        "outputId": "b7f00971-be2d-4524-d768-cb0326c7dd42"
      },
      "execution_count": null,
      "outputs": [
        {
          "output_type": "execute_result",
          "data": {
            "text/plain": [
              "array([-1.04298226,  1.0428128 ,  0.40898154, -0.409151  ,  0.29790659,\n",
              "        0.3056387 ,  0.63520512])"
            ]
          },
          "metadata": {},
          "execution_count": 65
        }
      ]
    },
    {
      "cell_type": "code",
      "source": [
        "coef_df = pd.DataFrame({'feature': clean_names, 'coefs':coefs})\n",
        "coef_df['coefs'] = coef_df['coefs'].apply(abs)\n",
        "coef_df = coef_df.sort_values(by = 'coefs', ascending = False)\n",
        "coef_df"
      ],
      "metadata": {
        "colab": {
          "base_uri": "https://localhost:8080/",
          "height": 269
        },
        "id": "P2TapDjBB8dV",
        "outputId": "4e47be04-9501-43b5-dc35-fd6ea8841fc7"
      },
      "execution_count": null,
      "outputs": [
        {
          "output_type": "execute_result",
          "data": {
            "text/plain": [
              "                  feature     coefs\n",
              "0   International plan_No  1.042982\n",
              "1  International plan_Yes  1.042813\n",
              "6  Customer service calls  0.635205\n",
              "3     Voice mail plan_Yes  0.409151\n",
              "2      Voice mail plan_No  0.408982\n",
              "5        Total day charge  0.305639\n",
              "4       Total day minutes  0.297907"
            ],
            "text/html": [
              "\n",
              "  <div id=\"df-7ec74270-b793-4c2a-a6ac-fb072af08eae\">\n",
              "    <div class=\"colab-df-container\">\n",
              "      <div>\n",
              "<style scoped>\n",
              "    .dataframe tbody tr th:only-of-type {\n",
              "        vertical-align: middle;\n",
              "    }\n",
              "\n",
              "    .dataframe tbody tr th {\n",
              "        vertical-align: top;\n",
              "    }\n",
              "\n",
              "    .dataframe thead th {\n",
              "        text-align: right;\n",
              "    }\n",
              "</style>\n",
              "<table border=\"1\" class=\"dataframe\">\n",
              "  <thead>\n",
              "    <tr style=\"text-align: right;\">\n",
              "      <th></th>\n",
              "      <th>feature</th>\n",
              "      <th>coefs</th>\n",
              "    </tr>\n",
              "  </thead>\n",
              "  <tbody>\n",
              "    <tr>\n",
              "      <th>0</th>\n",
              "      <td>International plan_No</td>\n",
              "      <td>1.042982</td>\n",
              "    </tr>\n",
              "    <tr>\n",
              "      <th>1</th>\n",
              "      <td>International plan_Yes</td>\n",
              "      <td>1.042813</td>\n",
              "    </tr>\n",
              "    <tr>\n",
              "      <th>6</th>\n",
              "      <td>Customer service calls</td>\n",
              "      <td>0.635205</td>\n",
              "    </tr>\n",
              "    <tr>\n",
              "      <th>3</th>\n",
              "      <td>Voice mail plan_Yes</td>\n",
              "      <td>0.409151</td>\n",
              "    </tr>\n",
              "    <tr>\n",
              "      <th>2</th>\n",
              "      <td>Voice mail plan_No</td>\n",
              "      <td>0.408982</td>\n",
              "    </tr>\n",
              "    <tr>\n",
              "      <th>5</th>\n",
              "      <td>Total day charge</td>\n",
              "      <td>0.305639</td>\n",
              "    </tr>\n",
              "    <tr>\n",
              "      <th>4</th>\n",
              "      <td>Total day minutes</td>\n",
              "      <td>0.297907</td>\n",
              "    </tr>\n",
              "  </tbody>\n",
              "</table>\n",
              "</div>\n",
              "      <button class=\"colab-df-convert\" onclick=\"convertToInteractive('df-7ec74270-b793-4c2a-a6ac-fb072af08eae')\"\n",
              "              title=\"Convert this dataframe to an interactive table.\"\n",
              "              style=\"display:none;\">\n",
              "        \n",
              "  <svg xmlns=\"http://www.w3.org/2000/svg\" height=\"24px\"viewBox=\"0 0 24 24\"\n",
              "       width=\"24px\">\n",
              "    <path d=\"M0 0h24v24H0V0z\" fill=\"none\"/>\n",
              "    <path d=\"M18.56 5.44l.94 2.06.94-2.06 2.06-.94-2.06-.94-.94-2.06-.94 2.06-2.06.94zm-11 1L8.5 8.5l.94-2.06 2.06-.94-2.06-.94L8.5 2.5l-.94 2.06-2.06.94zm10 10l.94 2.06.94-2.06 2.06-.94-2.06-.94-.94-2.06-.94 2.06-2.06.94z\"/><path d=\"M17.41 7.96l-1.37-1.37c-.4-.4-.92-.59-1.43-.59-.52 0-1.04.2-1.43.59L10.3 9.45l-7.72 7.72c-.78.78-.78 2.05 0 2.83L4 21.41c.39.39.9.59 1.41.59.51 0 1.02-.2 1.41-.59l7.78-7.78 2.81-2.81c.8-.78.8-2.07 0-2.86zM5.41 20L4 18.59l7.72-7.72 1.47 1.35L5.41 20z\"/>\n",
              "  </svg>\n",
              "      </button>\n",
              "      \n",
              "  <style>\n",
              "    .colab-df-container {\n",
              "      display:flex;\n",
              "      flex-wrap:wrap;\n",
              "      gap: 12px;\n",
              "    }\n",
              "\n",
              "    .colab-df-convert {\n",
              "      background-color: #E8F0FE;\n",
              "      border: none;\n",
              "      border-radius: 50%;\n",
              "      cursor: pointer;\n",
              "      display: none;\n",
              "      fill: #1967D2;\n",
              "      height: 32px;\n",
              "      padding: 0 0 0 0;\n",
              "      width: 32px;\n",
              "    }\n",
              "\n",
              "    .colab-df-convert:hover {\n",
              "      background-color: #E2EBFA;\n",
              "      box-shadow: 0px 1px 2px rgba(60, 64, 67, 0.3), 0px 1px 3px 1px rgba(60, 64, 67, 0.15);\n",
              "      fill: #174EA6;\n",
              "    }\n",
              "\n",
              "    [theme=dark] .colab-df-convert {\n",
              "      background-color: #3B4455;\n",
              "      fill: #D2E3FC;\n",
              "    }\n",
              "\n",
              "    [theme=dark] .colab-df-convert:hover {\n",
              "      background-color: #434B5C;\n",
              "      box-shadow: 0px 1px 3px 1px rgba(0, 0, 0, 0.15);\n",
              "      filter: drop-shadow(0px 1px 2px rgba(0, 0, 0, 0.3));\n",
              "      fill: #FFFFFF;\n",
              "    }\n",
              "  </style>\n",
              "\n",
              "      <script>\n",
              "        const buttonEl =\n",
              "          document.querySelector('#df-7ec74270-b793-4c2a-a6ac-fb072af08eae button.colab-df-convert');\n",
              "        buttonEl.style.display =\n",
              "          google.colab.kernel.accessAllowed ? 'block' : 'none';\n",
              "\n",
              "        async function convertToInteractive(key) {\n",
              "          const element = document.querySelector('#df-7ec74270-b793-4c2a-a6ac-fb072af08eae');\n",
              "          const dataTable =\n",
              "            await google.colab.kernel.invokeFunction('convertToInteractive',\n",
              "                                                     [key], {});\n",
              "          if (!dataTable) return;\n",
              "\n",
              "          const docLinkHtml = 'Like what you see? Visit the ' +\n",
              "            '<a target=\"_blank\" href=https://colab.research.google.com/notebooks/data_table.ipynb>data table notebook</a>'\n",
              "            + ' to learn more about interactive tables.';\n",
              "          element.innerHTML = '';\n",
              "          dataTable['output_type'] = 'display_data';\n",
              "          await google.colab.output.renderOutput(dataTable, element);\n",
              "          const docLink = document.createElement('div');\n",
              "          docLink.innerHTML = docLinkHtml;\n",
              "          element.appendChild(docLink);\n",
              "        }\n",
              "      </script>\n",
              "    </div>\n",
              "  </div>\n",
              "  "
            ]
          },
          "metadata": {},
          "execution_count": 66
        }
      ]
    },
    {
      "cell_type": "code",
      "source": [
        "lgr_model.score(X_train,y_train)"
      ],
      "metadata": {
        "colab": {
          "base_uri": "https://localhost:8080/"
        },
        "id": "qUHLtvh1frHl",
        "outputId": "beeed88c-066f-47ae-e045-75e5a5a15d4f"
      },
      "execution_count": null,
      "outputs": [
        {
          "output_type": "execute_result",
          "data": {
            "text/plain": [
              "0.8555507929704244"
            ]
          },
          "metadata": {},
          "execution_count": 67
        }
      ]
    },
    {
      "cell_type": "code",
      "source": [
        "lgr_model.score(X_test,y_test)"
      ],
      "metadata": {
        "colab": {
          "base_uri": "https://localhost:8080/"
        },
        "id": "rk8D16Xof00O",
        "outputId": "1dc31a35-1c85-4dd2-8fb0-c192a35cbf3f"
      },
      "execution_count": null,
      "outputs": [
        {
          "output_type": "execute_result",
          "data": {
            "text/plain": [
              "0.857"
            ]
          },
          "metadata": {},
          "execution_count": 68
        }
      ]
    },
    {
      "cell_type": "markdown",
      "source": [
        "### SVM Modle"
      ],
      "metadata": {
        "id": "za8W3TTjCIcY"
      }
    },
    {
      "cell_type": "code",
      "source": [
        "start_time=time.time()\n",
        "svc_grid=GridSearchCV(estimator=svc_pipe,\n",
        "                      param_grid=svc_params,\n",
        "                      cv=5)\n",
        "svm=svc_grid.fit(X_train,y_train)\n",
        "end_time=time.time()\n",
        "print(end_time-start_time)"
      ],
      "metadata": {
        "id": "VXvn8eIWCAHu",
        "colab": {
          "base_uri": "https://localhost:8080/"
        },
        "outputId": "61dc2166-6042-46f5-8a23-fb34d5104359"
      },
      "execution_count": null,
      "outputs": [
        {
          "output_type": "stream",
          "name": "stdout",
          "text": [
            "23.075573682785034\n"
          ]
        }
      ]
    },
    {
      "cell_type": "code",
      "source": [
        " svm.best_estimator_         "
      ],
      "metadata": {
        "id": "sDDQrn0UCLpV",
        "colab": {
          "base_uri": "https://localhost:8080/",
          "height": 192
        },
        "outputId": "7b4248b5-2b22-439c-de5a-ac68890a880d"
      },
      "execution_count": null,
      "outputs": [
        {
          "output_type": "execute_result",
          "data": {
            "text/plain": [
              "Pipeline(steps=[('transformer',\n",
              "                 ColumnTransformer(remainder=StandardScaler(),\n",
              "                                   transformers=[('onehotencoder',\n",
              "                                                  OneHotEncoder(),\n",
              "                                                  <sklearn.compose._column_transformer.make_column_selector object at 0x7f9b1983d880>)])),\n",
              "                ('svc', SVC(coef0=0, gamma=0.1))])"
            ],
            "text/html": [
              "<style>#sk-a499463f-dce1-4e1b-8408-ed9786f7ecf2 {color: black;background-color: white;}#sk-a499463f-dce1-4e1b-8408-ed9786f7ecf2 pre{padding: 0;}#sk-a499463f-dce1-4e1b-8408-ed9786f7ecf2 div.sk-toggleable {background-color: white;}#sk-a499463f-dce1-4e1b-8408-ed9786f7ecf2 label.sk-toggleable__label {cursor: pointer;display: block;width: 100%;margin-bottom: 0;padding: 0.3em;box-sizing: border-box;text-align: center;}#sk-a499463f-dce1-4e1b-8408-ed9786f7ecf2 label.sk-toggleable__label-arrow:before {content: \"▸\";float: left;margin-right: 0.25em;color: #696969;}#sk-a499463f-dce1-4e1b-8408-ed9786f7ecf2 label.sk-toggleable__label-arrow:hover:before {color: black;}#sk-a499463f-dce1-4e1b-8408-ed9786f7ecf2 div.sk-estimator:hover label.sk-toggleable__label-arrow:before {color: black;}#sk-a499463f-dce1-4e1b-8408-ed9786f7ecf2 div.sk-toggleable__content {max-height: 0;max-width: 0;overflow: hidden;text-align: left;background-color: #f0f8ff;}#sk-a499463f-dce1-4e1b-8408-ed9786f7ecf2 div.sk-toggleable__content pre {margin: 0.2em;color: black;border-radius: 0.25em;background-color: #f0f8ff;}#sk-a499463f-dce1-4e1b-8408-ed9786f7ecf2 input.sk-toggleable__control:checked~div.sk-toggleable__content {max-height: 200px;max-width: 100%;overflow: auto;}#sk-a499463f-dce1-4e1b-8408-ed9786f7ecf2 input.sk-toggleable__control:checked~label.sk-toggleable__label-arrow:before {content: \"▾\";}#sk-a499463f-dce1-4e1b-8408-ed9786f7ecf2 div.sk-estimator input.sk-toggleable__control:checked~label.sk-toggleable__label {background-color: #d4ebff;}#sk-a499463f-dce1-4e1b-8408-ed9786f7ecf2 div.sk-label input.sk-toggleable__control:checked~label.sk-toggleable__label {background-color: #d4ebff;}#sk-a499463f-dce1-4e1b-8408-ed9786f7ecf2 input.sk-hidden--visually {border: 0;clip: rect(1px 1px 1px 1px);clip: rect(1px, 1px, 1px, 1px);height: 1px;margin: -1px;overflow: hidden;padding: 0;position: absolute;width: 1px;}#sk-a499463f-dce1-4e1b-8408-ed9786f7ecf2 div.sk-estimator {font-family: monospace;background-color: #f0f8ff;border: 1px dotted black;border-radius: 0.25em;box-sizing: border-box;margin-bottom: 0.5em;}#sk-a499463f-dce1-4e1b-8408-ed9786f7ecf2 div.sk-estimator:hover {background-color: #d4ebff;}#sk-a499463f-dce1-4e1b-8408-ed9786f7ecf2 div.sk-parallel-item::after {content: \"\";width: 100%;border-bottom: 1px solid gray;flex-grow: 1;}#sk-a499463f-dce1-4e1b-8408-ed9786f7ecf2 div.sk-label:hover label.sk-toggleable__label {background-color: #d4ebff;}#sk-a499463f-dce1-4e1b-8408-ed9786f7ecf2 div.sk-serial::before {content: \"\";position: absolute;border-left: 1px solid gray;box-sizing: border-box;top: 2em;bottom: 0;left: 50%;}#sk-a499463f-dce1-4e1b-8408-ed9786f7ecf2 div.sk-serial {display: flex;flex-direction: column;align-items: center;background-color: white;padding-right: 0.2em;padding-left: 0.2em;}#sk-a499463f-dce1-4e1b-8408-ed9786f7ecf2 div.sk-item {z-index: 1;}#sk-a499463f-dce1-4e1b-8408-ed9786f7ecf2 div.sk-parallel {display: flex;align-items: stretch;justify-content: center;background-color: white;}#sk-a499463f-dce1-4e1b-8408-ed9786f7ecf2 div.sk-parallel::before {content: \"\";position: absolute;border-left: 1px solid gray;box-sizing: border-box;top: 2em;bottom: 0;left: 50%;}#sk-a499463f-dce1-4e1b-8408-ed9786f7ecf2 div.sk-parallel-item {display: flex;flex-direction: column;position: relative;background-color: white;}#sk-a499463f-dce1-4e1b-8408-ed9786f7ecf2 div.sk-parallel-item:first-child::after {align-self: flex-end;width: 50%;}#sk-a499463f-dce1-4e1b-8408-ed9786f7ecf2 div.sk-parallel-item:last-child::after {align-self: flex-start;width: 50%;}#sk-a499463f-dce1-4e1b-8408-ed9786f7ecf2 div.sk-parallel-item:only-child::after {width: 0;}#sk-a499463f-dce1-4e1b-8408-ed9786f7ecf2 div.sk-dashed-wrapped {border: 1px dashed gray;margin: 0 0.4em 0.5em 0.4em;box-sizing: border-box;padding-bottom: 0.4em;background-color: white;position: relative;}#sk-a499463f-dce1-4e1b-8408-ed9786f7ecf2 div.sk-label label {font-family: monospace;font-weight: bold;background-color: white;display: inline-block;line-height: 1.2em;}#sk-a499463f-dce1-4e1b-8408-ed9786f7ecf2 div.sk-label-container {position: relative;z-index: 2;text-align: center;}#sk-a499463f-dce1-4e1b-8408-ed9786f7ecf2 div.sk-container {/* jupyter's `normalize.less` sets `[hidden] { display: none; }` but bootstrap.min.css set `[hidden] { display: none !important; }` so we also need the `!important` here to be able to override the default hidden behavior on the sphinx rendered scikit-learn.org. See: https://github.com/scikit-learn/scikit-learn/issues/21755 */display: inline-block !important;position: relative;}#sk-a499463f-dce1-4e1b-8408-ed9786f7ecf2 div.sk-text-repr-fallback {display: none;}</style><div id=\"sk-a499463f-dce1-4e1b-8408-ed9786f7ecf2\" class=\"sk-top-container\"><div class=\"sk-text-repr-fallback\"><pre>Pipeline(steps=[(&#x27;transformer&#x27;,\n",
              "                 ColumnTransformer(remainder=StandardScaler(),\n",
              "                                   transformers=[(&#x27;onehotencoder&#x27;,\n",
              "                                                  OneHotEncoder(),\n",
              "                                                  &lt;sklearn.compose._column_transformer.make_column_selector object at 0x7f9b1983d880&gt;)])),\n",
              "                (&#x27;svc&#x27;, SVC(coef0=0, gamma=0.1))])</pre><b>Please rerun this cell to show the HTML repr or trust the notebook.</b></div><div class=\"sk-container\" hidden><div class=\"sk-item sk-dashed-wrapped\"><div class=\"sk-label-container\"><div class=\"sk-label sk-toggleable\"><input class=\"sk-toggleable__control sk-hidden--visually\" id=\"f66479d4-c70d-4d37-b974-b098dc4a5f60\" type=\"checkbox\" ><label for=\"f66479d4-c70d-4d37-b974-b098dc4a5f60\" class=\"sk-toggleable__label sk-toggleable__label-arrow\">Pipeline</label><div class=\"sk-toggleable__content\"><pre>Pipeline(steps=[(&#x27;transformer&#x27;,\n",
              "                 ColumnTransformer(remainder=StandardScaler(),\n",
              "                                   transformers=[(&#x27;onehotencoder&#x27;,\n",
              "                                                  OneHotEncoder(),\n",
              "                                                  &lt;sklearn.compose._column_transformer.make_column_selector object at 0x7f9b1983d880&gt;)])),\n",
              "                (&#x27;svc&#x27;, SVC(coef0=0, gamma=0.1))])</pre></div></div></div><div class=\"sk-serial\"><div class=\"sk-item sk-dashed-wrapped\"><div class=\"sk-label-container\"><div class=\"sk-label sk-toggleable\"><input class=\"sk-toggleable__control sk-hidden--visually\" id=\"8f2c9e20-31ec-42ec-b8be-14f4c0fd175c\" type=\"checkbox\" ><label for=\"8f2c9e20-31ec-42ec-b8be-14f4c0fd175c\" class=\"sk-toggleable__label sk-toggleable__label-arrow\">transformer: ColumnTransformer</label><div class=\"sk-toggleable__content\"><pre>ColumnTransformer(remainder=StandardScaler(),\n",
              "                  transformers=[(&#x27;onehotencoder&#x27;, OneHotEncoder(),\n",
              "                                 &lt;sklearn.compose._column_transformer.make_column_selector object at 0x7f9b1983d880&gt;)])</pre></div></div></div><div class=\"sk-parallel\"><div class=\"sk-parallel-item\"><div class=\"sk-item\"><div class=\"sk-label-container\"><div class=\"sk-label sk-toggleable\"><input class=\"sk-toggleable__control sk-hidden--visually\" id=\"85147755-6fec-4402-9afa-ea667d8d5d1e\" type=\"checkbox\" ><label for=\"85147755-6fec-4402-9afa-ea667d8d5d1e\" class=\"sk-toggleable__label sk-toggleable__label-arrow\">onehotencoder</label><div class=\"sk-toggleable__content\"><pre>&lt;sklearn.compose._column_transformer.make_column_selector object at 0x7f9b1983d880&gt;</pre></div></div></div><div class=\"sk-serial\"><div class=\"sk-item\"><div class=\"sk-estimator sk-toggleable\"><input class=\"sk-toggleable__control sk-hidden--visually\" id=\"45be1b14-a1be-4b37-831c-e4e9d00b8b7a\" type=\"checkbox\" ><label for=\"45be1b14-a1be-4b37-831c-e4e9d00b8b7a\" class=\"sk-toggleable__label sk-toggleable__label-arrow\">OneHotEncoder</label><div class=\"sk-toggleable__content\"><pre>OneHotEncoder()</pre></div></div></div></div></div></div><div class=\"sk-parallel-item\"><div class=\"sk-item\"><div class=\"sk-label-container\"><div class=\"sk-label sk-toggleable\"><input class=\"sk-toggleable__control sk-hidden--visually\" id=\"5ee88a06-d743-41d8-8922-0e93fe62f186\" type=\"checkbox\" ><label for=\"5ee88a06-d743-41d8-8922-0e93fe62f186\" class=\"sk-toggleable__label sk-toggleable__label-arrow\">remainder</label><div class=\"sk-toggleable__content\"><pre>[&#x27;Account length&#x27;, &#x27;Area code&#x27;, &#x27;Number vmail messages&#x27;, &#x27;Total day minutes&#x27;, &#x27;Total day calls&#x27;, &#x27;Total day charge&#x27;, &#x27;Total eve minutes&#x27;, &#x27;Total eve calls&#x27;, &#x27;Total eve charge&#x27;, &#x27;Total night minutes&#x27;, &#x27;Total night calls&#x27;, &#x27;Total night charge&#x27;, &#x27;Total intl minutes&#x27;, &#x27;Total intl calls&#x27;, &#x27;Total intl charge&#x27;, &#x27;Customer service calls&#x27;]</pre></div></div></div><div class=\"sk-serial\"><div class=\"sk-item\"><div class=\"sk-estimator sk-toggleable\"><input class=\"sk-toggleable__control sk-hidden--visually\" id=\"0ca80498-2205-4885-9930-025fe2533598\" type=\"checkbox\" ><label for=\"0ca80498-2205-4885-9930-025fe2533598\" class=\"sk-toggleable__label sk-toggleable__label-arrow\">StandardScaler</label><div class=\"sk-toggleable__content\"><pre>StandardScaler()</pre></div></div></div></div></div></div></div></div><div class=\"sk-item\"><div class=\"sk-estimator sk-toggleable\"><input class=\"sk-toggleable__control sk-hidden--visually\" id=\"9f32ba98-bf0f-47ac-bbc0-0d222fc5ddc1\" type=\"checkbox\" ><label for=\"9f32ba98-bf0f-47ac-bbc0-0d222fc5ddc1\" class=\"sk-toggleable__label sk-toggleable__label-arrow\">SVC</label><div class=\"sk-toggleable__content\"><pre>SVC(coef0=0, gamma=0.1)</pre></div></div></div></div></div></div></div>"
            ]
          },
          "metadata": {},
          "execution_count": 70
        }
      ]
    },
    {
      "cell_type": "code",
      "source": [
        "svm.best_params_"
      ],
      "metadata": {
        "colab": {
          "base_uri": "https://localhost:8080/"
        },
        "id": "lv8ZRdAoRKNJ",
        "outputId": "48d6c676-3490-4cd3-affd-dbf959401beb"
      },
      "execution_count": null,
      "outputs": [
        {
          "output_type": "execute_result",
          "data": {
            "text/plain": [
              "{'svc__coef0': 0, 'svc__gamma': 0.1, 'svc__kernel': 'rbf'}"
            ]
          },
          "metadata": {},
          "execution_count": 71
        }
      ]
    },
    {
      "cell_type": "code",
      "source": [
        "svm.best_score_"
      ],
      "metadata": {
        "colab": {
          "base_uri": "https://localhost:8080/"
        },
        "id": "vWgUiafFRMHR",
        "outputId": "15d1997b-630f-4181-cc28-172d561a0004"
      },
      "execution_count": null,
      "outputs": [
        {
          "output_type": "execute_result",
          "data": {
            "text/plain": [
              "0.8958349799193096"
            ]
          },
          "metadata": {},
          "execution_count": 72
        }
      ]
    },
    {
      "cell_type": "code",
      "source": [
        "svm.classes_"
      ],
      "metadata": {
        "colab": {
          "base_uri": "https://localhost:8080/"
        },
        "id": "yTciTSFeRQok",
        "outputId": "f1903c34-76f8-4bb2-cdb2-c103d7b98f00"
      },
      "execution_count": null,
      "outputs": [
        {
          "output_type": "execute_result",
          "data": {
            "text/plain": [
              "array([False,  True])"
            ]
          },
          "metadata": {},
          "execution_count": 73
        }
      ]
    },
    {
      "cell_type": "code",
      "source": [
        "#svm.cv_results_"
      ],
      "metadata": {
        "id": "UOmtP4hxRSkh"
      },
      "execution_count": null,
      "outputs": []
    },
    {
      "cell_type": "code",
      "source": [
        "features_name=svm.best_estimator_['transformer'].get_feature_names_out()\n",
        "features_name"
      ],
      "metadata": {
        "colab": {
          "base_uri": "https://localhost:8080/"
        },
        "id": "nvGohMMURUXp",
        "outputId": "546cf5fd-1ec7-40bb-ac8a-a0c0aea544c6"
      },
      "execution_count": null,
      "outputs": [
        {
          "output_type": "execute_result",
          "data": {
            "text/plain": [
              "array(['onehotencoder__International plan_No',\n",
              "       'onehotencoder__International plan_Yes',\n",
              "       'onehotencoder__Voice mail plan_No',\n",
              "       'onehotencoder__Voice mail plan_Yes', 'remainder__Account length',\n",
              "       'remainder__Area code', 'remainder__Number vmail messages',\n",
              "       'remainder__Total day minutes', 'remainder__Total day calls',\n",
              "       'remainder__Total day charge', 'remainder__Total eve minutes',\n",
              "       'remainder__Total eve calls', 'remainder__Total eve charge',\n",
              "       'remainder__Total night minutes', 'remainder__Total night calls',\n",
              "       'remainder__Total night charge', 'remainder__Total intl minutes',\n",
              "       'remainder__Total intl calls', 'remainder__Total intl charge',\n",
              "       'remainder__Customer service calls'], dtype=object)"
            ]
          },
          "metadata": {},
          "execution_count": 75
        }
      ]
    },
    {
      "cell_type": "code",
      "source": [
        "features_name[0].split('__')[-1]"
      ],
      "metadata": {
        "colab": {
          "base_uri": "https://localhost:8080/",
          "height": 36
        },
        "id": "KTFWfO6wRmeJ",
        "outputId": "fbb7d978-5af9-44d3-f929-6eac7ee853a2"
      },
      "execution_count": null,
      "outputs": [
        {
          "output_type": "execute_result",
          "data": {
            "text/plain": [
              "'International plan_No'"
            ],
            "application/vnd.google.colaboratory.intrinsic+json": {
              "type": "string"
            }
          },
          "metadata": {},
          "execution_count": 76
        }
      ]
    },
    {
      "cell_type": "code",
      "source": [
        "#svm only linear and poly kernels\n",
        "start_time=time.time()\n",
        "svc_poly_grid=GridSearchCV(estimator=svc_pipe,\n",
        "                      param_grid=svc_poly_params,\n",
        "                      cv=5)\n",
        "svm_poly=svc_grid.fit(X_train,y_train)\n",
        "end_time=time.time()\n",
        "print(end_time-start_time)"
      ],
      "metadata": {
        "id": "h2oqYkagRwa5",
        "colab": {
          "base_uri": "https://localhost:8080/"
        },
        "outputId": "3c3fa433-f283-4810-e5f2-3079b07701f2"
      },
      "execution_count": null,
      "outputs": [
        {
          "output_type": "stream",
          "name": "stdout",
          "text": [
            "23.610329389572144\n"
          ]
        }
      ]
    },
    {
      "cell_type": "code",
      "source": [
        "svm_poly.best_score_"
      ],
      "metadata": {
        "id": "_D5ZqGqzSD-2",
        "colab": {
          "base_uri": "https://localhost:8080/"
        },
        "outputId": "f841275e-c1fe-444b-cafe-066e56deacd6"
      },
      "execution_count": null,
      "outputs": [
        {
          "output_type": "execute_result",
          "data": {
            "text/plain": [
              "0.8958349799193096"
            ]
          },
          "metadata": {},
          "execution_count": 78
        }
      ]
    },
    {
      "cell_type": "code",
      "source": [
        "\n"
      ],
      "metadata": {
        "id": "bRD1PC2FfC2C"
      },
      "execution_count": null,
      "outputs": []
    },
    {
      "cell_type": "markdown",
      "source": [
        "### Evaluating model performance"
      ],
      "metadata": {
        "id": "CxK80nvDgU1y"
      }
    },
    {
      "cell_type": "markdown",
      "source": [
        "K Nearest Neighbors (KNN)"
      ],
      "metadata": {
        "id": "DIeobt5mgf0V"
      }
    },
    {
      "cell_type": "code",
      "source": [
        "train_knn_pred=knn.predict(X_train)\n",
        "test_knn_pred = knn.predict(X_test)\n",
        "train_knn_confusion=confusion_matrix(y_train,train_knn_pred)\n",
        "test_knn_confusion=confusion_matrix(y_test,test_knn_pred)"
      ],
      "metadata": {
        "id": "JZr3GLzsgdMt"
      },
      "execution_count": null,
      "outputs": []
    },
    {
      "cell_type": "code",
      "source": [
        "print(classification_report(y_train,train_knn_pred))"
      ],
      "metadata": {
        "colab": {
          "base_uri": "https://localhost:8080/"
        },
        "id": "1PsPQ4XTgjb0",
        "outputId": "00539df8-b112-4011-ac36-5a03494f3880"
      },
      "execution_count": null,
      "outputs": [
        {
          "output_type": "stream",
          "name": "stdout",
          "text": [
            "              precision    recall  f1-score   support\n",
            "\n",
            "       False       0.92      0.99      0.96      1993\n",
            "        True       0.94      0.49      0.65       340\n",
            "\n",
            "    accuracy                           0.92      2333\n",
            "   macro avg       0.93      0.74      0.80      2333\n",
            "weighted avg       0.92      0.92      0.91      2333\n",
            "\n"
          ]
        }
      ]
    },
    {
      "cell_type": "code",
      "source": [
        "print(classification_report(y_test,test_knn_pred))"
      ],
      "metadata": {
        "colab": {
          "base_uri": "https://localhost:8080/"
        },
        "id": "ZleN9G7tgl9G",
        "outputId": "ab215213-1fe0-4ac8-da49-ae6f240f3bfe"
      },
      "execution_count": null,
      "outputs": [
        {
          "output_type": "stream",
          "name": "stdout",
          "text": [
            "              precision    recall  f1-score   support\n",
            "\n",
            "       False       0.89      0.98      0.94       857\n",
            "        True       0.75      0.28      0.41       143\n",
            "\n",
            "    accuracy                           0.88      1000\n",
            "   macro avg       0.82      0.63      0.67      1000\n",
            "weighted avg       0.87      0.88      0.86      1000\n",
            "\n"
          ]
        }
      ]
    },
    {
      "cell_type": "code",
      "source": [
        "disp_train_knn=ConfusionMatrixDisplay(train_knn_confusion)\n",
        "disp_train_knn.plot()\n",
        "plt.show()"
      ],
      "metadata": {
        "colab": {
          "base_uri": "https://localhost:8080/",
          "height": 279
        },
        "id": "ASqYCWVKgs0O",
        "outputId": "57ae49ce-e02e-4ae7-f3f4-a5e513fa6195"
      },
      "execution_count": null,
      "outputs": [
        {
          "output_type": "display_data",
          "data": {
            "text/plain": [
              "<Figure size 432x288 with 2 Axes>"
            ],
            "image/png": "[encoded data removed]"
          },
          "metadata": {
            "needs_background": "light"
          }
        }
      ]
    },
    {
      "cell_type": "code",
      "source": [
        "disp_test_knn=ConfusionMatrixDisplay(test_knn_confusion)\n",
        "disp_test_knn.plot()\n",
        "plt.show()"
      ],
      "metadata": {
        "colab": {
          "base_uri": "https://localhost:8080/",
          "height": 279
        },
        "id": "PEW6nFcDg1V-",
        "outputId": "8da44236-6aed-4971-fe44-bf2d6c4a4c6d"
      },
      "execution_count": null,
      "outputs": [
        {
          "output_type": "display_data",
          "data": {
            "text/plain": [
              "<Figure size 432x288 with 2 Axes>"
            ],
            "image/png": "[encoded data removed]"
          },
          "metadata": {
            "needs_background": "light"
          }
        }
      ]
    },
    {
      "cell_type": "code",
      "source": [
        "fig, ax = plt.subplots(1, 2, figsize = (20, 6))\n",
        "ConfusionMatrixDisplay.from_estimator(knn, X_test, y_test, ax = ax[0])\n",
        "RocCurveDisplay.from_estimator(knn, X_test, y_test, ax = ax[1])\n",
        "ax[1].plot(np.array([0, 1]), np.array([0, 1]))"
      ],
      "metadata": {
        "colab": {
          "base_uri": "https://localhost:8080/",
          "height": 405
        },
        "id": "5j3q_4H1hxhZ",
        "outputId": "bc1689ae-6402-4d96-d81c-8474ed7907a0"
      },
      "execution_count": null,
      "outputs": [
        {
          "output_type": "execute_result",
          "data": {
            "text/plain": [
              "[<matplotlib.lines.Line2D at 0x7f9b169709a0>]"
            ]
          },
          "metadata": {},
          "execution_count": 89
        },
        {
          "output_type": "display_data",
          "data": {
            "text/plain": [
              "<Figure size 1440x432 with 3 Axes>"
            ],
            "image/png": "[encoded data removed]"
          },
          "metadata": {
            "needs_background": "light"
          }
        }
      ]
    },
    {
      "cell_type": "code",
      "source": [
        "train_accurcy_score=accuracy_score(train_knn_pred,y_train)\n",
        "test_accuracy_score=accuracy_score(test_knn_pred,y_test)\n",
        "train_accurcy_score,test_accuracy_score"
      ],
      "metadata": {
        "colab": {
          "base_uri": "https://localhost:8080/"
        },
        "id": "i3FbnGD2g61t",
        "outputId": "50c9ee16-ab98-4d8b-cb90-ba0d2f5d70ed"
      },
      "execution_count": null,
      "outputs": [
        {
          "output_type": "execute_result",
          "data": {
            "text/plain": [
              "(0.9215602228889841, 0.884)"
            ]
          },
          "metadata": {},
          "execution_count": 84
        }
      ]
    },
    {
      "cell_type": "code",
      "source": [
        "train_precision_score=precision_score(y_train,train_knn_pred,average='macro')\n",
        "test_precision_score=precision_score(y_test,test_knn_pred,average='macro')\n",
        "train_precision_score,test_precision_score"
      ],
      "metadata": {
        "colab": {
          "base_uri": "https://localhost:8080/"
        },
        "id": "5G4KWgb2g-qP",
        "outputId": "e8b59d14-058d-49a1-9fb0-530d545c9130"
      },
      "execution_count": null,
      "outputs": [
        {
          "output_type": "execute_result",
          "data": {
            "text/plain": [
              "(0.9316308187373563, 0.8229762307983504)"
            ]
          },
          "metadata": {},
          "execution_count": 85
        }
      ]
    },
    {
      "cell_type": "code",
      "source": [
        "train_precision_score=precision_score(y_train,train_knn_pred,average='weighted')\n",
        "test_precision_score=precision_score(y_test,test_knn_pred,average='weighted')\n",
        "train_precision_score,test_precision_score"
      ],
      "metadata": {
        "colab": {
          "base_uri": "https://localhost:8080/"
        },
        "id": "ruwk57pRhCCy",
        "outputId": "019547a4-2238-45eb-d9bb-39e458e55495"
      },
      "execution_count": null,
      "outputs": [
        {
          "output_type": "execute_result",
          "data": {
            "text/plain": [
              "(0.9232191487336376, 0.8717133350600704)"
            ]
          },
          "metadata": {},
          "execution_count": 86
        }
      ]
    },
    {
      "cell_type": "code",
      "source": [
        "train_recall_score=recall_score(y_train,train_knn_pred,average='macro')\n",
        "test_recall_score=recall_score(y_test,test_knn_pred,average='macro')\n",
        "train_recall_score,test_recall_score"
      ],
      "metadata": {
        "colab": {
          "base_uri": "https://localhost:8080/"
        },
        "id": "J0VQvrfBhFCP",
        "outputId": "21186a86-df91-46ce-82ed-d0d10f567a5f"
      },
      "execution_count": null,
      "outputs": [
        {
          "output_type": "execute_result",
          "data": {
            "text/plain": [
              "(0.7430794545615537, 0.6322755424272344)"
            ]
          },
          "metadata": {},
          "execution_count": 87
        }
      ]
    },
    {
      "cell_type": "code",
      "source": [
        "train_recall_score=recall_score(y_train,train_knn_pred,average='weighted')\n",
        "test_recall_score=recall_score(y_test,test_knn_pred,average='weighted')\n",
        "train_recall_score,test_recall_score"
      ],
      "metadata": {
        "colab": {
          "base_uri": "https://localhost:8080/"
        },
        "id": "Pq8n08MThJA_",
        "outputId": "8935d206-caaf-425b-fb70-8cb9d1d36263"
      },
      "execution_count": null,
      "outputs": [
        {
          "output_type": "execute_result",
          "data": {
            "text/plain": [
              "(0.9215602228889841, 0.884)"
            ]
          },
          "metadata": {},
          "execution_count": 88
        }
      ]
    },
    {
      "cell_type": "code",
      "source": [],
      "metadata": {
        "id": "WKtFob9fhL2a"
      },
      "execution_count": null,
      "outputs": []
    },
    {
      "cell_type": "markdown",
      "source": [
        "### DecisionTree model"
      ],
      "metadata": {
        "id": "snMY0tpUk3Wj"
      }
    },
    {
      "cell_type": "code",
      "source": [
        "train_dtree_pred=dtree.predict(X_train)\n",
        "test_dtree_pred=dtree.predict(X_test)"
      ],
      "metadata": {
        "id": "F37qfnWWj_Jn"
      },
      "execution_count": null,
      "outputs": []
    },
    {
      "cell_type": "code",
      "source": [
        "print(classification_report(y_train,train_dtree_pred))"
      ],
      "metadata": {
        "colab": {
          "base_uri": "https://localhost:8080/"
        },
        "id": "jjAH2_osk8AU",
        "outputId": "cdab504a-209a-4217-975c-613b1dd82bd7"
      },
      "execution_count": null,
      "outputs": [
        {
          "output_type": "stream",
          "name": "stdout",
          "text": [
            "              precision    recall  f1-score   support\n",
            "\n",
            "       False       0.95      0.98      0.96      1993\n",
            "        True       0.83      0.70      0.76       340\n",
            "\n",
            "    accuracy                           0.94      2333\n",
            "   macro avg       0.89      0.84      0.86      2333\n",
            "weighted avg       0.93      0.94      0.93      2333\n",
            "\n"
          ]
        }
      ]
    },
    {
      "cell_type": "code",
      "source": [
        "print(classification_report(y_test,test_dtree_pred))"
      ],
      "metadata": {
        "colab": {
          "base_uri": "https://localhost:8080/"
        },
        "id": "e6Qj1CALk-Ox",
        "outputId": "493410b3-936c-472a-bb1a-a29c42bd9cc3"
      },
      "execution_count": null,
      "outputs": [
        {
          "output_type": "stream",
          "name": "stdout",
          "text": [
            "              precision    recall  f1-score   support\n",
            "\n",
            "       False       0.95      0.98      0.96       857\n",
            "        True       0.83      0.70      0.76       143\n",
            "\n",
            "    accuracy                           0.94      1000\n",
            "   macro avg       0.89      0.84      0.86      1000\n",
            "weighted avg       0.93      0.94      0.93      1000\n",
            "\n"
          ]
        }
      ]
    },
    {
      "cell_type": "code",
      "source": [
        "train_dtree_confusion=confusion_matrix(y_train,train_dtree_pred)\n",
        "disp_train_dtree=ConfusionMatrixDisplay(train_dtree_confusion)\n",
        "disp_train_dtree.plot()\n",
        "plt.show()"
      ],
      "metadata": {
        "colab": {
          "base_uri": "https://localhost:8080/",
          "height": 279
        },
        "id": "S_ohDamelLzx",
        "outputId": "9df6d7d4-02d2-4f1b-db91-17cc34ad777b"
      },
      "execution_count": null,
      "outputs": [
        {
          "output_type": "display_data",
          "data": {
            "text/plain": [
              "<Figure size 432x288 with 2 Axes>"
            ],
            "image/png": "[encoded data removed]"
          },
          "metadata": {
            "needs_background": "light"
          }
        }
      ]
    },
    {
      "cell_type": "code",
      "source": [
        "test_dtree_confusion=confusion_matrix(y_test,test_dtree_pred)\n",
        "disp_test_dtree=ConfusionMatrixDisplay(test_dtree_confusion)\n",
        "disp_test_dtree.plot()\n",
        "plt.show()"
      ],
      "metadata": {
        "colab": {
          "base_uri": "https://localhost:8080/",
          "height": 279
        },
        "id": "ETJXx4uilO3u",
        "outputId": "19f46156-1d79-45ce-80f7-a6d9564efc07"
      },
      "execution_count": null,
      "outputs": [
        {
          "output_type": "display_data",
          "data": {
            "text/plain": [
              "<Figure size 432x288 with 2 Axes>"
            ],
            "image/png": "[encoded data removed]"
          },
          "metadata": {
            "needs_background": "light"
          }
        }
      ]
    },
    {
      "cell_type": "code",
      "source": [
        "dtree_train_accurcy_score=accuracy_score(train_dtree_pred,y_train)\n",
        "dtree_test_accuracy_score=accuracy_score(test_dtree_pred,y_test)\n",
        "dtree_train_accurcy_score,dtree_test_accuracy_score"
      ],
      "metadata": {
        "colab": {
          "base_uri": "https://localhost:8080/"
        },
        "id": "KK6Z3_KCmC3E",
        "outputId": "9c520b43-07a6-4cd9-9169-a0a866884f4a"
      },
      "execution_count": null,
      "outputs": [
        {
          "output_type": "execute_result",
          "data": {
            "text/plain": [
              "(0.9361337333904843, 0.937)"
            ]
          },
          "metadata": {},
          "execution_count": 101
        }
      ]
    },
    {
      "cell_type": "code",
      "source": [
        "dtree_train_precision_score=precision_score(train_dtree_pred,y_train,average='macro')\n",
        "dtree_test_precision_score=precision_score(test_dtree_pred,y_test,average='macro')\n",
        "dtree_train_precision_score,dtree_test_precision_score"
      ],
      "metadata": {
        "colab": {
          "base_uri": "https://localhost:8080/"
        },
        "id": "VyMKFaldmFrr",
        "outputId": "0d9bf169-5b76-4080-8d6c-15e11a8b5e64"
      },
      "execution_count": null,
      "outputs": [
        {
          "output_type": "execute_result",
          "data": {
            "text/plain": [
              "(0.839428440718987, 0.8379817382151105)"
            ]
          },
          "metadata": {},
          "execution_count": 102
        }
      ]
    },
    {
      "cell_type": "code",
      "source": [
        "dtree_train_precision_score=precision_score(train_dtree_pred,y_train,average='weighted')\n",
        "dtree_test_precision_score=precision_score(test_dtree_pred,y_test,average='weighted')\n",
        "dtree_train_precision_score,dtree_test_precision_score"
      ],
      "metadata": {
        "colab": {
          "base_uri": "https://localhost:8080/"
        },
        "id": "ZjhmQLuRmH7l",
        "outputId": "aec59f0e-edb2-456b-ec7d-3d12b5bd718b"
      },
      "execution_count": null,
      "outputs": [
        {
          "output_type": "execute_result",
          "data": {
            "text/plain": [
              "(0.9423350407245307, 0.943379327790063)"
            ]
          },
          "metadata": {},
          "execution_count": 103
        }
      ]
    },
    {
      "cell_type": "code",
      "source": [
        "dtree_train_recall_score=recall_score(train_dtree_pred,y_train,average='macro')\n",
        "dtree_test_recall_score=recall_score(test_dtree_pred,y_test,average='macro')\n",
        "dtree_train_recall_score,dtree_test_recall_score"
      ],
      "metadata": {
        "colab": {
          "base_uri": "https://localhost:8080/"
        },
        "id": "DIKbnKjsmKxa",
        "outputId": "2debf6fc-d89d-4279-fe21-bb1ea954860b"
      },
      "execution_count": null,
      "outputs": [
        {
          "output_type": "execute_result",
          "data": {
            "text/plain": [
              "(0.8916939996798376, 0.8922348484848486)"
            ]
          },
          "metadata": {},
          "execution_count": 104
        }
      ]
    },
    {
      "cell_type": "code",
      "source": [
        "dtree_train_recall_score=recall_score(train_dtree_pred,y_train,average='weighted')\n",
        "dtree_test_recall_score=recall_score(test_dtree_pred,y_test,average='weighted')\n",
        "dtree_train_recall_score,dtree_test_recall_score"
      ],
      "metadata": {
        "colab": {
          "base_uri": "https://localhost:8080/"
        },
        "id": "dONOGeovmNyl",
        "outputId": "428e0b91-55e1-4503-84f4-6ac83c2b6bb9"
      },
      "execution_count": null,
      "outputs": [
        {
          "output_type": "execute_result",
          "data": {
            "text/plain": [
              "(0.9361337333904843, 0.937)"
            ]
          },
          "metadata": {},
          "execution_count": 105
        }
      ]
    },
    {
      "cell_type": "markdown",
      "source": [
        "### Logestic Regression"
      ],
      "metadata": {
        "id": "BFaUqxX8qMUa"
      }
    },
    {
      "cell_type": "code",
      "source": [
        "train_lgr_pred=lgr_model.predict(X_train)\n",
        "test_lgr_pred=lgr_model.predict(X_test)"
      ],
      "metadata": {
        "id": "vxX7-6HPmPyY"
      },
      "execution_count": null,
      "outputs": []
    },
    {
      "cell_type": "code",
      "source": [
        "print(classification_report(y_train,train_lgr_pred))"
      ],
      "metadata": {
        "colab": {
          "base_uri": "https://localhost:8080/"
        },
        "id": "_AqDhjEXqPge",
        "outputId": "cddf1763-d954-4f63-f43b-3451666c0cd9"
      },
      "execution_count": null,
      "outputs": [
        {
          "output_type": "stream",
          "name": "stdout",
          "text": [
            "              precision    recall  f1-score   support\n",
            "\n",
            "       False       0.87      0.98      0.92      1993\n",
            "        True       0.51      0.15      0.24       340\n",
            "\n",
            "    accuracy                           0.86      2333\n",
            "   macro avg       0.69      0.56      0.58      2333\n",
            "weighted avg       0.82      0.86      0.82      2333\n",
            "\n"
          ]
        }
      ]
    },
    {
      "cell_type": "code",
      "source": [
        "print(classification_report(y_test,test_lgr_pred))"
      ],
      "metadata": {
        "colab": {
          "base_uri": "https://localhost:8080/"
        },
        "id": "vc-hqlZtqSH5",
        "outputId": "e0c193a0-3580-46b7-8cf5-b64479f04dd7"
      },
      "execution_count": null,
      "outputs": [
        {
          "output_type": "stream",
          "name": "stdout",
          "text": [
            "              precision    recall  f1-score   support\n",
            "\n",
            "       False       0.88      0.97      0.92       857\n",
            "        True       0.50      0.19      0.27       143\n",
            "\n",
            "    accuracy                           0.86      1000\n",
            "   macro avg       0.69      0.58      0.60      1000\n",
            "weighted avg       0.82      0.86      0.83      1000\n",
            "\n"
          ]
        }
      ]
    },
    {
      "cell_type": "code",
      "source": [
        "train_lgr_confusion=confusion_matrix(y_train,train_lgr_pred)\n",
        "disp_train_lgr=ConfusionMatrixDisplay(train_lgr_confusion)\n",
        "disp_train_lgr.plot()\n",
        "plt.show()"
      ],
      "metadata": {
        "colab": {
          "base_uri": "https://localhost:8080/",
          "height": 279
        },
        "id": "pg9DYuo3qVSn",
        "outputId": "48804975-73e6-47cb-c338-bb7eefd4309c"
      },
      "execution_count": null,
      "outputs": [
        {
          "output_type": "display_data",
          "data": {
            "text/plain": [
              "<Figure size 432x288 with 2 Axes>"
            ],
            "image/png": "[encoded data removed]"
          },
          "metadata": {
            "needs_background": "light"
          }
        }
      ]
    },
    {
      "cell_type": "code",
      "source": [
        "test_lgr_confusion=confusion_matrix(y_test,test_lgr_pred)\n",
        "disp_test_lgr=ConfusionMatrixDisplay(test_lgr_confusion)\n",
        "disp_test_lgr.plot()\n",
        "plt.show()"
      ],
      "metadata": {
        "colab": {
          "base_uri": "https://localhost:8080/",
          "height": 279
        },
        "id": "jEvVF6MZqX3H",
        "outputId": "6691f493-86be-4e71-8626-f6b577fea9c8"
      },
      "execution_count": null,
      "outputs": [
        {
          "output_type": "display_data",
          "data": {
            "text/plain": [
              "<Figure size 432x288 with 2 Axes>"
            ],
            "image/png": "[encoded data removed]"
          },
          "metadata": {
            "needs_background": "light"
          }
        }
      ]
    },
    {
      "cell_type": "code",
      "source": [
        "lgr_train_accurcy_score=accuracy_score(train_lgr_pred,y_train)\n",
        "lgr_test_accuracy_score=accuracy_score(test_lgr_pred,y_test)\n",
        "lgr_train_accurcy_score,lgr_test_accuracy_score"
      ],
      "metadata": {
        "colab": {
          "base_uri": "https://localhost:8080/"
        },
        "id": "rdkrSGXSqcNS",
        "outputId": "da4d7473-424a-4dbe-91db-bec80a7217cd"
      },
      "execution_count": null,
      "outputs": [
        {
          "output_type": "execute_result",
          "data": {
            "text/plain": [
              "(0.8555507929704244, 0.857)"
            ]
          },
          "metadata": {},
          "execution_count": 111
        }
      ]
    },
    {
      "cell_type": "code",
      "source": [
        "lgr_train_precision_score=precision_score(train_lgr_pred,y_train,average='macro')\n",
        "lgr_test_precision_score=precision_score(test_lgr_pred,y_test,average='macro')\n",
        "lgr_train_precision_score,lgr_test_precision_score"
      ],
      "metadata": {
        "colab": {
          "base_uri": "https://localhost:8080/"
        },
        "id": "gF24DctTqfV4",
        "outputId": "5b55330b-8d23-4d32-b778-d4be53568bdb"
      },
      "execution_count": null,
      "outputs": [
        {
          "output_type": "execute_result",
          "data": {
            "text/plain": [
              "(0.5641775626457306, 0.5786529689680214)"
            ]
          },
          "metadata": {},
          "execution_count": 112
        }
      ]
    },
    {
      "cell_type": "code",
      "source": [
        "lgr_train_precision_score=precision_score(train_lgr_pred,y_train,average='weighted')\n",
        "lgr_test_precision_score=precision_score(test_lgr_pred,y_test,average='weighted')\n",
        "lgr_train_precision_score,lgr_test_precision_score"
      ],
      "metadata": {
        "colab": {
          "base_uri": "https://localhost:8080/"
        },
        "id": "CyILrmoiqhc3",
        "outputId": "667e424b-8f59-4940-c0b0-73868ecb4e55"
      },
      "execution_count": null,
      "outputs": [
        {
          "output_type": "execute_result",
          "data": {
            "text/plain": [
              "(0.9398075407594162, 0.9263918368679162)"
            ]
          },
          "metadata": {},
          "execution_count": 113
        }
      ]
    },
    {
      "cell_type": "code",
      "source": [
        "lgr_train_recall_score=recall_score(train_lgr_pred,y_train,average='macro')\n",
        "lgr_test_recall_score=recall_score(test_lgr_pred,y_test,average='macro')\n",
        "lgr_train_recall_score,lgr_test_recall_score"
      ],
      "metadata": {
        "colab": {
          "base_uri": "https://localhost:8080/"
        },
        "id": "co0x9BPMqjtI",
        "outputId": "9d4c319e-b305-453d-a236-f1b30ae369a9"
      },
      "execution_count": null,
      "outputs": [
        {
          "output_type": "execute_result",
          "data": {
            "text/plain": [
              "(0.6929096135419994, 0.6886892177589852)"
            ]
          },
          "metadata": {},
          "execution_count": 114
        }
      ]
    },
    {
      "cell_type": "code",
      "source": [
        "lgr_train_recall_score=recall_score(train_lgr_pred,y_train,average='weighted')\n",
        "lgr_test_recall_score=recall_score(test_lgr_pred,y_test,average='weighted')\n",
        "lgr_train_recall_score,lgr_test_recall_score"
      ],
      "metadata": {
        "colab": {
          "base_uri": "https://localhost:8080/"
        },
        "id": "akUrMcrtqnG8",
        "outputId": "e533d3e3-c2db-4146-d08b-8a16817578d1"
      },
      "execution_count": null,
      "outputs": [
        {
          "output_type": "execute_result",
          "data": {
            "text/plain": [
              "(0.8555507929704244, 0.857)"
            ]
          },
          "metadata": {},
          "execution_count": 115
        }
      ]
    },
    {
      "cell_type": "markdown",
      "source": [
        "### Support Vector Machine (SVM)"
      ],
      "metadata": {
        "id": "omWKzyfmqtGR"
      }
    },
    {
      "cell_type": "code",
      "source": [
        "train_svc_pred=svm.predict(X_train)\n",
        "test_svc_pred=svm.predict(X_test)"
      ],
      "metadata": {
        "id": "w2MGct8iqppp"
      },
      "execution_count": null,
      "outputs": []
    },
    {
      "cell_type": "code",
      "source": [
        "print(classification_report(y_train,train_svc_pred))"
      ],
      "metadata": {
        "colab": {
          "base_uri": "https://localhost:8080/"
        },
        "id": "Q3Qe_N2Lqx9r",
        "outputId": "8486916f-d931-40e0-b69a-57a3ccecc43c"
      },
      "execution_count": null,
      "outputs": [
        {
          "output_type": "stream",
          "name": "stdout",
          "text": [
            "              precision    recall  f1-score   support\n",
            "\n",
            "       False       0.95      1.00      0.98      1993\n",
            "        True       0.99      0.72      0.83       340\n",
            "\n",
            "    accuracy                           0.96      2333\n",
            "   macro avg       0.97      0.86      0.91      2333\n",
            "weighted avg       0.96      0.96      0.96      2333\n",
            "\n"
          ]
        }
      ]
    },
    {
      "cell_type": "code",
      "source": [
        "print(classification_report(y_test,test_svc_pred))"
      ],
      "metadata": {
        "colab": {
          "base_uri": "https://localhost:8080/"
        },
        "id": "rwcZE2wfq1yT",
        "outputId": "ded75d92-2f04-4059-8e42-b702a5c085f2"
      },
      "execution_count": null,
      "outputs": [
        {
          "output_type": "stream",
          "name": "stdout",
          "text": [
            "              precision    recall  f1-score   support\n",
            "\n",
            "       False       0.92      1.00      0.96       857\n",
            "        True       0.95      0.48      0.64       143\n",
            "\n",
            "    accuracy                           0.92      1000\n",
            "   macro avg       0.93      0.74      0.80      1000\n",
            "weighted avg       0.92      0.92      0.91      1000\n",
            "\n"
          ]
        }
      ]
    },
    {
      "cell_type": "code",
      "source": [
        "train_svc_confusion=confusion_matrix(y_train,train_svc_pred)\n",
        "disp_train_svc=ConfusionMatrixDisplay(train_svc_confusion)\n",
        "disp_train_svc.plot()\n",
        "plt.show()"
      ],
      "metadata": {
        "colab": {
          "base_uri": "https://localhost:8080/",
          "height": 279
        },
        "id": "3-i5O_Mvq4Ro",
        "outputId": "f9a05fb6-788b-4605-a958-a6cdaa4a8808"
      },
      "execution_count": null,
      "outputs": [
        {
          "output_type": "display_data",
          "data": {
            "text/plain": [
              "<Figure size 432x288 with 2 Axes>"
            ],
            "image/png": "[encoded data removed]"
          },
          "metadata": {
            "needs_background": "light"
          }
        }
      ]
    },
    {
      "cell_type": "code",
      "source": [
        "test_svc_confusion=confusion_matrix(y_test,test_svc_pred)\n",
        "disp_test_svc=ConfusionMatrixDisplay(test_svc_confusion)\n",
        "disp_test_svc.plot()\n",
        "plt.show()"
      ],
      "metadata": {
        "colab": {
          "base_uri": "https://localhost:8080/",
          "height": 279
        },
        "id": "KQ2ARPfCq7wO",
        "outputId": "88621f39-0390-4df3-ab59-5a6d4d972395"
      },
      "execution_count": null,
      "outputs": [
        {
          "output_type": "display_data",
          "data": {
            "text/plain": [
              "<Figure size 432x288 with 2 Axes>"
            ],
            "image/png": "[encoded data removed]"
          },
          "metadata": {
            "needs_background": "light"
          }
        }
      ]
    },
    {
      "cell_type": "code",
      "source": [
        "svc_train_accurcy_score=accuracy_score(train_svc_pred,y_train)\n",
        "svc_test_accuracy_score=accuracy_score(test_svc_pred,y_test)\n",
        "svc_train_accurcy_score,svc_test_accuracy_score"
      ],
      "metadata": {
        "colab": {
          "base_uri": "https://localhost:8080/"
        },
        "id": "ZgxvJIdJq-kA",
        "outputId": "de685790-7888-49b1-e89e-64eb69d34c96"
      },
      "execution_count": null,
      "outputs": [
        {
          "output_type": "execute_result",
          "data": {
            "text/plain": [
              "(0.9584226318045435, 0.922)"
            ]
          },
          "metadata": {},
          "execution_count": 121
        }
      ]
    },
    {
      "cell_type": "code",
      "source": [
        "svc_train_precision_score=precision_score(train_svc_pred,y_train,average='macro')\n",
        "svc_test_precision_score=precision_score(test_svc_pred,y_test,average='macro')\n",
        "svc_train_precision_score,svc_test_precision_score"
      ],
      "metadata": {
        "colab": {
          "base_uri": "https://localhost:8080/"
        },
        "id": "uk11YeyUrBRl",
        "outputId": "d38c6f5c-e581-4571-92de-3ee143149c8e"
      },
      "execution_count": null,
      "outputs": [
        {
          "output_type": "execute_result",
          "data": {
            "text/plain": [
              "(0.859792361500546, 0.7389250189716934)"
            ]
          },
          "metadata": {},
          "execution_count": 122
        }
      ]
    },
    {
      "cell_type": "code",
      "source": [
        "svc_train_precision_score=precision_score(train_svc_pred,y_train,average='weighted')\n",
        "svc_test_precision_score=precision_score(test_svc_pred,y_test,average='weighted')\n",
        "svc_train_precision_score,svc_test_precision_score"
      ],
      "metadata": {
        "colab": {
          "base_uri": "https://localhost:8080/"
        },
        "id": "EvfM6T9CrDdR",
        "outputId": "38d5fe52-979e-4022-8e3a-3295404ba5f1"
      },
      "execution_count": null,
      "outputs": [
        {
          "output_type": "execute_result",
          "data": {
            "text/plain": [
              "(0.9695207747425612, 0.9578970551035895)"
            ]
          },
          "metadata": {},
          "execution_count": 123
        }
      ]
    },
    {
      "cell_type": "code",
      "source": [
        "svc_train_recall_score=recall_score(train_svc_pred,y_train,average='macro')\n",
        "svc_test_recall_score=recall_score(test_svc_pred,y_test,average='macro')\n",
        "svc_train_recall_score,svc_test_recall_score"
      ],
      "metadata": {
        "colab": {
          "base_uri": "https://localhost:8080/"
        },
        "id": "lFplDxn3rGve",
        "outputId": "fef5da2e-ef32-4388-b4cc-c2258d0e162e"
      },
      "execution_count": null,
      "outputs": [
        {
          "output_type": "execute_result",
          "data": {
            "text/plain": [
              "(0.9731805636962825, 0.9326890396181525)"
            ]
          },
          "metadata": {},
          "execution_count": 124
        }
      ]
    },
    {
      "cell_type": "code",
      "source": [
        "svc_train_recall_score=recall_score(train_svc_pred,y_train,average='weighted')\n",
        "svc_test_recall_score=recall_score(test_svc_pred,y_test,average='weighted')\n",
        "svc_train_recall_score,svc_test_recall_score"
      ],
      "metadata": {
        "colab": {
          "base_uri": "https://localhost:8080/"
        },
        "id": "rEBXrftPrI7V",
        "outputId": "982604e4-8d3e-4560-faae-6f50bf7172d4"
      },
      "execution_count": null,
      "outputs": [
        {
          "output_type": "execute_result",
          "data": {
            "text/plain": [
              "(0.9584226318045435, 0.922)"
            ]
          },
          "metadata": {},
          "execution_count": 125
        }
      ]
    },
    {
      "cell_type": "code",
      "source": [
        "#accuracy score\n",
        "pd.DataFrame({'model':['KNN','Dtree','LGR','SVM'],\n",
        "              'train_accuracy_score':[train_accurcy_score,dtree_train_accurcy_score,lgr_train_accurcy_score,svc_train_accurcy_score],\n",
        "              'test_accuracy_score':[test_accuracy_score,dtree_test_accuracy_score,lgr_test_accuracy_score,svc_test_accuracy_score],\n",
        "              'average_fit_time':['58.1618390083313 sec','7.561201572418213 sec', '0.07503080368041992 sec','23.075573682785034 sec']})"
      ],
      "metadata": {
        "colab": {
          "base_uri": "https://localhost:8080/",
          "height": 175
        },
        "id": "W7_ccD6hrLN_",
        "outputId": "1ac56fb2-99de-4847-921d-6ab8b8e67095"
      },
      "execution_count": null,
      "outputs": [
        {
          "output_type": "execute_result",
          "data": {
            "text/plain": [
              "   model  train_accuracy_score  test_accuracy_score         average_fit_time\n",
              "0    KNN              0.921560                0.884     58.1618390083313 sec\n",
              "1  Dtree              0.936134                0.937    7.561201572418213 sec\n",
              "2    LGR              0.855551                0.857  0.07503080368041992 sec\n",
              "3    SVM              0.958423                0.922   23.075573682785034 sec"
            ],
            "text/html": [
              "\n",
              "  <div id=\"df-71675e85-2758-4d93-8a87-4ab3d6565d54\">\n",
              "    <div class=\"colab-df-container\">\n",
              "      <div>\n",
              "<style scoped>\n",
              "    .dataframe tbody tr th:only-of-type {\n",
              "        vertical-align: middle;\n",
              "    }\n",
              "\n",
              "    .dataframe tbody tr th {\n",
              "        vertical-align: top;\n",
              "    }\n",
              "\n",
              "    .dataframe thead th {\n",
              "        text-align: right;\n",
              "    }\n",
              "</style>\n",
              "<table border=\"1\" class=\"dataframe\">\n",
              "  <thead>\n",
              "    <tr style=\"text-align: right;\">\n",
              "      <th></th>\n",
              "      <th>model</th>\n",
              "      <th>train_accuracy_score</th>\n",
              "      <th>test_accuracy_score</th>\n",
              "      <th>average_fit_time</th>\n",
              "    </tr>\n",
              "  </thead>\n",
              "  <tbody>\n",
              "    <tr>\n",
              "      <th>0</th>\n",
              "      <td>KNN</td>\n",
              "      <td>0.921560</td>\n",
              "      <td>0.884</td>\n",
              "      <td>58.1618390083313 sec</td>\n",
              "    </tr>\n",
              "    <tr>\n",
              "      <th>1</th>\n",
              "      <td>Dtree</td>\n",
              "      <td>0.936134</td>\n",
              "      <td>0.937</td>\n",
              "      <td>7.561201572418213 sec</td>\n",
              "    </tr>\n",
              "    <tr>\n",
              "      <th>2</th>\n",
              "      <td>LGR</td>\n",
              "      <td>0.855551</td>\n",
              "      <td>0.857</td>\n",
              "      <td>0.07503080368041992 sec</td>\n",
              "    </tr>\n",
              "    <tr>\n",
              "      <th>3</th>\n",
              "      <td>SVM</td>\n",
              "      <td>0.958423</td>\n",
              "      <td>0.922</td>\n",
              "      <td>23.075573682785034 sec</td>\n",
              "    </tr>\n",
              "  </tbody>\n",
              "</table>\n",
              "</div>\n",
              "      <button class=\"colab-df-convert\" onclick=\"convertToInteractive('df-71675e85-2758-4d93-8a87-4ab3d6565d54')\"\n",
              "              title=\"Convert this dataframe to an interactive table.\"\n",
              "              style=\"display:none;\">\n",
              "        \n",
              "  <svg xmlns=\"http://www.w3.org/2000/svg\" height=\"24px\"viewBox=\"0 0 24 24\"\n",
              "       width=\"24px\">\n",
              "    <path d=\"M0 0h24v24H0V0z\" fill=\"none\"/>\n",
              "    <path d=\"M18.56 5.44l.94 2.06.94-2.06 2.06-.94-2.06-.94-.94-2.06-.94 2.06-2.06.94zm-11 1L8.5 8.5l.94-2.06 2.06-.94-2.06-.94L8.5 2.5l-.94 2.06-2.06.94zm10 10l.94 2.06.94-2.06 2.06-.94-2.06-.94-.94-2.06-.94 2.06-2.06.94z\"/><path d=\"M17.41 7.96l-1.37-1.37c-.4-.4-.92-.59-1.43-.59-.52 0-1.04.2-1.43.59L10.3 9.45l-7.72 7.72c-.78.78-.78 2.05 0 2.83L4 21.41c.39.39.9.59 1.41.59.51 0 1.02-.2 1.41-.59l7.78-7.78 2.81-2.81c.8-.78.8-2.07 0-2.86zM5.41 20L4 18.59l7.72-7.72 1.47 1.35L5.41 20z\"/>\n",
              "  </svg>\n",
              "      </button>\n",
              "      \n",
              "  <style>\n",
              "    .colab-df-container {\n",
              "      display:flex;\n",
              "      flex-wrap:wrap;\n",
              "      gap: 12px;\n",
              "    }\n",
              "\n",
              "    .colab-df-convert {\n",
              "      background-color: #E8F0FE;\n",
              "      border: none;\n",
              "      border-radius: 50%;\n",
              "      cursor: pointer;\n",
              "      display: none;\n",
              "      fill: #1967D2;\n",
              "      height: 32px;\n",
              "      padding: 0 0 0 0;\n",
              "      width: 32px;\n",
              "    }\n",
              "\n",
              "    .colab-df-convert:hover {\n",
              "      background-color: #E2EBFA;\n",
              "      box-shadow: 0px 1px 2px rgba(60, 64, 67, 0.3), 0px 1px 3px 1px rgba(60, 64, 67, 0.15);\n",
              "      fill: #174EA6;\n",
              "    }\n",
              "\n",
              "    [theme=dark] .colab-df-convert {\n",
              "      background-color: #3B4455;\n",
              "      fill: #D2E3FC;\n",
              "    }\n",
              "\n",
              "    [theme=dark] .colab-df-convert:hover {\n",
              "      background-color: #434B5C;\n",
              "      box-shadow: 0px 1px 3px 1px rgba(0, 0, 0, 0.15);\n",
              "      filter: drop-shadow(0px 1px 2px rgba(0, 0, 0, 0.3));\n",
              "      fill: #FFFFFF;\n",
              "    }\n",
              "  </style>\n",
              "\n",
              "      <script>\n",
              "        const buttonEl =\n",
              "          document.querySelector('#df-71675e85-2758-4d93-8a87-4ab3d6565d54 button.colab-df-convert');\n",
              "        buttonEl.style.display =\n",
              "          google.colab.kernel.accessAllowed ? 'block' : 'none';\n",
              "\n",
              "        async function convertToInteractive(key) {\n",
              "          const element = document.querySelector('#df-71675e85-2758-4d93-8a87-4ab3d6565d54');\n",
              "          const dataTable =\n",
              "            await google.colab.kernel.invokeFunction('convertToInteractive',\n",
              "                                                     [key], {});\n",
              "          if (!dataTable) return;\n",
              "\n",
              "          const docLinkHtml = 'Like what you see? Visit the ' +\n",
              "            '<a target=\"_blank\" href=https://colab.research.google.com/notebooks/data_table.ipynb>data table notebook</a>'\n",
              "            + ' to learn more about interactive tables.';\n",
              "          element.innerHTML = '';\n",
              "          dataTable['output_type'] = 'display_data';\n",
              "          await google.colab.output.renderOutput(dataTable, element);\n",
              "          const docLink = document.createElement('div');\n",
              "          docLink.innerHTML = docLinkHtml;\n",
              "          element.appendChild(docLink);\n",
              "        }\n",
              "      </script>\n",
              "    </div>\n",
              "  </div>\n",
              "  "
            ]
          },
          "metadata": {},
          "execution_count": 130
        }
      ]
    },
    {
      "cell_type": "code",
      "source": [
        "#precision score\n",
        "pd.DataFrame({'model':['KNN','Dtree','LGR','SVM'],\n",
        "              'train_precision_score':[train_precision_score,dtree_train_precision_score,lgr_train_precision_score,svc_train_precision_score],\n",
        "              'test_precision_score':[test_precision_score,dtree_test_precision_score,lgr_test_precision_score,svc_test_precision_score],\n",
        "              'Time_Elapsed':['58.1618390083313 sec','7.561201572418213 sec', '0.07503080368041992 sec','23.075573682785034 sec']})"
      ],
      "metadata": {
        "colab": {
          "base_uri": "https://localhost:8080/",
          "height": 175
        },
        "id": "jS8aClPUsJXM",
        "outputId": "731cdfc9-2823-4cde-99b8-13b88286325a"
      },
      "execution_count": null,
      "outputs": [
        {
          "output_type": "execute_result",
          "data": {
            "text/plain": [
              "   model  train_precision_score  test_precision_score             Time_Elapsed\n",
              "0    KNN               0.923219              0.871713     58.1618390083313 sec\n",
              "1  Dtree               0.942335              0.943379    7.561201572418213 sec\n",
              "2    LGR               0.939808              0.926392  0.07503080368041992 sec\n",
              "3    SVM               0.969521              0.957897   23.075573682785034 sec"
            ],
            "text/html": [
              "\n",
              "  <div id=\"df-ffded8e7-5f7b-4b3d-ad45-5802cf3e82ca\">\n",
              "    <div class=\"colab-df-container\">\n",
              "      <div>\n",
              "<style scoped>\n",
              "    .dataframe tbody tr th:only-of-type {\n",
              "        vertical-align: middle;\n",
              "    }\n",
              "\n",
              "    .dataframe tbody tr th {\n",
              "        vertical-align: top;\n",
              "    }\n",
              "\n",
              "    .dataframe thead th {\n",
              "        text-align: right;\n",
              "    }\n",
              "</style>\n",
              "<table border=\"1\" class=\"dataframe\">\n",
              "  <thead>\n",
              "    <tr style=\"text-align: right;\">\n",
              "      <th></th>\n",
              "      <th>model</th>\n",
              "      <th>train_precision_score</th>\n",
              "      <th>test_precision_score</th>\n",
              "      <th>Time_Elapsed</th>\n",
              "    </tr>\n",
              "  </thead>\n",
              "  <tbody>\n",
              "    <tr>\n",
              "      <th>0</th>\n",
              "      <td>KNN</td>\n",
              "      <td>0.923219</td>\n",
              "      <td>0.871713</td>\n",
              "      <td>58.1618390083313 sec</td>\n",
              "    </tr>\n",
              "    <tr>\n",
              "      <th>1</th>\n",
              "      <td>Dtree</td>\n",
              "      <td>0.942335</td>\n",
              "      <td>0.943379</td>\n",
              "      <td>7.561201572418213 sec</td>\n",
              "    </tr>\n",
              "    <tr>\n",
              "      <th>2</th>\n",
              "      <td>LGR</td>\n",
              "      <td>0.939808</td>\n",
              "      <td>0.926392</td>\n",
              "      <td>0.07503080368041992 sec</td>\n",
              "    </tr>\n",
              "    <tr>\n",
              "      <th>3</th>\n",
              "      <td>SVM</td>\n",
              "      <td>0.969521</td>\n",
              "      <td>0.957897</td>\n",
              "      <td>23.075573682785034 sec</td>\n",
              "    </tr>\n",
              "  </tbody>\n",
              "</table>\n",
              "</div>\n",
              "      <button class=\"colab-df-convert\" onclick=\"convertToInteractive('df-ffded8e7-5f7b-4b3d-ad45-5802cf3e82ca')\"\n",
              "              title=\"Convert this dataframe to an interactive table.\"\n",
              "              style=\"display:none;\">\n",
              "        \n",
              "  <svg xmlns=\"http://www.w3.org/2000/svg\" height=\"24px\"viewBox=\"0 0 24 24\"\n",
              "       width=\"24px\">\n",
              "    <path d=\"M0 0h24v24H0V0z\" fill=\"none\"/>\n",
              "    <path d=\"M18.56 5.44l.94 2.06.94-2.06 2.06-.94-2.06-.94-.94-2.06-.94 2.06-2.06.94zm-11 1L8.5 8.5l.94-2.06 2.06-.94-2.06-.94L8.5 2.5l-.94 2.06-2.06.94zm10 10l.94 2.06.94-2.06 2.06-.94-2.06-.94-.94-2.06-.94 2.06-2.06.94z\"/><path d=\"M17.41 7.96l-1.37-1.37c-.4-.4-.92-.59-1.43-.59-.52 0-1.04.2-1.43.59L10.3 9.45l-7.72 7.72c-.78.78-.78 2.05 0 2.83L4 21.41c.39.39.9.59 1.41.59.51 0 1.02-.2 1.41-.59l7.78-7.78 2.81-2.81c.8-.78.8-2.07 0-2.86zM5.41 20L4 18.59l7.72-7.72 1.47 1.35L5.41 20z\"/>\n",
              "  </svg>\n",
              "      </button>\n",
              "      \n",
              "  <style>\n",
              "    .colab-df-container {\n",
              "      display:flex;\n",
              "      flex-wrap:wrap;\n",
              "      gap: 12px;\n",
              "    }\n",
              "\n",
              "    .colab-df-convert {\n",
              "      background-color: #E8F0FE;\n",
              "      border: none;\n",
              "      border-radius: 50%;\n",
              "      cursor: pointer;\n",
              "      display: none;\n",
              "      fill: #1967D2;\n",
              "      height: 32px;\n",
              "      padding: 0 0 0 0;\n",
              "      width: 32px;\n",
              "    }\n",
              "\n",
              "    .colab-df-convert:hover {\n",
              "      background-color: #E2EBFA;\n",
              "      box-shadow: 0px 1px 2px rgba(60, 64, 67, 0.3), 0px 1px 3px 1px rgba(60, 64, 67, 0.15);\n",
              "      fill: #174EA6;\n",
              "    }\n",
              "\n",
              "    [theme=dark] .colab-df-convert {\n",
              "      background-color: #3B4455;\n",
              "      fill: #D2E3FC;\n",
              "    }\n",
              "\n",
              "    [theme=dark] .colab-df-convert:hover {\n",
              "      background-color: #434B5C;\n",
              "      box-shadow: 0px 1px 3px 1px rgba(0, 0, 0, 0.15);\n",
              "      filter: drop-shadow(0px 1px 2px rgba(0, 0, 0, 0.3));\n",
              "      fill: #FFFFFF;\n",
              "    }\n",
              "  </style>\n",
              "\n",
              "      <script>\n",
              "        const buttonEl =\n",
              "          document.querySelector('#df-ffded8e7-5f7b-4b3d-ad45-5802cf3e82ca button.colab-df-convert');\n",
              "        buttonEl.style.display =\n",
              "          google.colab.kernel.accessAllowed ? 'block' : 'none';\n",
              "\n",
              "        async function convertToInteractive(key) {\n",
              "          const element = document.querySelector('#df-ffded8e7-5f7b-4b3d-ad45-5802cf3e82ca');\n",
              "          const dataTable =\n",
              "            await google.colab.kernel.invokeFunction('convertToInteractive',\n",
              "                                                     [key], {});\n",
              "          if (!dataTable) return;\n",
              "\n",
              "          const docLinkHtml = 'Like what you see? Visit the ' +\n",
              "            '<a target=\"_blank\" href=https://colab.research.google.com/notebooks/data_table.ipynb>data table notebook</a>'\n",
              "            + ' to learn more about interactive tables.';\n",
              "          element.innerHTML = '';\n",
              "          dataTable['output_type'] = 'display_data';\n",
              "          await google.colab.output.renderOutput(dataTable, element);\n",
              "          const docLink = document.createElement('div');\n",
              "          docLink.innerHTML = docLinkHtml;\n",
              "          element.appendChild(docLink);\n",
              "        }\n",
              "      </script>\n",
              "    </div>\n",
              "  </div>\n",
              "  "
            ]
          },
          "metadata": {},
          "execution_count": 132
        }
      ]
    },
    {
      "cell_type": "code",
      "source": [
        "#recall score\n",
        "pd.DataFrame({'model':['KNN','Dtree','LGR','SVM'],\n",
        "              'train_recall_score':[train_recall_score,dtree_train_recall_score,lgr_train_recall_score,svc_train_recall_score],\n",
        "              'test_recall_score':[test_recall_score,dtree_test_recall_score,lgr_test_recall_score,svc_test_recall_score],\n",
        "              'Time_Elapsed':['58.1618390083313 sec','7.561201572418213 sec', '0.07503080368041992 sec','23.075573682785034 sec']})"
      ],
      "metadata": {
        "colab": {
          "base_uri": "https://localhost:8080/",
          "height": 175
        },
        "id": "k2lXXrPstfdB",
        "outputId": "fe5956cc-7caa-4ec0-f6e9-c10817314c8b"
      },
      "execution_count": null,
      "outputs": [
        {
          "output_type": "execute_result",
          "data": {
            "text/plain": [
              "   model  train_recall_score  test_recall_score             Time_Elapsed\n",
              "0    KNN            0.921560              0.884     58.1618390083313 sec\n",
              "1  Dtree            0.936134              0.937    7.561201572418213 sec\n",
              "2    LGR            0.855551              0.857  0.07503080368041992 sec\n",
              "3    SVM            0.958423              0.922   23.075573682785034 sec"
            ],
            "text/html": [
              "\n",
              "  <div id=\"df-74f8fb49-603e-42d7-b025-7c9633195d05\">\n",
              "    <div class=\"colab-df-container\">\n",
              "      <div>\n",
              "<style scoped>\n",
              "    .dataframe tbody tr th:only-of-type {\n",
              "        vertical-align: middle;\n",
              "    }\n",
              "\n",
              "    .dataframe tbody tr th {\n",
              "        vertical-align: top;\n",
              "    }\n",
              "\n",
              "    .dataframe thead th {\n",
              "        text-align: right;\n",
              "    }\n",
              "</style>\n",
              "<table border=\"1\" class=\"dataframe\">\n",
              "  <thead>\n",
              "    <tr style=\"text-align: right;\">\n",
              "      <th></th>\n",
              "      <th>model</th>\n",
              "      <th>train_recall_score</th>\n",
              "      <th>test_recall_score</th>\n",
              "      <th>Time_Elapsed</th>\n",
              "    </tr>\n",
              "  </thead>\n",
              "  <tbody>\n",
              "    <tr>\n",
              "      <th>0</th>\n",
              "      <td>KNN</td>\n",
              "      <td>0.921560</td>\n",
              "      <td>0.884</td>\n",
              "      <td>58.1618390083313 sec</td>\n",
              "    </tr>\n",
              "    <tr>\n",
              "      <th>1</th>\n",
              "      <td>Dtree</td>\n",
              "      <td>0.936134</td>\n",
              "      <td>0.937</td>\n",
              "      <td>7.561201572418213 sec</td>\n",
              "    </tr>\n",
              "    <tr>\n",
              "      <th>2</th>\n",
              "      <td>LGR</td>\n",
              "      <td>0.855551</td>\n",
              "      <td>0.857</td>\n",
              "      <td>0.07503080368041992 sec</td>\n",
              "    </tr>\n",
              "    <tr>\n",
              "      <th>3</th>\n",
              "      <td>SVM</td>\n",
              "      <td>0.958423</td>\n",
              "      <td>0.922</td>\n",
              "      <td>23.075573682785034 sec</td>\n",
              "    </tr>\n",
              "  </tbody>\n",
              "</table>\n",
              "</div>\n",
              "      <button class=\"colab-df-convert\" onclick=\"convertToInteractive('df-74f8fb49-603e-42d7-b025-7c9633195d05')\"\n",
              "              title=\"Convert this dataframe to an interactive table.\"\n",
              "              style=\"display:none;\">\n",
              "        \n",
              "  <svg xmlns=\"http://www.w3.org/2000/svg\" height=\"24px\"viewBox=\"0 0 24 24\"\n",
              "       width=\"24px\">\n",
              "    <path d=\"M0 0h24v24H0V0z\" fill=\"none\"/>\n",
              "    <path d=\"M18.56 5.44l.94 2.06.94-2.06 2.06-.94-2.06-.94-.94-2.06-.94 2.06-2.06.94zm-11 1L8.5 8.5l.94-2.06 2.06-.94-2.06-.94L8.5 2.5l-.94 2.06-2.06.94zm10 10l.94 2.06.94-2.06 2.06-.94-2.06-.94-.94-2.06-.94 2.06-2.06.94z\"/><path d=\"M17.41 7.96l-1.37-1.37c-.4-.4-.92-.59-1.43-.59-.52 0-1.04.2-1.43.59L10.3 9.45l-7.72 7.72c-.78.78-.78 2.05 0 2.83L4 21.41c.39.39.9.59 1.41.59.51 0 1.02-.2 1.41-.59l7.78-7.78 2.81-2.81c.8-.78.8-2.07 0-2.86zM5.41 20L4 18.59l7.72-7.72 1.47 1.35L5.41 20z\"/>\n",
              "  </svg>\n",
              "      </button>\n",
              "      \n",
              "  <style>\n",
              "    .colab-df-container {\n",
              "      display:flex;\n",
              "      flex-wrap:wrap;\n",
              "      gap: 12px;\n",
              "    }\n",
              "\n",
              "    .colab-df-convert {\n",
              "      background-color: #E8F0FE;\n",
              "      border: none;\n",
              "      border-radius: 50%;\n",
              "      cursor: pointer;\n",
              "      display: none;\n",
              "      fill: #1967D2;\n",
              "      height: 32px;\n",
              "      padding: 0 0 0 0;\n",
              "      width: 32px;\n",
              "    }\n",
              "\n",
              "    .colab-df-convert:hover {\n",
              "      background-color: #E2EBFA;\n",
              "      box-shadow: 0px 1px 2px rgba(60, 64, 67, 0.3), 0px 1px 3px 1px rgba(60, 64, 67, 0.15);\n",
              "      fill: #174EA6;\n",
              "    }\n",
              "\n",
              "    [theme=dark] .colab-df-convert {\n",
              "      background-color: #3B4455;\n",
              "      fill: #D2E3FC;\n",
              "    }\n",
              "\n",
              "    [theme=dark] .colab-df-convert:hover {\n",
              "      background-color: #434B5C;\n",
              "      box-shadow: 0px 1px 3px 1px rgba(0, 0, 0, 0.15);\n",
              "      filter: drop-shadow(0px 1px 2px rgba(0, 0, 0, 0.3));\n",
              "      fill: #FFFFFF;\n",
              "    }\n",
              "  </style>\n",
              "\n",
              "      <script>\n",
              "        const buttonEl =\n",
              "          document.querySelector('#df-74f8fb49-603e-42d7-b025-7c9633195d05 button.colab-df-convert');\n",
              "        buttonEl.style.display =\n",
              "          google.colab.kernel.accessAllowed ? 'block' : 'none';\n",
              "\n",
              "        async function convertToInteractive(key) {\n",
              "          const element = document.querySelector('#df-74f8fb49-603e-42d7-b025-7c9633195d05');\n",
              "          const dataTable =\n",
              "            await google.colab.kernel.invokeFunction('convertToInteractive',\n",
              "                                                     [key], {});\n",
              "          if (!dataTable) return;\n",
              "\n",
              "          const docLinkHtml = 'Like what you see? Visit the ' +\n",
              "            '<a target=\"_blank\" href=https://colab.research.google.com/notebooks/data_table.ipynb>data table notebook</a>'\n",
              "            + ' to learn more about interactive tables.';\n",
              "          element.innerHTML = '';\n",
              "          dataTable['output_type'] = 'display_data';\n",
              "          await google.colab.output.renderOutput(dataTable, element);\n",
              "          const docLink = document.createElement('div');\n",
              "          docLink.innerHTML = docLinkHtml;\n",
              "          element.appendChild(docLink);\n",
              "        }\n",
              "      </script>\n",
              "    </div>\n",
              "  </div>\n",
              "  "
            ]
          },
          "metadata": {},
          "execution_count": 133
        }
      ]
    },
    {
      "cell_type": "code",
      "source": [],
      "metadata": {
        "id": "KiaJUbdfuN7M"
      },
      "execution_count": null,
      "outputs": []
    },
    {
      "cell_type": "markdown",
      "source": [
        "The data is loaded below.  Note that the handwritten digit data is already split into features and target (`digits`, `labels`). "
      ],
      "metadata": {
        "id": "_gnrDVgAvcL6"
      }
    },
    {
      "cell_type": "markdown",
      "source": [
        "**TASK 2**: Recognizing Handwritten Digits\n",
        "\n",
        "Suppose you are tasked with training a model to recognize handwritten digits.  Which of your classifier would you use here and why?  Again, be sure to consider the balance of classes, speed of training, and importance of interpretability."
      ],
      "metadata": {
        "id": "MTce2hrXvhn9"
      }
    },
    {
      "cell_type": "code",
      "source": [
        "#importing a data set\n",
        "from sklearn.datasets import load_digits\n",
        "digits, labels = load_digits(return_X_y=True)"
      ],
      "metadata": {
        "id": "1AA4EpL0vcsN"
      },
      "execution_count": null,
      "outputs": []
    },
    {
      "cell_type": "code",
      "source": [
        "#example image\n",
        "plt.imshow(digits[0].reshape(8, 8))\n",
        "plt.title('This is a handwritten 0.');"
      ],
      "metadata": {
        "colab": {
          "base_uri": "https://localhost:8080/",
          "height": 281
        },
        "id": "TvXqzlYvvmRe",
        "outputId": "29733134-0b52-423e-ba93-011637731a70"
      },
      "execution_count": null,
      "outputs": [
        {
          "output_type": "display_data",
          "data": {
            "text/plain": [
              "<Figure size 432x288 with 1 Axes>"
            ],
            "image/png": "[encoded data removed]"
          },
          "metadata": {
            "needs_background": "light"
          }
        }
      ]
    },
    {
      "cell_type": "markdown",
      "source": [
        "### Prepare the Data"
      ],
      "metadata": {
        "id": "cngxYJNnwYp2"
      }
    },
    {
      "cell_type": "code",
      "source": [
        "X=digits\n",
        "y=labels"
      ],
      "metadata": {
        "id": "M4klXLqpv2Fs"
      },
      "execution_count": null,
      "outputs": []
    },
    {
      "cell_type": "markdown",
      "source": [
        "### Split the data"
      ],
      "metadata": {
        "id": "p6cwVbczwbv_"
      }
    },
    {
      "cell_type": "code",
      "source": [
        "X_train, X_test, y_train, y_test = train_test_split(X, y, test_size=0.30, random_state=42)"
      ],
      "metadata": {
        "id": "X4ORK0myv8Eq"
      },
      "execution_count": null,
      "outputs": []
    },
    {
      "cell_type": "code",
      "source": [
        "X.shape"
      ],
      "metadata": {
        "colab": {
          "base_uri": "https://localhost:8080/"
        },
        "id": "fAXG1AWOwlbl",
        "outputId": "a1939d67-13f9-4e05-ec3f-708176a483ed"
      },
      "execution_count": null,
      "outputs": [
        {
          "output_type": "execute_result",
          "data": {
            "text/plain": [
              "(1797, 64)"
            ]
          },
          "metadata": {},
          "execution_count": 6
        }
      ]
    },
    {
      "cell_type": "markdown",
      "source": [
        "### Tunning hyperparameters"
      ],
      "metadata": {
        "id": "kY3vvvHDxFmg"
      }
    },
    {
      "cell_type": "code",
      "source": [
        "math.sqrt(1797)"
      ],
      "metadata": {
        "colab": {
          "base_uri": "https://localhost:8080/"
        },
        "id": "rg_3m875wtp8",
        "outputId": "1f4a4b50-74bc-46ac-a666-01da84119be7"
      },
      "execution_count": null,
      "outputs": [
        {
          "output_type": "execute_result",
          "data": {
            "text/plain": [
              "42.391036788453285"
            ]
          },
          "metadata": {},
          "execution_count": 7
        }
      ]
    },
    {
      "cell_type": "code",
      "source": [
        "#K nearst neibour hyperparamers dictionary\n",
        "knn_params={'n_neighbors':range(1,69,2),\n",
        "        'weights':['uniform','distance'],\n",
        "        'p':[1,2]}\n",
        "\n",
        "#Decision tree hyperparamers dictionary\n",
        "dtree_params = {'max_depth':[2,4,6],\n",
        "                'min_samples_split':[0.1, 0.2, 0.05],\n",
        "                'criterion': ['gini','entropy'],\n",
        "                'min_samples_leaf':[1,2,3]\n",
        "         }\n",
        "# Logestic Regression hyperparameters dictionary\n",
        "lgr_params={'penalty':['l1', 'l2'],\n",
        "            'solver':['lbfgs', 'liblinear']}\n",
        "#Support vector machine hyperparamers dictionary\n",
        "#svc_params= {'svc__kernel': ['rbf', 'poly', 'linear','Sigmoid'],\n",
        "              #'svc__gamma': [0.1, 1.0,10.0],\n",
        "              #'svc__coef0':[0,1,2],\n",
        "              #'svc__degree':[2,3,4]}\n",
        "#Support vector machine hyperparamers dictionary\n",
        "svc_params= {'kernel': ['rbf','linear','sigmoid'],\n",
        "              'gamma': [0.1, 1.0,10.0],\n",
        "              'coef0':[0,1,2]}\n",
        "\n",
        "svc_poly_params= {'kernel': ['poly','linear'],\n",
        "              'gamma': [0.1, 1.0,10.0],\n",
        "              'coef0':[0,1,2],\n",
        "              'degree':[2,3,4]}"
      ],
      "metadata": {
        "id": "-snhr89OxSar"
      },
      "execution_count": null,
      "outputs": []
    },
    {
      "cell_type": "code",
      "source": [
        "LogisticRegression"
      ],
      "metadata": {
        "id": "Qm9haAxG1w9t"
      },
      "execution_count": null,
      "outputs": []
    },
    {
      "cell_type": "markdown",
      "source": [
        "### GridSearchCv"
      ],
      "metadata": {
        "id": "HqSCSEMwxe1B"
      }
    },
    {
      "cell_type": "markdown",
      "source": [
        "### K nearest neighbor Model"
      ],
      "metadata": {
        "id": "5an7WNt8zIJ9"
      }
    },
    {
      "cell_type": "code",
      "source": [
        "# K Nearst neighbor gridsearch\n",
        "start_time=time.time()\n",
        "knn_grid=GridSearchCV(estimator=KNeighborsClassifier(),\n",
        "                      param_grid=knn_params,\n",
        "                     cv=5)\n",
        "knn_digit=knn_grid.fit(X_train,y_train)\n",
        "end_time=time.time()\n",
        "print(end_time - start_time)"
      ],
      "metadata": {
        "colab": {
          "base_uri": "https://localhost:8080/"
        },
        "id": "YSd2yVzMxXRh",
        "outputId": "114d3220-f8b9-4707-ce24-4f830a913b0d"
      },
      "execution_count": null,
      "outputs": [
        {
          "output_type": "stream",
          "name": "stdout",
          "text": [
            "14.319875001907349\n"
          ]
        }
      ]
    },
    {
      "cell_type": "code",
      "source": [
        "knn_digit.best_score_"
      ],
      "metadata": {
        "colab": {
          "base_uri": "https://localhost:8080/"
        },
        "id": "mPlhfdgIxtD2",
        "outputId": "8c1d03da-0c4d-426c-e250-262bc8e5cb1d"
      },
      "execution_count": null,
      "outputs": [
        {
          "output_type": "execute_result",
          "data": {
            "text/plain": [
              "0.9864763169544046"
            ]
          },
          "metadata": {},
          "execution_count": 160
        }
      ]
    },
    {
      "cell_type": "code",
      "source": [
        "knn_digit.classes_"
      ],
      "metadata": {
        "colab": {
          "base_uri": "https://localhost:8080/"
        },
        "id": "K8U5e5gvy6kA",
        "outputId": "22d5caef-0212-456a-99e0-13428accc11f"
      },
      "execution_count": null,
      "outputs": [
        {
          "output_type": "execute_result",
          "data": {
            "text/plain": [
              "array([0, 1, 2, 3, 4, 5, 6, 7, 8, 9])"
            ]
          },
          "metadata": {},
          "execution_count": 161
        }
      ]
    },
    {
      "cell_type": "markdown",
      "source": [
        "### DecisionTree Model"
      ],
      "metadata": {
        "id": "2e_lKY14zPAp"
      }
    },
    {
      "cell_type": "code",
      "source": [
        "start_time = time.time()\n",
        "dtree_grid=GridSearchCV(estimator=DecisionTreeClassifier(),\n",
        "                      param_grid=dtree_params,\n",
        "                      cv=5)\n",
        "dtree_digits=dtree_grid.fit(X_train,y_train)\n",
        "end_time = time.time()\n",
        "print(f'Time in second:{end_time - start_time} sec')"
      ],
      "metadata": {
        "colab": {
          "base_uri": "https://localhost:8080/"
        },
        "id": "pFt8KTAjy9-y",
        "outputId": "a695c847-2fed-4b9c-bd5d-d1c468acd1b2"
      },
      "execution_count": null,
      "outputs": [
        {
          "output_type": "stream",
          "name": "stdout",
          "text": [
            "Time in second:2.287346839904785 sec\n"
          ]
        }
      ]
    },
    {
      "cell_type": "code",
      "source": [
        "dtree_digits.best_score_"
      ],
      "metadata": {
        "colab": {
          "base_uri": "https://localhost:8080/"
        },
        "id": "0NL8anfozD-l",
        "outputId": "4e6c8255-7452-46d8-c165-4a1929c77160"
      },
      "execution_count": null,
      "outputs": [
        {
          "output_type": "execute_result",
          "data": {
            "text/plain": [
              "0.7955701005501803"
            ]
          },
          "metadata": {},
          "execution_count": 170
        }
      ]
    },
    {
      "cell_type": "code",
      "source": [
        "dtree_digits.classes_"
      ],
      "metadata": {
        "colab": {
          "base_uri": "https://localhost:8080/"
        },
        "id": "TgAYmd7T00VN",
        "outputId": "0124271f-8de7-44b0-ed89-ffbe77a3c0e7"
      },
      "execution_count": null,
      "outputs": [
        {
          "output_type": "execute_result",
          "data": {
            "text/plain": [
              "array([0, 1, 2, 3, 4, 5, 6, 7, 8, 9])"
            ]
          },
          "metadata": {},
          "execution_count": 171
        }
      ]
    },
    {
      "cell_type": "code",
      "source": [
        "#dtree_digits.cv_results_"
      ],
      "metadata": {
        "id": "4wdxufSd0273"
      },
      "execution_count": null,
      "outputs": []
    },
    {
      "cell_type": "markdown",
      "source": [
        "### Logestic Regression"
      ],
      "metadata": {
        "id": "mbjetoP20-68"
      }
    },
    {
      "cell_type": "code",
      "source": [
        "start_time=time.time()\n",
        "lgr_grid=GridSearchCV(estimator=LogisticRegression(max_iter=10000),\n",
        "                      param_grid=lgr_params,\n",
        "                      cv=5)\n",
        "lgr_digits=lgr_grid.fit(X_train,y_train)\n",
        "end_time=time.time()\n",
        "print(end_time-start_time)"
      ],
      "metadata": {
        "colab": {
          "base_uri": "https://localhost:8080/"
        },
        "id": "ss3kaXWf1UUZ",
        "outputId": "941b427c-f6d3-420d-f0e7-c2344fb7ff59"
      },
      "execution_count": null,
      "outputs": [
        {
          "output_type": "stream",
          "name": "stderr",
          "text": [
            "/usr/local/lib/python3.8/dist-packages/sklearn/model_selection/_validation.py:372: FitFailedWarning: \n",
            "5 fits failed out of a total of 20.\n",
            "The score on these train-test partitions for these parameters will be set to nan.\n",
            "If these failures are not expected, you can try to debug them by setting error_score='raise'.\n",
            "\n",
            "Below are more details about the failures:\n",
            "--------------------------------------------------------------------------------\n",
            "5 fits failed with the following error:\n",
            "Traceback (most recent call last):\n",
            "  File \"/usr/local/lib/python3.8/dist-packages/sklearn/model_selection/_validation.py\", line 680, in _fit_and_score\n",
            "    estimator.fit(X_train, y_train, **fit_params)\n",
            "  File \"/usr/local/lib/python3.8/dist-packages/sklearn/linear_model/_logistic.py\", line 1461, in fit\n",
            "    solver = _check_solver(self.solver, self.penalty, self.dual)\n",
            "  File \"/usr/local/lib/python3.8/dist-packages/sklearn/linear_model/_logistic.py\", line 447, in _check_solver\n",
            "    raise ValueError(\n",
            "ValueError: Solver lbfgs supports only 'l2' or 'none' penalties, got l1 penalty.\n",
            "\n",
            "  warnings.warn(some_fits_failed_message, FitFailedWarning)\n",
            "/usr/local/lib/python3.8/dist-packages/sklearn/model_selection/_search.py:969: UserWarning: One or more of the test scores are non-finite: [       nan 0.94907987 0.95225447 0.9443148 ]\n",
            "  warnings.warn(\n"
          ]
        },
        {
          "output_type": "stream",
          "name": "stdout",
          "text": [
            "27.216367959976196\n"
          ]
        }
      ]
    },
    {
      "cell_type": "code",
      "source": [
        "lgr_digits.best_score_"
      ],
      "metadata": {
        "colab": {
          "base_uri": "https://localhost:8080/"
        },
        "id": "PlOUeP8D2-V4",
        "outputId": "ec53cdcc-67dc-4bf0-eac2-7c0a12359291"
      },
      "execution_count": null,
      "outputs": [
        {
          "output_type": "execute_result",
          "data": {
            "text/plain": [
              "0.9522544741668248"
            ]
          },
          "metadata": {},
          "execution_count": 10
        }
      ]
    },
    {
      "cell_type": "code",
      "source": [
        "lgr_digits.classes_"
      ],
      "metadata": {
        "colab": {
          "base_uri": "https://localhost:8080/"
        },
        "id": "GlRp0OSF5jlR",
        "outputId": "eab7edd6-8901-44fb-aba9-425c10ee55cd"
      },
      "execution_count": null,
      "outputs": [
        {
          "output_type": "execute_result",
          "data": {
            "text/plain": [
              "array([0, 1, 2, 3, 4, 5, 6, 7, 8, 9])"
            ]
          },
          "metadata": {},
          "execution_count": 11
        }
      ]
    },
    {
      "cell_type": "code",
      "source": [],
      "metadata": {
        "id": "pQ_XvuFy5pad"
      },
      "execution_count": null,
      "outputs": []
    },
    {
      "cell_type": "markdown",
      "source": [
        "### Support Vector Machine (SVM)"
      ],
      "metadata": {
        "id": "Qyww-c1M5qRa"
      }
    },
    {
      "cell_type": "code",
      "source": [
        "start_time=time.time()\n",
        "svc_grid=GridSearchCV(estimator=SVC(),\n",
        "                      param_grid=svc_params,\n",
        "                      cv=5)\n",
        "svm_digits=svc_grid.fit(X_train,y_train)\n",
        "end_time=time.time()\n",
        "print(f'Time in Seconds:{end_time-start_time} sec')"
      ],
      "metadata": {
        "colab": {
          "base_uri": "https://localhost:8080/"
        },
        "id": "gem3Ta2c5tsg",
        "outputId": "0fc13c7d-dc95-449e-ca6c-1964a024c51c"
      },
      "execution_count": null,
      "outputs": [
        {
          "output_type": "stream",
          "name": "stdout",
          "text": [
            "Time in Seconds:12.138502597808838 sec\n"
          ]
        }
      ]
    },
    {
      "cell_type": "code",
      "source": [
        "svm_digits.best_score_"
      ],
      "metadata": {
        "colab": {
          "base_uri": "https://localhost:8080/"
        },
        "id": "7b2j8hl_6Ec6",
        "outputId": "38bcc966-d57f-4ad9-dbcb-5e55fee8f144"
      },
      "execution_count": null,
      "outputs": [
        {
          "output_type": "execute_result",
          "data": {
            "text/plain": [
              "0.9681749193701386"
            ]
          },
          "metadata": {},
          "execution_count": 14
        }
      ]
    },
    {
      "cell_type": "code",
      "source": [
        "svm_digits.classes_"
      ],
      "metadata": {
        "colab": {
          "base_uri": "https://localhost:8080/"
        },
        "id": "g2T7Nm4T6VKv",
        "outputId": "443dcb5a-b20f-4406-a259-3e3534d7c0ee"
      },
      "execution_count": null,
      "outputs": [
        {
          "output_type": "execute_result",
          "data": {
            "text/plain": [
              "array([0, 1, 2, 3, 4, 5, 6, 7, 8, 9])"
            ]
          },
          "metadata": {},
          "execution_count": 15
        }
      ]
    },
    {
      "cell_type": "code",
      "source": [],
      "metadata": {
        "id": "raQABlXM6YRR"
      },
      "execution_count": null,
      "outputs": []
    },
    {
      "cell_type": "markdown",
      "source": [
        "### Evaluating model performance"
      ],
      "metadata": {
        "id": "-zlvQ9eq6ZsP"
      }
    },
    {
      "cell_type": "markdown",
      "source": [
        "### K Nearest Neighbors (KNN)"
      ],
      "metadata": {
        "id": "2XCpPkpP6m-T"
      }
    },
    {
      "cell_type": "code",
      "source": [
        "train_knn_pred=knn_digit.predict(X_train)\n",
        "test_knn_pred = knn_digit.predict(X_test)\n",
        "train_knn_confusion=confusion_matrix(y_train,train_knn_pred)\n",
        "test_knn_confusion=confusion_matrix(y_test,test_knn_pred)"
      ],
      "metadata": {
        "id": "2ceLZxVq6itf"
      },
      "execution_count": null,
      "outputs": []
    },
    {
      "cell_type": "code",
      "source": [
        "print(classification_report(y_train,train_knn_pred))"
      ],
      "metadata": {
        "colab": {
          "base_uri": "https://localhost:8080/"
        },
        "id": "tqLfMEwI6wYS",
        "outputId": "d4bd9114-eb49-49a9-b213-631e4a0894cf"
      },
      "execution_count": null,
      "outputs": [
        {
          "output_type": "stream",
          "name": "stdout",
          "text": [
            "              precision    recall  f1-score   support\n",
            "\n",
            "           0       1.00      1.00      1.00       125\n",
            "           1       1.00      1.00      1.00       132\n",
            "           2       1.00      1.00      1.00       130\n",
            "           3       1.00      1.00      1.00       129\n",
            "           4       1.00      1.00      1.00       121\n",
            "           5       1.00      1.00      1.00       116\n",
            "           6       1.00      1.00      1.00       128\n",
            "           7       1.00      1.00      1.00       124\n",
            "           8       1.00      1.00      1.00       131\n",
            "           9       1.00      1.00      1.00       121\n",
            "\n",
            "    accuracy                           1.00      1257\n",
            "   macro avg       1.00      1.00      1.00      1257\n",
            "weighted avg       1.00      1.00      1.00      1257\n",
            "\n"
          ]
        }
      ]
    },
    {
      "cell_type": "code",
      "source": [
        "print(classification_report(y_test,test_knn_pred))"
      ],
      "metadata": {
        "colab": {
          "base_uri": "https://localhost:8080/"
        },
        "id": "K02zq7ja7NMb",
        "outputId": "6eae7bd2-4279-467c-9eea-c5909c026bd8"
      },
      "execution_count": null,
      "outputs": [
        {
          "output_type": "stream",
          "name": "stdout",
          "text": [
            "              precision    recall  f1-score   support\n",
            "\n",
            "           0       1.00      1.00      1.00        53\n",
            "           1       0.96      1.00      0.98        50\n",
            "           2       1.00      1.00      1.00        47\n",
            "           3       0.96      0.98      0.97        54\n",
            "           4       0.98      0.98      0.98        60\n",
            "           5       1.00      0.98      0.99        66\n",
            "           6       1.00      1.00      1.00        53\n",
            "           7       1.00      0.98      0.99        55\n",
            "           8       0.98      0.95      0.96        43\n",
            "           9       0.95      0.95      0.95        59\n",
            "\n",
            "    accuracy                           0.98       540\n",
            "   macro avg       0.98      0.98      0.98       540\n",
            "weighted avg       0.98      0.98      0.98       540\n",
            "\n"
          ]
        }
      ]
    },
    {
      "cell_type": "code",
      "source": [
        "disp_train_knn=ConfusionMatrixDisplay(train_knn_confusion)\n",
        "disp_train_knn.plot()\n",
        "plt.show()"
      ],
      "metadata": {
        "colab": {
          "base_uri": "https://localhost:8080/",
          "height": 279
        },
        "id": "jDgbqjEZ7QUy",
        "outputId": "831cc3c6-e1b0-4761-a090-c7d354419bf5"
      },
      "execution_count": null,
      "outputs": [
        {
          "output_type": "display_data",
          "data": {
            "text/plain": [
              "<Figure size 432x288 with 2 Axes>"
            ],
            "image/png": "[encoded data removed]"
          },
          "metadata": {
            "needs_background": "light"
          }
        }
      ]
    },
    {
      "cell_type": "code",
      "source": [
        "disp_test_knn=ConfusionMatrixDisplay(test_knn_confusion)\n",
        "disp_test_knn.plot()\n",
        "plt.show()"
      ],
      "metadata": {
        "colab": {
          "base_uri": "https://localhost:8080/",
          "height": 279
        },
        "id": "9u7x-HN67TiC",
        "outputId": "add81356-c216-4723-9bfc-4c2c2dbce5d2"
      },
      "execution_count": null,
      "outputs": [
        {
          "output_type": "display_data",
          "data": {
            "text/plain": [
              "<Figure size 432x288 with 2 Axes>"
            ],
            "image/png": "[encoded data removed]"
          },
          "metadata": {
            "needs_background": "light"
          }
        }
      ]
    },
    {
      "cell_type": "code",
      "source": [
        "train_accurcy_score=accuracy_score(train_knn_pred,y_train)\n",
        "test_accuracy_score=accuracy_score(test_knn_pred,y_test)\n",
        "train_accurcy_score,test_accuracy_score"
      ],
      "metadata": {
        "colab": {
          "base_uri": "https://localhost:8080/"
        },
        "id": "pLC7h-v47YTG",
        "outputId": "c11a98ac-23fc-473e-eac6-1c0818e83f1c"
      },
      "execution_count": null,
      "outputs": [
        {
          "output_type": "execute_result",
          "data": {
            "text/plain": [
              "(1.0, 0.9833333333333333)"
            ]
          },
          "metadata": {},
          "execution_count": 25
        }
      ]
    },
    {
      "cell_type": "code",
      "source": [
        "train_precision_score=precision_score(y_train,train_knn_pred,average='macro')\n",
        "test_precision_score=precision_score(y_test,test_knn_pred,average='macro')\n",
        "train_precision_score,test_precision_score"
      ],
      "metadata": {
        "colab": {
          "base_uri": "https://localhost:8080/"
        },
        "id": "AVS8ke_F7ePL",
        "outputId": "8ba3681d-e27f-4992-f044-57cf98a76557"
      },
      "execution_count": null,
      "outputs": [
        {
          "output_type": "execute_result",
          "data": {
            "text/plain": [
              "(1.0, 0.9833851177071515)"
            ]
          },
          "metadata": {},
          "execution_count": 26
        }
      ]
    },
    {
      "cell_type": "code",
      "source": [
        "train_precision_score=precision_score(y_train,train_knn_pred,average='weighted')\n",
        "test_precision_score=precision_score(y_test,test_knn_pred,average='weighted')\n",
        "train_precision_score,test_precision_score"
      ],
      "metadata": {
        "colab": {
          "base_uri": "https://localhost:8080/"
        },
        "id": "ov1VCV_B7iS0",
        "outputId": "476e5b88-e78b-4264-ffae-d089dfc73bf4"
      },
      "execution_count": null,
      "outputs": [
        {
          "output_type": "execute_result",
          "data": {
            "text/plain": [
              "(1.0, 0.9834990318323652)"
            ]
          },
          "metadata": {},
          "execution_count": 27
        }
      ]
    },
    {
      "cell_type": "code",
      "source": [
        "train_recall_score=recall_score(y_train,train_knn_pred,average='macro')\n",
        "test_recall_score=recall_score(y_test,test_knn_pred,average='macro')\n",
        "train_recall_score,test_recall_score"
      ],
      "metadata": {
        "colab": {
          "base_uri": "https://localhost:8080/"
        },
        "id": "fDgo7qNe7lYq",
        "outputId": "15f8c157-485c-4e58-adfb-8c4715485e8a"
      },
      "execution_count": null,
      "outputs": [
        {
          "output_type": "execute_result",
          "data": {
            "text/plain": [
              "(1.0, 0.9834122395947386)"
            ]
          },
          "metadata": {},
          "execution_count": 28
        }
      ]
    },
    {
      "cell_type": "code",
      "source": [
        "train_recall_score=recall_score(y_train,train_knn_pred,average='weighted')\n",
        "test_recall_score=recall_score(y_test,test_knn_pred,average='weighted')\n",
        "train_recall_score,test_recall_score"
      ],
      "metadata": {
        "colab": {
          "base_uri": "https://localhost:8080/"
        },
        "id": "i_AbsvEt7oLU",
        "outputId": "9756c48f-1177-4d4b-e895-d8281081c4d9"
      },
      "execution_count": null,
      "outputs": [
        {
          "output_type": "execute_result",
          "data": {
            "text/plain": [
              "(1.0, 0.9833333333333333)"
            ]
          },
          "metadata": {},
          "execution_count": 29
        }
      ]
    },
    {
      "cell_type": "markdown",
      "source": [
        "### DecisionTree Model"
      ],
      "metadata": {
        "id": "3ilqiQNy7tgR"
      }
    },
    {
      "cell_type": "code",
      "source": [
        "train_dtree_pred=dtree_digits.predict(X_train)\n",
        "test_dtree_pred=dtree_digits.predict(X_test)"
      ],
      "metadata": {
        "id": "19ZuwFkU7qWK"
      },
      "execution_count": null,
      "outputs": []
    },
    {
      "cell_type": "code",
      "source": [
        "print(classification_report(y_train,train_dtree_pred))"
      ],
      "metadata": {
        "colab": {
          "base_uri": "https://localhost:8080/"
        },
        "id": "_1z6yeCB71V9",
        "outputId": "1bb1ad8c-9222-45a0-cde0-a0a2807f243d"
      },
      "execution_count": null,
      "outputs": [
        {
          "output_type": "stream",
          "name": "stdout",
          "text": [
            "              precision    recall  f1-score   support\n",
            "\n",
            "           0       0.99      0.94      0.97       125\n",
            "           1       0.65      0.80      0.72       132\n",
            "           2       0.91      0.75      0.82       130\n",
            "           3       0.91      0.81      0.86       129\n",
            "           4       0.70      0.86      0.77       121\n",
            "           5       0.85      0.85      0.85       116\n",
            "           6       1.00      0.90      0.95       128\n",
            "           7       0.88      0.86      0.87       124\n",
            "           8       0.81      0.87      0.84       131\n",
            "           9       0.86      0.80      0.83       121\n",
            "\n",
            "    accuracy                           0.84      1257\n",
            "   macro avg       0.86      0.84      0.85      1257\n",
            "weighted avg       0.86      0.84      0.85      1257\n",
            "\n"
          ]
        }
      ]
    },
    {
      "cell_type": "code",
      "source": [
        "print(classification_report(y_test,test_dtree_pred))"
      ],
      "metadata": {
        "colab": {
          "base_uri": "https://localhost:8080/"
        },
        "id": "ruVEhBg974P4",
        "outputId": "117d4aa2-0abd-46b7-b0e7-0b8b8606c182"
      },
      "execution_count": null,
      "outputs": [
        {
          "output_type": "stream",
          "name": "stdout",
          "text": [
            "              precision    recall  f1-score   support\n",
            "\n",
            "           0       1.00      0.91      0.95        53\n",
            "           1       0.68      0.90      0.78        50\n",
            "           2       0.81      0.72      0.76        47\n",
            "           3       0.89      0.72      0.80        54\n",
            "           4       0.64      0.92      0.75        60\n",
            "           5       0.95      0.82      0.88        66\n",
            "           6       1.00      0.92      0.96        53\n",
            "           7       0.82      0.84      0.83        55\n",
            "           8       0.80      0.74      0.77        43\n",
            "           9       0.87      0.76      0.81        59\n",
            "\n",
            "    accuracy                           0.83       540\n",
            "   macro avg       0.85      0.83      0.83       540\n",
            "weighted avg       0.85      0.83      0.83       540\n",
            "\n"
          ]
        }
      ]
    },
    {
      "cell_type": "code",
      "source": [
        "train_dtree_confusion=confusion_matrix(y_train,train_dtree_pred)\n",
        "disp_train_dtree=ConfusionMatrixDisplay(train_dtree_confusion)\n",
        "disp_train_dtree.plot()\n",
        "plt.show()"
      ],
      "metadata": {
        "colab": {
          "base_uri": "https://localhost:8080/",
          "height": 279
        },
        "id": "l9d5EROW77e-",
        "outputId": "5885a3a4-6d85-4688-abc7-1780fccbaf95"
      },
      "execution_count": null,
      "outputs": [
        {
          "output_type": "display_data",
          "data": {
            "text/plain": [
              "<Figure size 432x288 with 2 Axes>"
            ],
            "image/png": "[encoded data removed]"
          },
          "metadata": {
            "needs_background": "light"
          }
        }
      ]
    },
    {
      "cell_type": "code",
      "source": [
        "test_dtree_confusion=confusion_matrix(y_test,test_dtree_pred)\n",
        "disp_test_dtree=ConfusionMatrixDisplay(test_dtree_confusion)\n",
        "disp_test_dtree.plot()\n",
        "plt.show()"
      ],
      "metadata": {
        "colab": {
          "base_uri": "https://localhost:8080/",
          "height": 279
        },
        "id": "1KolItPP7_XU",
        "outputId": "b3ed99f2-67cc-474d-dd49-750634f9674e"
      },
      "execution_count": null,
      "outputs": [
        {
          "output_type": "display_data",
          "data": {
            "text/plain": [
              "<Figure size 432x288 with 2 Axes>"
            ],
            "image/png": "[encoded data removed]"
          },
          "metadata": {
            "needs_background": "light"
          }
        }
      ]
    },
    {
      "cell_type": "code",
      "source": [
        "dtree_train_accurcy_score=accuracy_score(train_dtree_pred,y_train)\n",
        "dtree_test_accuracy_score=accuracy_score(test_dtree_pred,y_test)\n",
        "dtree_train_accurcy_score,dtree_test_accuracy_score"
      ],
      "metadata": {
        "colab": {
          "base_uri": "https://localhost:8080/"
        },
        "id": "CKnZRRXf8DMd",
        "outputId": "5fbd8844-4e47-42f7-b576-248ec647cd98"
      },
      "execution_count": null,
      "outputs": [
        {
          "output_type": "execute_result",
          "data": {
            "text/plain": [
              "(0.8440731901352426, 0.8277777777777777)"
            ]
          },
          "metadata": {},
          "execution_count": 35
        }
      ]
    },
    {
      "cell_type": "code",
      "source": [
        "dtree_train_precision_score=precision_score(train_dtree_pred,y_train,average='macro')\n",
        "dtree_test_precision_score=precision_score(test_dtree_pred,y_test,average='macro')\n",
        "dtree_train_precision_score,dtree_test_precision_score"
      ],
      "metadata": {
        "colab": {
          "base_uri": "https://localhost:8080/"
        },
        "id": "VlWII3L-8GP5",
        "outputId": "93ffe90e-c94b-4a81-be31-0d366cdf5513"
      },
      "execution_count": null,
      "outputs": [
        {
          "output_type": "execute_result",
          "data": {
            "text/plain": [
              "(0.8445560733667243, 0.8253925188917183)"
            ]
          },
          "metadata": {},
          "execution_count": 36
        }
      ]
    },
    {
      "cell_type": "code",
      "source": [
        "dtree_train_precision_score=precision_score(train_dtree_pred,y_train,average='weighted')\n",
        "dtree_test_precision_score=precision_score(test_dtree_pred,y_test,average='weighted')\n",
        "dtree_train_precision_score,dtree_test_precision_score"
      ],
      "metadata": {
        "colab": {
          "base_uri": "https://localhost:8080/"
        },
        "id": "srTGb_iJ8JDH",
        "outputId": "d92e673d-818b-4433-9da9-32cfa2ac1749"
      },
      "execution_count": null,
      "outputs": [
        {
          "output_type": "execute_result",
          "data": {
            "text/plain": [
              "(0.8450748869009203, 0.8371645570787419)"
            ]
          },
          "metadata": {},
          "execution_count": 37
        }
      ]
    },
    {
      "cell_type": "code",
      "source": [
        "dtree_train_recall_score=recall_score(train_dtree_pred,y_train,average='macro')\n",
        "dtree_test_recall_score=recall_score(test_dtree_pred,y_test,average='macro')\n",
        "dtree_train_recall_score,dtree_test_recall_score"
      ],
      "metadata": {
        "colab": {
          "base_uri": "https://localhost:8080/"
        },
        "id": "Zoy0UYwv8Lki",
        "outputId": "0f3a0b91-3793-4980-e3c1-a73d68097149"
      },
      "execution_count": null,
      "outputs": [
        {
          "output_type": "execute_result",
          "data": {
            "text/plain": [
              "(0.856739047578726, 0.8451422119292376)"
            ]
          },
          "metadata": {},
          "execution_count": 38
        }
      ]
    },
    {
      "cell_type": "code",
      "source": [
        "dtree_train_recall_score=recall_score(train_dtree_pred,y_train,average='weighted')\n",
        "dtree_test_recall_score=recall_score(test_dtree_pred,y_test,average='weighted')\n",
        "dtree_train_recall_score,dtree_test_recall_score"
      ],
      "metadata": {
        "colab": {
          "base_uri": "https://localhost:8080/"
        },
        "id": "TYqgPIR28Oy3",
        "outputId": "11ff3f55-5442-4793-936a-4889651ae1f3"
      },
      "execution_count": null,
      "outputs": [
        {
          "output_type": "execute_result",
          "data": {
            "text/plain": [
              "(0.8440731901352426, 0.8277777777777777)"
            ]
          },
          "metadata": {},
          "execution_count": 39
        }
      ]
    },
    {
      "cell_type": "markdown",
      "source": [
        "### Logestic regression"
      ],
      "metadata": {
        "id": "jKv5Y0o58X26"
      }
    },
    {
      "cell_type": "code",
      "source": [
        "train_lgr_pred=lgr_digits.predict(X_train)\n",
        "test_lgr_pred=lgr_digits.predict(X_test)"
      ],
      "metadata": {
        "id": "1kqQfaLQ8SaU"
      },
      "execution_count": null,
      "outputs": []
    },
    {
      "cell_type": "code",
      "source": [
        "print(classification_report(y_train,train_lgr_pred))"
      ],
      "metadata": {
        "colab": {
          "base_uri": "https://localhost:8080/"
        },
        "id": "fcHIu8MW8ezc",
        "outputId": "9822d2ba-81bc-41ee-e711-516295e1c14a"
      },
      "execution_count": null,
      "outputs": [
        {
          "output_type": "stream",
          "name": "stdout",
          "text": [
            "              precision    recall  f1-score   support\n",
            "\n",
            "           0       1.00      1.00      1.00       125\n",
            "           1       1.00      1.00      1.00       132\n",
            "           2       1.00      1.00      1.00       130\n",
            "           3       1.00      1.00      1.00       129\n",
            "           4       1.00      1.00      1.00       121\n",
            "           5       1.00      1.00      1.00       116\n",
            "           6       1.00      1.00      1.00       128\n",
            "           7       1.00      1.00      1.00       124\n",
            "           8       1.00      1.00      1.00       131\n",
            "           9       1.00      1.00      1.00       121\n",
            "\n",
            "    accuracy                           1.00      1257\n",
            "   macro avg       1.00      1.00      1.00      1257\n",
            "weighted avg       1.00      1.00      1.00      1257\n",
            "\n"
          ]
        }
      ]
    },
    {
      "cell_type": "code",
      "source": [
        "print(classification_report(y_test,test_lgr_pred))"
      ],
      "metadata": {
        "colab": {
          "base_uri": "https://localhost:8080/"
        },
        "id": "bdD4E8-Y8hUx",
        "outputId": "01c99ffa-d354-48d5-fb54-6475e95b74ff"
      },
      "execution_count": null,
      "outputs": [
        {
          "output_type": "stream",
          "name": "stdout",
          "text": [
            "              precision    recall  f1-score   support\n",
            "\n",
            "           0       1.00      1.00      1.00        53\n",
            "           1       0.96      0.94      0.95        50\n",
            "           2       0.96      1.00      0.98        47\n",
            "           3       0.98      0.96      0.97        54\n",
            "           4       1.00      0.98      0.99        60\n",
            "           5       0.94      0.95      0.95        66\n",
            "           6       0.98      0.98      0.98        53\n",
            "           7       1.00      0.98      0.99        55\n",
            "           8       0.91      0.98      0.94        43\n",
            "           9       0.98      0.95      0.97        59\n",
            "\n",
            "    accuracy                           0.97       540\n",
            "   macro avg       0.97      0.97      0.97       540\n",
            "weighted avg       0.97      0.97      0.97       540\n",
            "\n"
          ]
        }
      ]
    },
    {
      "cell_type": "code",
      "source": [
        "train_lgr_confusion=confusion_matrix(y_train,train_lgr_pred)\n",
        "disp_train_lgr=ConfusionMatrixDisplay(train_lgr_confusion)\n",
        "disp_train_lgr.plot()\n",
        "plt.show()"
      ],
      "metadata": {
        "colab": {
          "base_uri": "https://localhost:8080/",
          "height": 279
        },
        "id": "blbjuzQu8kvw",
        "outputId": "4e0bcdb4-2111-49c0-fae1-7edfff1b066e"
      },
      "execution_count": null,
      "outputs": [
        {
          "output_type": "display_data",
          "data": {
            "text/plain": [
              "<Figure size 432x288 with 2 Axes>"
            ],
            "image/png": "[encoded data removed]"
          },
          "metadata": {
            "needs_background": "light"
          }
        }
      ]
    },
    {
      "cell_type": "code",
      "source": [
        "test_lgr_confusion=confusion_matrix(y_test,test_lgr_pred)\n",
        "disp_test_lgr=ConfusionMatrixDisplay(test_lgr_confusion)\n",
        "disp_test_lgr.plot()\n",
        "plt.show()"
      ],
      "metadata": {
        "colab": {
          "base_uri": "https://localhost:8080/",
          "height": 279
        },
        "id": "4WGVrha48nVr",
        "outputId": "7edcbf4b-45dd-497f-c5c1-037742eb0169"
      },
      "execution_count": null,
      "outputs": [
        {
          "output_type": "display_data",
          "data": {
            "text/plain": [
              "<Figure size 432x288 with 2 Axes>"
            ],
            "image/png": "[encoded data removed]"
          },
          "metadata": {
            "needs_background": "light"
          }
        }
      ]
    },
    {
      "cell_type": "code",
      "source": [
        "lgr_train_accurcy_score=accuracy_score(train_lgr_pred,y_train)\n",
        "lgr_test_accuracy_score=accuracy_score(test_lgr_pred,y_test)\n",
        "lgr_train_accurcy_score,lgr_test_accuracy_score"
      ],
      "metadata": {
        "colab": {
          "base_uri": "https://localhost:8080/"
        },
        "id": "hMFmr-qO8qDv",
        "outputId": "9b9b9ab5-a7e7-4bf1-d4a9-10d54a59daf0"
      },
      "execution_count": null,
      "outputs": [
        {
          "output_type": "execute_result",
          "data": {
            "text/plain": [
              "(1.0, 0.9722222222222222)"
            ]
          },
          "metadata": {},
          "execution_count": 45
        }
      ]
    },
    {
      "cell_type": "code",
      "source": [
        "lgr_train_precision_score=precision_score(train_lgr_pred,y_train,average='macro')\n",
        "lgr_test_precision_score=precision_score(test_lgr_pred,y_test,average='macro')\n",
        "lgr_train_precision_score,lgr_test_precision_score"
      ],
      "metadata": {
        "colab": {
          "base_uri": "https://localhost:8080/"
        },
        "id": "_Z-53Nm28tVT",
        "outputId": "19c5a488-3c05-4dba-f291-15b682ac6f66"
      },
      "execution_count": null,
      "outputs": [
        {
          "output_type": "execute_result",
          "data": {
            "text/plain": [
              "(1.0, 0.9729688736551022)"
            ]
          },
          "metadata": {},
          "execution_count": 46
        }
      ]
    },
    {
      "cell_type": "code",
      "source": [
        "lgr_train_precision_score=precision_score(train_lgr_pred,y_train,average='weighted')\n",
        "lgr_test_precision_score=precision_score(test_lgr_pred,y_test,average='weighted')\n",
        "lgr_train_precision_score,lgr_test_precision_score"
      ],
      "metadata": {
        "colab": {
          "base_uri": "https://localhost:8080/"
        },
        "id": "LfJzyerQ8wPA",
        "outputId": "516459f1-67dd-4a33-9c9d-5ccff394111f"
      },
      "execution_count": null,
      "outputs": [
        {
          "output_type": "execute_result",
          "data": {
            "text/plain": [
              "(1.0, 0.9724414045367126)"
            ]
          },
          "metadata": {},
          "execution_count": 47
        }
      ]
    },
    {
      "cell_type": "code",
      "source": [
        "lgr_train_recall_score=recall_score(train_lgr_pred,y_train,average='macro')\n",
        "lgr_test_recall_score=recall_score(test_lgr_pred,y_test,average='macro')\n",
        "lgr_train_recall_score,lgr_test_recall_score"
      ],
      "metadata": {
        "colab": {
          "base_uri": "https://localhost:8080/"
        },
        "id": "TQaDGuNx8yWf",
        "outputId": "fb1e1374-609e-44a3-d21e-6bae8d106f95"
      },
      "execution_count": null,
      "outputs": [
        {
          "output_type": "execute_result",
          "data": {
            "text/plain": [
              "(1.0, 0.9716429623956604)"
            ]
          },
          "metadata": {},
          "execution_count": 48
        }
      ]
    },
    {
      "cell_type": "code",
      "source": [
        "lgr_train_recall_score=recall_score(train_lgr_pred,y_train,average='weighted')\n",
        "lgr_test_recall_score=recall_score(test_lgr_pred,y_test,average='weighted')\n",
        "lgr_train_recall_score,lgr_test_recall_score"
      ],
      "metadata": {
        "colab": {
          "base_uri": "https://localhost:8080/"
        },
        "id": "enmCVYoO81v_",
        "outputId": "85cb153b-8849-4e6d-c56e-dd517e97c344"
      },
      "execution_count": null,
      "outputs": [
        {
          "output_type": "execute_result",
          "data": {
            "text/plain": [
              "(1.0, 0.9722222222222222)"
            ]
          },
          "metadata": {},
          "execution_count": 49
        }
      ]
    },
    {
      "cell_type": "markdown",
      "source": [
        "### Support Vector Machine (SVM)"
      ],
      "metadata": {
        "id": "BNJ540ca85Yy"
      }
    },
    {
      "cell_type": "code",
      "source": [
        "train_svc_pred=svm_digits.predict(X_train)\n",
        "test_svc_pred=svm_digits.predict(X_test)"
      ],
      "metadata": {
        "id": "Ea1B-Dgl84v2"
      },
      "execution_count": null,
      "outputs": []
    },
    {
      "cell_type": "code",
      "source": [
        "print(classification_report(y_train,train_svc_pred))"
      ],
      "metadata": {
        "colab": {
          "base_uri": "https://localhost:8080/"
        },
        "id": "N849057R9DHf",
        "outputId": "e3e228b9-adc7-4667-bb4d-412cf138f8de"
      },
      "execution_count": null,
      "outputs": [
        {
          "output_type": "stream",
          "name": "stdout",
          "text": [
            "              precision    recall  f1-score   support\n",
            "\n",
            "           0       1.00      1.00      1.00       125\n",
            "           1       1.00      1.00      1.00       132\n",
            "           2       1.00      1.00      1.00       130\n",
            "           3       1.00      1.00      1.00       129\n",
            "           4       1.00      1.00      1.00       121\n",
            "           5       1.00      1.00      1.00       116\n",
            "           6       1.00      1.00      1.00       128\n",
            "           7       1.00      1.00      1.00       124\n",
            "           8       1.00      1.00      1.00       131\n",
            "           9       1.00      1.00      1.00       121\n",
            "\n",
            "    accuracy                           1.00      1257\n",
            "   macro avg       1.00      1.00      1.00      1257\n",
            "weighted avg       1.00      1.00      1.00      1257\n",
            "\n"
          ]
        }
      ]
    },
    {
      "cell_type": "code",
      "source": [
        "print(classification_report(y_test,test_svc_pred))"
      ],
      "metadata": {
        "colab": {
          "base_uri": "https://localhost:8080/"
        },
        "id": "HpmnGBpW9FYm",
        "outputId": "5a71bcee-c58d-4c80-8a38-e0933179eebe"
      },
      "execution_count": null,
      "outputs": [
        {
          "output_type": "stream",
          "name": "stdout",
          "text": [
            "              precision    recall  f1-score   support\n",
            "\n",
            "           0       1.00      1.00      1.00        53\n",
            "           1       0.98      0.98      0.98        50\n",
            "           2       0.98      1.00      0.99        47\n",
            "           3       1.00      0.96      0.98        54\n",
            "           4       0.98      0.98      0.98        60\n",
            "           5       0.97      0.97      0.97        66\n",
            "           6       1.00      1.00      1.00        53\n",
            "           7       0.96      0.98      0.97        55\n",
            "           8       0.95      0.98      0.97        43\n",
            "           9       0.97      0.95      0.96        59\n",
            "\n",
            "    accuracy                           0.98       540\n",
            "   macro avg       0.98      0.98      0.98       540\n",
            "weighted avg       0.98      0.98      0.98       540\n",
            "\n"
          ]
        }
      ]
    },
    {
      "cell_type": "code",
      "source": [
        "train_svc_confusion=confusion_matrix(y_train,train_svc_pred)\n",
        "disp_train_svc=ConfusionMatrixDisplay(train_svc_confusion)\n",
        "disp_train_svc.plot()\n",
        "plt.show()"
      ],
      "metadata": {
        "colab": {
          "base_uri": "https://localhost:8080/",
          "height": 279
        },
        "id": "kCm1U0rR9I7O",
        "outputId": "d9fc540f-6a7f-4685-e418-90f485860054"
      },
      "execution_count": null,
      "outputs": [
        {
          "output_type": "display_data",
          "data": {
            "text/plain": [
              "<Figure size 432x288 with 2 Axes>"
            ],
            "image/png": "[encoded data removed]"
          },
          "metadata": {
            "needs_background": "light"
          }
        }
      ]
    },
    {
      "cell_type": "code",
      "source": [
        "train_svc_confusion=confusion_matrix(y_train,train_svc_pred)\n",
        "disp_train_svc=ConfusionMatrixDisplay(train_svc_confusion)\n",
        "disp_train_svc.plot()\n",
        "plt.show()"
      ],
      "metadata": {
        "colab": {
          "base_uri": "https://localhost:8080/",
          "height": 279
        },
        "id": "t8Ool8p19MPK",
        "outputId": "91d65530-4ae1-4c71-b996-7f5ffa2e961c"
      },
      "execution_count": null,
      "outputs": [
        {
          "output_type": "display_data",
          "data": {
            "text/plain": [
              "<Figure size 432x288 with 2 Axes>"
            ],
            "image/png": "[encoded data removed]"
          },
          "metadata": {
            "needs_background": "light"
          }
        }
      ]
    },
    {
      "cell_type": "code",
      "source": [
        "svc_train_accurcy_score=accuracy_score(train_svc_pred,y_train)\n",
        "svc_test_accuracy_score=accuracy_score(test_svc_pred,y_test)\n",
        "svc_train_accurcy_score,svc_test_accuracy_score"
      ],
      "metadata": {
        "colab": {
          "base_uri": "https://localhost:8080/"
        },
        "id": "3Iu56NMC9PJh",
        "outputId": "bd7f8e03-e88b-4feb-ea21-49c40d255cee"
      },
      "execution_count": null,
      "outputs": [
        {
          "output_type": "execute_result",
          "data": {
            "text/plain": [
              "(1.0, 0.9796296296296296)"
            ]
          },
          "metadata": {},
          "execution_count": 55
        }
      ]
    },
    {
      "cell_type": "code",
      "source": [
        "svc_train_precision_score=precision_score(train_svc_pred,y_train,average='macro')\n",
        "svc_test_precision_score=precision_score(test_svc_pred,y_test,average='macro')\n",
        "svc_train_precision_score,svc_test_precision_score"
      ],
      "metadata": {
        "colab": {
          "base_uri": "https://localhost:8080/"
        },
        "id": "yNPNWgof9UYw",
        "outputId": "b004264b-5230-4e5e-97fc-d108dd40d5c0"
      },
      "execution_count": null,
      "outputs": [
        {
          "output_type": "execute_result",
          "data": {
            "text/plain": [
              "(1.0, 0.980370817623084)"
            ]
          },
          "metadata": {},
          "execution_count": 56
        }
      ]
    },
    {
      "cell_type": "code",
      "source": [
        "svc_train_precision_score=precision_score(train_svc_pred,y_train,average='weighted')\n",
        "svc_test_precision_score=precision_score(test_svc_pred,y_test,average='weighted')\n",
        "svc_train_precision_score,svc_test_precision_score"
      ],
      "metadata": {
        "colab": {
          "base_uri": "https://localhost:8080/"
        },
        "id": "vwHjtSPH9fH8",
        "outputId": "54017799-3707-46f3-d229-25a1d3d71c91"
      },
      "execution_count": null,
      "outputs": [
        {
          "output_type": "execute_result",
          "data": {
            "text/plain": [
              "(1.0, 0.9797842294436405)"
            ]
          },
          "metadata": {},
          "execution_count": 57
        }
      ]
    },
    {
      "cell_type": "code",
      "source": [
        "svc_train_recall_score=recall_score(train_svc_pred,y_train,average='macro')\n",
        "svc_test_recall_score=recall_score(test_svc_pred,y_test,average='macro')\n",
        "svc_train_recall_score,svc_test_recall_score"
      ],
      "metadata": {
        "colab": {
          "base_uri": "https://localhost:8080/"
        },
        "id": "GaS47FTt9hfq",
        "outputId": "9e382677-4d1d-47c1-fcef-a06e4ba35474"
      },
      "execution_count": null,
      "outputs": [
        {
          "output_type": "execute_result",
          "data": {
            "text/plain": [
              "(1.0, 0.9796545379907448)"
            ]
          },
          "metadata": {},
          "execution_count": 58
        }
      ]
    },
    {
      "cell_type": "code",
      "source": [
        "svc_train_recall_score=recall_score(train_svc_pred,y_train,average='weighted')\n",
        "svc_test_recall_score=recall_score(test_svc_pred,y_test,average='weighted')\n",
        "svc_train_recall_score,svc_test_recall_score"
      ],
      "metadata": {
        "colab": {
          "base_uri": "https://localhost:8080/"
        },
        "id": "y4BvRPq49kON",
        "outputId": "52f3aead-87a9-41f3-d41a-fa873458b76d"
      },
      "execution_count": null,
      "outputs": [
        {
          "output_type": "execute_result",
          "data": {
            "text/plain": [
              "(1.0, 0.9796296296296296)"
            ]
          },
          "metadata": {},
          "execution_count": 59
        }
      ]
    },
    {
      "cell_type": "code",
      "source": [
        "#accuracy score\n",
        "pd.DataFrame({'model':['KNN','Dtree','LGR','SVM'],\n",
        "              'train_accuracy_score':[train_accurcy_score,dtree_train_accurcy_score,lgr_train_accurcy_score,svc_train_accurcy_score],\n",
        "              'test_accuracy_score':[test_accuracy_score,dtree_test_accuracy_score,lgr_test_accuracy_score,svc_test_accuracy_score],\n",
        "              'average_fit_time':['14.319875001907349 sec','2.287346839904785 sec', '27.216367959976196 sec','12.138502597808838 sec']})"
      ],
      "metadata": {
        "colab": {
          "base_uri": "https://localhost:8080/",
          "height": 175
        },
        "id": "AvpydUOB9md8",
        "outputId": "f0633f10-e2bf-4a90-d659-be7e7aa6603a"
      },
      "execution_count": null,
      "outputs": [
        {
          "output_type": "execute_result",
          "data": {
            "text/plain": [
              "   model  train_accuracy_score  test_accuracy_score        average_fit_time\n",
              "0    KNN              1.000000             0.983333  14.319875001907349 sec\n",
              "1  Dtree              0.844073             0.827778   2.287346839904785 sec\n",
              "2    LGR              1.000000             0.972222  27.216367959976196 sec\n",
              "3    SVM              1.000000             0.979630  12.138502597808838 sec"
            ],
            "text/html": [
              "\n",
              "  <div id=\"df-cefd13ef-8b66-4d82-8d89-07a4715761ca\">\n",
              "    <div class=\"colab-df-container\">\n",
              "      <div>\n",
              "<style scoped>\n",
              "    .dataframe tbody tr th:only-of-type {\n",
              "        vertical-align: middle;\n",
              "    }\n",
              "\n",
              "    .dataframe tbody tr th {\n",
              "        vertical-align: top;\n",
              "    }\n",
              "\n",
              "    .dataframe thead th {\n",
              "        text-align: right;\n",
              "    }\n",
              "</style>\n",
              "<table border=\"1\" class=\"dataframe\">\n",
              "  <thead>\n",
              "    <tr style=\"text-align: right;\">\n",
              "      <th></th>\n",
              "      <th>model</th>\n",
              "      <th>train_accuracy_score</th>\n",
              "      <th>test_accuracy_score</th>\n",
              "      <th>average_fit_time</th>\n",
              "    </tr>\n",
              "  </thead>\n",
              "  <tbody>\n",
              "    <tr>\n",
              "      <th>0</th>\n",
              "      <td>KNN</td>\n",
              "      <td>1.000000</td>\n",
              "      <td>0.983333</td>\n",
              "      <td>14.319875001907349 sec</td>\n",
              "    </tr>\n",
              "    <tr>\n",
              "      <th>1</th>\n",
              "      <td>Dtree</td>\n",
              "      <td>0.844073</td>\n",
              "      <td>0.827778</td>\n",
              "      <td>2.287346839904785 sec</td>\n",
              "    </tr>\n",
              "    <tr>\n",
              "      <th>2</th>\n",
              "      <td>LGR</td>\n",
              "      <td>1.000000</td>\n",
              "      <td>0.972222</td>\n",
              "      <td>27.216367959976196 sec</td>\n",
              "    </tr>\n",
              "    <tr>\n",
              "      <th>3</th>\n",
              "      <td>SVM</td>\n",
              "      <td>1.000000</td>\n",
              "      <td>0.979630</td>\n",
              "      <td>12.138502597808838 sec</td>\n",
              "    </tr>\n",
              "  </tbody>\n",
              "</table>\n",
              "</div>\n",
              "      <button class=\"colab-df-convert\" onclick=\"convertToInteractive('df-cefd13ef-8b66-4d82-8d89-07a4715761ca')\"\n",
              "              title=\"Convert this dataframe to an interactive table.\"\n",
              "              style=\"display:none;\">\n",
              "        \n",
              "  <svg xmlns=\"http://www.w3.org/2000/svg\" height=\"24px\"viewBox=\"0 0 24 24\"\n",
              "       width=\"24px\">\n",
              "    <path d=\"M0 0h24v24H0V0z\" fill=\"none\"/>\n",
              "    <path d=\"M18.56 5.44l.94 2.06.94-2.06 2.06-.94-2.06-.94-.94-2.06-.94 2.06-2.06.94zm-11 1L8.5 8.5l.94-2.06 2.06-.94-2.06-.94L8.5 2.5l-.94 2.06-2.06.94zm10 10l.94 2.06.94-2.06 2.06-.94-2.06-.94-.94-2.06-.94 2.06-2.06.94z\"/><path d=\"M17.41 7.96l-1.37-1.37c-.4-.4-.92-.59-1.43-.59-.52 0-1.04.2-1.43.59L10.3 9.45l-7.72 7.72c-.78.78-.78 2.05 0 2.83L4 21.41c.39.39.9.59 1.41.59.51 0 1.02-.2 1.41-.59l7.78-7.78 2.81-2.81c.8-.78.8-2.07 0-2.86zM5.41 20L4 18.59l7.72-7.72 1.47 1.35L5.41 20z\"/>\n",
              "  </svg>\n",
              "      </button>\n",
              "      \n",
              "  <style>\n",
              "    .colab-df-container {\n",
              "      display:flex;\n",
              "      flex-wrap:wrap;\n",
              "      gap: 12px;\n",
              "    }\n",
              "\n",
              "    .colab-df-convert {\n",
              "      background-color: #E8F0FE;\n",
              "      border: none;\n",
              "      border-radius: 50%;\n",
              "      cursor: pointer;\n",
              "      display: none;\n",
              "      fill: #1967D2;\n",
              "      height: 32px;\n",
              "      padding: 0 0 0 0;\n",
              "      width: 32px;\n",
              "    }\n",
              "\n",
              "    .colab-df-convert:hover {\n",
              "      background-color: #E2EBFA;\n",
              "      box-shadow: 0px 1px 2px rgba(60, 64, 67, 0.3), 0px 1px 3px 1px rgba(60, 64, 67, 0.15);\n",
              "      fill: #174EA6;\n",
              "    }\n",
              "\n",
              "    [theme=dark] .colab-df-convert {\n",
              "      background-color: #3B4455;\n",
              "      fill: #D2E3FC;\n",
              "    }\n",
              "\n",
              "    [theme=dark] .colab-df-convert:hover {\n",
              "      background-color: #434B5C;\n",
              "      box-shadow: 0px 1px 3px 1px rgba(0, 0, 0, 0.15);\n",
              "      filter: drop-shadow(0px 1px 2px rgba(0, 0, 0, 0.3));\n",
              "      fill: #FFFFFF;\n",
              "    }\n",
              "  </style>\n",
              "\n",
              "      <script>\n",
              "        const buttonEl =\n",
              "          document.querySelector('#df-cefd13ef-8b66-4d82-8d89-07a4715761ca button.colab-df-convert');\n",
              "        buttonEl.style.display =\n",
              "          google.colab.kernel.accessAllowed ? 'block' : 'none';\n",
              "\n",
              "        async function convertToInteractive(key) {\n",
              "          const element = document.querySelector('#df-cefd13ef-8b66-4d82-8d89-07a4715761ca');\n",
              "          const dataTable =\n",
              "            await google.colab.kernel.invokeFunction('convertToInteractive',\n",
              "                                                     [key], {});\n",
              "          if (!dataTable) return;\n",
              "\n",
              "          const docLinkHtml = 'Like what you see? Visit the ' +\n",
              "            '<a target=\"_blank\" href=https://colab.research.google.com/notebooks/data_table.ipynb>data table notebook</a>'\n",
              "            + ' to learn more about interactive tables.';\n",
              "          element.innerHTML = '';\n",
              "          dataTable['output_type'] = 'display_data';\n",
              "          await google.colab.output.renderOutput(dataTable, element);\n",
              "          const docLink = document.createElement('div');\n",
              "          docLink.innerHTML = docLinkHtml;\n",
              "          element.appendChild(docLink);\n",
              "        }\n",
              "      </script>\n",
              "    </div>\n",
              "  </div>\n",
              "  "
            ]
          },
          "metadata": {},
          "execution_count": 61
        }
      ]
    },
    {
      "cell_type": "code",
      "source": [
        "#precision score\n",
        "pd.DataFrame({'model':['KNN','Dtree','LGR','SVM'],\n",
        "              'train_precision_score':[train_precision_score,dtree_train_precision_score,lgr_train_precision_score,svc_train_precision_score],\n",
        "              'test_precision_score':[test_precision_score,dtree_test_precision_score,lgr_test_precision_score,svc_test_precision_score],\n",
        "              'Time_Elapsed':['14.319875001907349 sec','2.287346839904785 sec', '27.216367959976196 sec','12.138502597808838 sec']})"
      ],
      "metadata": {
        "colab": {
          "base_uri": "https://localhost:8080/",
          "height": 175
        },
        "id": "gzNwHcnc9p_5",
        "outputId": "816bb79a-7b24-4bbb-989f-d6140d3a8ba9"
      },
      "execution_count": null,
      "outputs": [
        {
          "output_type": "execute_result",
          "data": {
            "text/plain": [
              "   model  train_precision_score  test_precision_score            Time_Elapsed\n",
              "0    KNN               1.000000              0.983499  14.319875001907349 sec\n",
              "1  Dtree               0.845075              0.837165   2.287346839904785 sec\n",
              "2    LGR               1.000000              0.972441  27.216367959976196 sec\n",
              "3    SVM               1.000000              0.979784  12.138502597808838 sec"
            ],
            "text/html": [
              "\n",
              "  <div id=\"df-4e816421-9ed6-4405-9b74-32a54e2869c5\">\n",
              "    <div class=\"colab-df-container\">\n",
              "      <div>\n",
              "<style scoped>\n",
              "    .dataframe tbody tr th:only-of-type {\n",
              "        vertical-align: middle;\n",
              "    }\n",
              "\n",
              "    .dataframe tbody tr th {\n",
              "        vertical-align: top;\n",
              "    }\n",
              "\n",
              "    .dataframe thead th {\n",
              "        text-align: right;\n",
              "    }\n",
              "</style>\n",
              "<table border=\"1\" class=\"dataframe\">\n",
              "  <thead>\n",
              "    <tr style=\"text-align: right;\">\n",
              "      <th></th>\n",
              "      <th>model</th>\n",
              "      <th>train_precision_score</th>\n",
              "      <th>test_precision_score</th>\n",
              "      <th>Time_Elapsed</th>\n",
              "    </tr>\n",
              "  </thead>\n",
              "  <tbody>\n",
              "    <tr>\n",
              "      <th>0</th>\n",
              "      <td>KNN</td>\n",
              "      <td>1.000000</td>\n",
              "      <td>0.983499</td>\n",
              "      <td>14.319875001907349 sec</td>\n",
              "    </tr>\n",
              "    <tr>\n",
              "      <th>1</th>\n",
              "      <td>Dtree</td>\n",
              "      <td>0.845075</td>\n",
              "      <td>0.837165</td>\n",
              "      <td>2.287346839904785 sec</td>\n",
              "    </tr>\n",
              "    <tr>\n",
              "      <th>2</th>\n",
              "      <td>LGR</td>\n",
              "      <td>1.000000</td>\n",
              "      <td>0.972441</td>\n",
              "      <td>27.216367959976196 sec</td>\n",
              "    </tr>\n",
              "    <tr>\n",
              "      <th>3</th>\n",
              "      <td>SVM</td>\n",
              "      <td>1.000000</td>\n",
              "      <td>0.979784</td>\n",
              "      <td>12.138502597808838 sec</td>\n",
              "    </tr>\n",
              "  </tbody>\n",
              "</table>\n",
              "</div>\n",
              "      <button class=\"colab-df-convert\" onclick=\"convertToInteractive('df-4e816421-9ed6-4405-9b74-32a54e2869c5')\"\n",
              "              title=\"Convert this dataframe to an interactive table.\"\n",
              "              style=\"display:none;\">\n",
              "        \n",
              "  <svg xmlns=\"http://www.w3.org/2000/svg\" height=\"24px\"viewBox=\"0 0 24 24\"\n",
              "       width=\"24px\">\n",
              "    <path d=\"M0 0h24v24H0V0z\" fill=\"none\"/>\n",
              "    <path d=\"M18.56 5.44l.94 2.06.94-2.06 2.06-.94-2.06-.94-.94-2.06-.94 2.06-2.06.94zm-11 1L8.5 8.5l.94-2.06 2.06-.94-2.06-.94L8.5 2.5l-.94 2.06-2.06.94zm10 10l.94 2.06.94-2.06 2.06-.94-2.06-.94-.94-2.06-.94 2.06-2.06.94z\"/><path d=\"M17.41 7.96l-1.37-1.37c-.4-.4-.92-.59-1.43-.59-.52 0-1.04.2-1.43.59L10.3 9.45l-7.72 7.72c-.78.78-.78 2.05 0 2.83L4 21.41c.39.39.9.59 1.41.59.51 0 1.02-.2 1.41-.59l7.78-7.78 2.81-2.81c.8-.78.8-2.07 0-2.86zM5.41 20L4 18.59l7.72-7.72 1.47 1.35L5.41 20z\"/>\n",
              "  </svg>\n",
              "      </button>\n",
              "      \n",
              "  <style>\n",
              "    .colab-df-container {\n",
              "      display:flex;\n",
              "      flex-wrap:wrap;\n",
              "      gap: 12px;\n",
              "    }\n",
              "\n",
              "    .colab-df-convert {\n",
              "      background-color: #E8F0FE;\n",
              "      border: none;\n",
              "      border-radius: 50%;\n",
              "      cursor: pointer;\n",
              "      display: none;\n",
              "      fill: #1967D2;\n",
              "      height: 32px;\n",
              "      padding: 0 0 0 0;\n",
              "      width: 32px;\n",
              "    }\n",
              "\n",
              "    .colab-df-convert:hover {\n",
              "      background-color: #E2EBFA;\n",
              "      box-shadow: 0px 1px 2px rgba(60, 64, 67, 0.3), 0px 1px 3px 1px rgba(60, 64, 67, 0.15);\n",
              "      fill: #174EA6;\n",
              "    }\n",
              "\n",
              "    [theme=dark] .colab-df-convert {\n",
              "      background-color: #3B4455;\n",
              "      fill: #D2E3FC;\n",
              "    }\n",
              "\n",
              "    [theme=dark] .colab-df-convert:hover {\n",
              "      background-color: #434B5C;\n",
              "      box-shadow: 0px 1px 3px 1px rgba(0, 0, 0, 0.15);\n",
              "      filter: drop-shadow(0px 1px 2px rgba(0, 0, 0, 0.3));\n",
              "      fill: #FFFFFF;\n",
              "    }\n",
              "  </style>\n",
              "\n",
              "      <script>\n",
              "        const buttonEl =\n",
              "          document.querySelector('#df-4e816421-9ed6-4405-9b74-32a54e2869c5 button.colab-df-convert');\n",
              "        buttonEl.style.display =\n",
              "          google.colab.kernel.accessAllowed ? 'block' : 'none';\n",
              "\n",
              "        async function convertToInteractive(key) {\n",
              "          const element = document.querySelector('#df-4e816421-9ed6-4405-9b74-32a54e2869c5');\n",
              "          const dataTable =\n",
              "            await google.colab.kernel.invokeFunction('convertToInteractive',\n",
              "                                                     [key], {});\n",
              "          if (!dataTable) return;\n",
              "\n",
              "          const docLinkHtml = 'Like what you see? Visit the ' +\n",
              "            '<a target=\"_blank\" href=https://colab.research.google.com/notebooks/data_table.ipynb>data table notebook</a>'\n",
              "            + ' to learn more about interactive tables.';\n",
              "          element.innerHTML = '';\n",
              "          dataTable['output_type'] = 'display_data';\n",
              "          await google.colab.output.renderOutput(dataTable, element);\n",
              "          const docLink = document.createElement('div');\n",
              "          docLink.innerHTML = docLinkHtml;\n",
              "          element.appendChild(docLink);\n",
              "        }\n",
              "      </script>\n",
              "    </div>\n",
              "  </div>\n",
              "  "
            ]
          },
          "metadata": {},
          "execution_count": 62
        }
      ]
    },
    {
      "cell_type": "code",
      "source": [
        "#recall score\n",
        "pd.DataFrame({'model':['KNN','Dtree','LGR','SVM'],\n",
        "              'train_recall_score':[train_recall_score,dtree_train_recall_score,lgr_train_recall_score,svc_train_recall_score],\n",
        "              'test_recall_score':[test_recall_score,dtree_test_recall_score,lgr_test_recall_score,svc_test_recall_score],\n",
        "              'Time_Elapsed':['14.319875001907349 sec','2.287346839904785 sec', '27.216367959976196 sec','12.138502597808838 sec']})"
      ],
      "metadata": {
        "colab": {
          "base_uri": "https://localhost:8080/",
          "height": 175
        },
        "id": "WRuLUI2b-wJu",
        "outputId": "7b0d96fa-fff2-46a3-a5da-2eab1922c450"
      },
      "execution_count": null,
      "outputs": [
        {
          "output_type": "execute_result",
          "data": {
            "text/plain": [
              "   model  train_recall_score  test_recall_score            Time_Elapsed\n",
              "0    KNN            1.000000           0.983333  14.319875001907349 sec\n",
              "1  Dtree            0.844073           0.827778   2.287346839904785 sec\n",
              "2    LGR            1.000000           0.972222  27.216367959976196 sec\n",
              "3    SVM            1.000000           0.979630  12.138502597808838 sec"
            ],
            "text/html": [
              "\n",
              "  <div id=\"df-aade6c17-49cc-4a2f-932f-73314c5c7409\">\n",
              "    <div class=\"colab-df-container\">\n",
              "      <div>\n",
              "<style scoped>\n",
              "    .dataframe tbody tr th:only-of-type {\n",
              "        vertical-align: middle;\n",
              "    }\n",
              "\n",
              "    .dataframe tbody tr th {\n",
              "        vertical-align: top;\n",
              "    }\n",
              "\n",
              "    .dataframe thead th {\n",
              "        text-align: right;\n",
              "    }\n",
              "</style>\n",
              "<table border=\"1\" class=\"dataframe\">\n",
              "  <thead>\n",
              "    <tr style=\"text-align: right;\">\n",
              "      <th></th>\n",
              "      <th>model</th>\n",
              "      <th>train_recall_score</th>\n",
              "      <th>test_recall_score</th>\n",
              "      <th>Time_Elapsed</th>\n",
              "    </tr>\n",
              "  </thead>\n",
              "  <tbody>\n",
              "    <tr>\n",
              "      <th>0</th>\n",
              "      <td>KNN</td>\n",
              "      <td>1.000000</td>\n",
              "      <td>0.983333</td>\n",
              "      <td>14.319875001907349 sec</td>\n",
              "    </tr>\n",
              "    <tr>\n",
              "      <th>1</th>\n",
              "      <td>Dtree</td>\n",
              "      <td>0.844073</td>\n",
              "      <td>0.827778</td>\n",
              "      <td>2.287346839904785 sec</td>\n",
              "    </tr>\n",
              "    <tr>\n",
              "      <th>2</th>\n",
              "      <td>LGR</td>\n",
              "      <td>1.000000</td>\n",
              "      <td>0.972222</td>\n",
              "      <td>27.216367959976196 sec</td>\n",
              "    </tr>\n",
              "    <tr>\n",
              "      <th>3</th>\n",
              "      <td>SVM</td>\n",
              "      <td>1.000000</td>\n",
              "      <td>0.979630</td>\n",
              "      <td>12.138502597808838 sec</td>\n",
              "    </tr>\n",
              "  </tbody>\n",
              "</table>\n",
              "</div>\n",
              "      <button class=\"colab-df-convert\" onclick=\"convertToInteractive('df-aade6c17-49cc-4a2f-932f-73314c5c7409')\"\n",
              "              title=\"Convert this dataframe to an interactive table.\"\n",
              "              style=\"display:none;\">\n",
              "        \n",
              "  <svg xmlns=\"http://www.w3.org/2000/svg\" height=\"24px\"viewBox=\"0 0 24 24\"\n",
              "       width=\"24px\">\n",
              "    <path d=\"M0 0h24v24H0V0z\" fill=\"none\"/>\n",
              "    <path d=\"M18.56 5.44l.94 2.06.94-2.06 2.06-.94-2.06-.94-.94-2.06-.94 2.06-2.06.94zm-11 1L8.5 8.5l.94-2.06 2.06-.94-2.06-.94L8.5 2.5l-.94 2.06-2.06.94zm10 10l.94 2.06.94-2.06 2.06-.94-2.06-.94-.94-2.06-.94 2.06-2.06.94z\"/><path d=\"M17.41 7.96l-1.37-1.37c-.4-.4-.92-.59-1.43-.59-.52 0-1.04.2-1.43.59L10.3 9.45l-7.72 7.72c-.78.78-.78 2.05 0 2.83L4 21.41c.39.39.9.59 1.41.59.51 0 1.02-.2 1.41-.59l7.78-7.78 2.81-2.81c.8-.78.8-2.07 0-2.86zM5.41 20L4 18.59l7.72-7.72 1.47 1.35L5.41 20z\"/>\n",
              "  </svg>\n",
              "      </button>\n",
              "      \n",
              "  <style>\n",
              "    .colab-df-container {\n",
              "      display:flex;\n",
              "      flex-wrap:wrap;\n",
              "      gap: 12px;\n",
              "    }\n",
              "\n",
              "    .colab-df-convert {\n",
              "      background-color: #E8F0FE;\n",
              "      border: none;\n",
              "      border-radius: 50%;\n",
              "      cursor: pointer;\n",
              "      display: none;\n",
              "      fill: #1967D2;\n",
              "      height: 32px;\n",
              "      padding: 0 0 0 0;\n",
              "      width: 32px;\n",
              "    }\n",
              "\n",
              "    .colab-df-convert:hover {\n",
              "      background-color: #E2EBFA;\n",
              "      box-shadow: 0px 1px 2px rgba(60, 64, 67, 0.3), 0px 1px 3px 1px rgba(60, 64, 67, 0.15);\n",
              "      fill: #174EA6;\n",
              "    }\n",
              "\n",
              "    [theme=dark] .colab-df-convert {\n",
              "      background-color: #3B4455;\n",
              "      fill: #D2E3FC;\n",
              "    }\n",
              "\n",
              "    [theme=dark] .colab-df-convert:hover {\n",
              "      background-color: #434B5C;\n",
              "      box-shadow: 0px 1px 3px 1px rgba(0, 0, 0, 0.15);\n",
              "      filter: drop-shadow(0px 1px 2px rgba(0, 0, 0, 0.3));\n",
              "      fill: #FFFFFF;\n",
              "    }\n",
              "  </style>\n",
              "\n",
              "      <script>\n",
              "        const buttonEl =\n",
              "          document.querySelector('#df-aade6c17-49cc-4a2f-932f-73314c5c7409 button.colab-df-convert');\n",
              "        buttonEl.style.display =\n",
              "          google.colab.kernel.accessAllowed ? 'block' : 'none';\n",
              "\n",
              "        async function convertToInteractive(key) {\n",
              "          const element = document.querySelector('#df-aade6c17-49cc-4a2f-932f-73314c5c7409');\n",
              "          const dataTable =\n",
              "            await google.colab.kernel.invokeFunction('convertToInteractive',\n",
              "                                                     [key], {});\n",
              "          if (!dataTable) return;\n",
              "\n",
              "          const docLinkHtml = 'Like what you see? Visit the ' +\n",
              "            '<a target=\"_blank\" href=https://colab.research.google.com/notebooks/data_table.ipynb>data table notebook</a>'\n",
              "            + ' to learn more about interactive tables.';\n",
              "          element.innerHTML = '';\n",
              "          dataTable['output_type'] = 'display_data';\n",
              "          await google.colab.output.renderOutput(dataTable, element);\n",
              "          const docLink = document.createElement('div');\n",
              "          docLink.innerHTML = docLinkHtml;\n",
              "          element.appendChild(docLink);\n",
              "        }\n",
              "      </script>\n",
              "    </div>\n",
              "  </div>\n",
              "  "
            ]
          },
          "metadata": {},
          "execution_count": 63
        }
      ]
    },
    {
      "cell_type": "code",
      "source": [],
      "metadata": {
        "id": "p6ab871H-9hB"
      },
      "execution_count": null,
      "outputs": []
    }
  ]
}